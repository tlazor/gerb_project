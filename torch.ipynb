{
 "cells": [
  {
   "cell_type": "code",
   "execution_count": 1,
   "metadata": {},
   "outputs": [
    {
     "name": "stdout",
     "output_type": "stream",
     "text": [
      "Using device: cuda\n"
     ]
    }
   ],
   "source": [
    "import torch\n",
    "import random\n",
    "\n",
    "random_seed = 42\n",
    "\n",
    "# 1. Set the `PYTHONHASHSEED` environment variable at a fixed value\n",
    "import os\n",
    "os.environ['PYTHONHASHSEED']=str(random_seed)\n",
    "\n",
    "# 2. Set the `python` built-in pseudo-random generator at a fixed value\n",
    "import random\n",
    "random.seed(random_seed)\n",
    "\n",
    "# 3. Set the `numpy` pseudo-random generator at a fixed value\n",
    "import numpy as np\n",
    "np.random.seed(random_seed)\n",
    " \n",
    "# Set a random seed for PyTorch (for GPU as well)\n",
    "torch.manual_seed(random_seed)\n",
    "if torch.cuda.is_available():\n",
    "    torch.cuda.manual_seed_all(random_seed)\n",
    "\n",
    "DEVICE = torch.device('cuda' if torch.cuda.is_available() else 'cpu')\n",
    "print('Using device:', DEVICE)"
   ]
  },
  {
   "cell_type": "code",
   "execution_count": 2,
   "metadata": {},
   "outputs": [],
   "source": [
    "%load_ext autoreload\n",
    "%autoreload 2"
   ]
  },
  {
   "cell_type": "code",
   "execution_count": 3,
   "metadata": {},
   "outputs": [
    {
     "data": {
      "application/vnd.jupyter.widget-view+json": {
       "model_id": "4d6d5a9cd2404c6eb0a10548eed9050b",
       "version_major": 2,
       "version_minor": 0
      },
      "text/plain": [
       "Output()"
      ]
     },
     "metadata": {},
     "output_type": "display_data"
    },
    {
     "name": "stdout",
     "output_type": "stream",
     "text": [
      "Using author file: pan21\\train_authors\n",
      "Using embedding dir: pan21\\train_embeddings\n"
     ]
    },
    {
     "data": {
      "text/html": [
       "<pre style=\"white-space:pre;overflow-x:auto;line-height:normal;font-family:Menlo,'DejaVu Sans Mono',consolas,'Courier New',monospace\"></pre>\n"
      ],
      "text/plain": []
     },
     "metadata": {},
     "output_type": "display_data"
    },
    {
     "data": {
      "text/html": [
       "<pre style=\"white-space:pre;overflow-x:auto;line-height:normal;font-family:Menlo,'DejaVu Sans Mono',consolas,'Courier New',monospace\">\n",
       "</pre>\n"
      ],
      "text/plain": [
       "\n"
      ]
     },
     "metadata": {},
     "output_type": "display_data"
    },
    {
     "data": {
      "application/vnd.jupyter.widget-view+json": {
       "model_id": "bcafb1a7246f4185ad6bec5c5ce45523",
       "version_major": 2,
       "version_minor": 0
      },
      "text/plain": [
       "Output()"
      ]
     },
     "metadata": {},
     "output_type": "display_data"
    },
    {
     "name": "stdout",
     "output_type": "stream",
     "text": [
      "Using author file: pan21\\validation_authors\n",
      "Using embedding dir: pan21\\validation_embeddings\n"
     ]
    },
    {
     "data": {
      "text/html": [
       "<pre style=\"white-space:pre;overflow-x:auto;line-height:normal;font-family:Menlo,'DejaVu Sans Mono',consolas,'Courier New',monospace\"></pre>\n"
      ],
      "text/plain": []
     },
     "metadata": {},
     "output_type": "display_data"
    },
    {
     "data": {
      "text/html": [
       "<pre style=\"white-space:pre;overflow-x:auto;line-height:normal;font-family:Menlo,'DejaVu Sans Mono',consolas,'Courier New',monospace\">\n",
       "</pre>\n"
      ],
      "text/plain": [
       "\n"
      ]
     },
     "metadata": {},
     "output_type": "display_data"
    }
   ],
   "source": [
    "from torch.utils.data import DataLoader\n",
    "from rich.progress import track\n",
    "\n",
    "from binary_dataset import BinaryDataset\n",
    "\n",
    "batch_size = 32\n",
    "tokens_per_paragraph = 256  # Fixed number of tokens per paragraph\n",
    "\n",
    "train_dataset = BinaryDataset(\"pan21/train\", \"pan21/train\")\n",
    "val_dataset = BinaryDataset(\"pan21/validation\", \"pan21/validation\")\n",
    "\n",
    "# dataloader seems wonky, always returns tuple len 2 with default collate fn\n",
    "def collate_fn(batch):\n",
    "    # Separate each tuple into two lists\n",
    "    x = [item[0] for item in batch]\n",
    "    y = torch.stack([item[1] for item in batch]).view(len(batch), 1)\n",
    "\n",
    "    return x, y\n",
    "dataloader = DataLoader(train_dataset, batch_size=batch_size, shuffle=False, collate_fn=collate_fn)\n",
    "val_dataloader = DataLoader(val_dataset, batch_size=batch_size, shuffle=False, collate_fn=collate_fn)"
   ]
  },
  {
   "cell_type": "code",
   "execution_count": 4,
   "metadata": {},
   "outputs": [
    {
     "name": "stderr",
     "output_type": "stream",
     "text": [
      "c:\\Users\\thoma\\Documents\\croatia\\masters\\semester2\\text_analysis\\tar_project\\.venv311\\Lib\\site-packages\\cupy\\_environment.py:216: UserWarning: CUDA path could not be detected. Set CUDA_PATH environment variable if CuPy fails to load.\n",
      "  warnings.warn(\n"
     ]
    }
   ],
   "source": [
    "import torch\n",
    "import torch.nn as nn\n",
    "import cupy as cp\n",
    "from cupy.fft import fft\n",
    "\n",
    "class ParagraphLabelingModelWithBERT(nn.Module):\n",
    "    def __init__(self, tokens_per_paragraph, output_dim, fourier=False):\n",
    "        super(ParagraphLabelingModelWithBERT, self).__init__()\n",
    "        \n",
    "        self.fourier = fourier\n",
    "        self.tokens_per_paragraph = tokens_per_paragraph\n",
    "\n",
    "        bert_embedding_dimension = 768\n",
    "        input_size = bert_embedding_dimension*self.tokens_per_paragraph*2\n",
    "        self.fc = nn.Linear(input_size, output_dim, device=DEVICE)\n",
    "        # self.fc = nn.Linear(input_size, output_dim*512, device=DEVICE)\n",
    "        # self.fc2 = nn.Linear(output_dim*512, output_dim*256, device=DEVICE)\n",
    "        # self.fc3 = nn.Linear(output_dim*256, output_dim, device=DEVICE)\n",
    "\n",
    "    def forward(self, paragraph_pair):\n",
    "        # Tokenize paragraphs\n",
    "        # print(paragraphs)\n",
    "\n",
    "        # batches come as lists, individual examples as tuples\n",
    "        if isinstance(paragraph_pair, tuple) and len(paragraph_pair) == 2:\n",
    "            paragraph_pair = [paragraph_pair]\n",
    "\n",
    "        # print(f\"{len(paragraph_pair)=} {len(paragraph_pair[0])=}\")\n",
    "        # print(f\"{paragraph_pair[0]=}\")\n",
    "        \n",
    "        if self.fourier:\n",
    "            paragraph_pair = [\n",
    "                    (torch.tensor(cp.real(fft(cp.asarray(p1), axis=1)), device=DEVICE), \n",
    "                    torch.tensor(cp.real(fft(cp.asarray(p2), axis=1)), device=DEVICE))\n",
    "                for (p1, p2) in paragraph_pair\n",
    "                ]\n",
    "\n",
    "        x = self.fc(torch.stack([torch.flatten(torch.cat((p[0].squeeze(0), p[1].squeeze(0)), dim=0)) for p in paragraph_pair]))\n",
    "        # print(f\"{x.shape=}\")\n",
    "\n",
    "        \n",
    "        \n",
    "        # x = self.fc3(self.fc2(self.fc(x)))\n",
    "        # x = self.fc(x)\n",
    "        x = torch.sigmoid(x)\n",
    "        return x"
   ]
  },
  {
   "cell_type": "code",
   "execution_count": null,
   "metadata": {},
   "outputs": [],
   "source": [
    "import datetime\n",
    "from rich.progress import Progress\n",
    "from pathlib import Path\n",
    "\n",
    "# Model parameters\n",
    "bert_model_name = 'bert-base-uncased'\n",
    "output_dim = 1    # Number of classes\n",
    "lr_exps = range(4, 8)\n",
    "# lr_exps = [6]\n",
    "# fourier = True\n",
    "num_epochs = 10\n",
    "\n",
    "for fourier in (False, True):\n",
    "    for lr_exponent in lr_exps:\n",
    "        lr = 1/10**lr_exponent\n",
    "        model = ParagraphLabelingModelWithBERT(tokens_per_paragraph, output_dim, fourier=fourier)\n",
    "\n",
    "        criterion = nn.BCELoss()\n",
    "        # learning rate is important, .001 led to always outputting 1\n",
    "        optimizer = torch.optim.Adam(model.parameters(), lr=lr)\n",
    "\n",
    "        with Progress() as pb:\n",
    "            total_task = pb.add_task('Total', total=num_epochs)\n",
    "\n",
    "            for epoch in range(num_epochs):\n",
    "                epoch_task = pb.add_task(f'Epoch {epoch}', total=len(dataloader))\n",
    "\n",
    "                model.train()\n",
    "                for inputs, targets in dataloader:\n",
    "                    # print(f\"{type(inputs)=} {len(inputs)=}\")\n",
    "                    # print(f\"{type(inputs[0])=}\")\n",
    "                    # print(f\"{targets.shape=}\")\n",
    "                    \n",
    "                    optimizer.zero_grad()\n",
    "\n",
    "                    # Forward pass\n",
    "                    outputs = model(inputs)\n",
    "                    # print(f\"{outputs.shape=}\")\n",
    "\n",
    "                    # Compute the loss\n",
    "                    loss = criterion(outputs, targets)\n",
    "\n",
    "                    # Backward pass and optimization\n",
    "                    loss.backward()\n",
    "                    optimizer.step()\n",
    "\n",
    "                    pb.update(epoch_task, advance=1)\n",
    "\n",
    "                metadata = {\n",
    "                    'epoch': epoch,\n",
    "                    'loss': loss.item(),\n",
    "                    'optimizer_state': 'Adam',\n",
    "                    'lr': lr,\n",
    "                    'fourier': fourier,\n",
    "                    'tokens_per_paragraph': tokens_per_paragraph,\n",
    "                }\n",
    "                state_dict = model.state_dict()\n",
    "                state_dict['metadata'] = metadata\n",
    "\n",
    "                print(f\"{model.state_dict()['metadata']=}\")\n",
    "\n",
    "                print(f'Epoch [{epoch+1}/{num_epochs}], Loss: {loss.item():.4f}')\n",
    "                pb.update(total_task, advance=1)\n",
    "                torch.save(model.state_dict(), Path(f\"{datetime.datetime.now().strftime('%Y_%m_%d-%I_%M_%S_%p')}_e{epoch}.torch\"))\n"
   ]
  },
  {
   "cell_type": "code",
   "execution_count": 30,
   "metadata": {},
   "outputs": [
    {
     "data": {
      "application/vnd.jupyter.widget-view+json": {
       "model_id": "5658eca57fcc4621aef832054238d794",
       "version_major": 2,
       "version_minor": 0
      },
      "text/plain": [
       "Output()"
      ]
     },
     "metadata": {},
     "output_type": "display_data"
    },
    {
     "data": {
      "text/html": [
       "<pre style=\"white-space:pre;overflow-x:auto;line-height:normal;font-family:Menlo,'DejaVu Sans Mono',consolas,'Courier New',monospace\">hey\n",
       "</pre>\n"
      ],
      "text/plain": [
       "hey\n"
      ]
     },
     "metadata": {},
     "output_type": "display_data"
    },
    {
     "data": {
      "text/html": [
       "<pre style=\"white-space:pre;overflow-x:auto;line-height:normal;font-family:Menlo,'DejaVu Sans Mono',consolas,'Courier New',monospace\">hey\n",
       "</pre>\n"
      ],
      "text/plain": [
       "hey\n"
      ]
     },
     "metadata": {},
     "output_type": "display_data"
    },
    {
     "data": {
      "text/html": [
       "<pre style=\"white-space:pre;overflow-x:auto;line-height:normal;font-family:Menlo,'DejaVu Sans Mono',consolas,'Courier New',monospace\">hey\n",
       "</pre>\n"
      ],
      "text/plain": [
       "hey\n"
      ]
     },
     "metadata": {},
     "output_type": "display_data"
    },
    {
     "data": {
      "text/html": [
       "<pre style=\"white-space:pre;overflow-x:auto;line-height:normal;font-family:Menlo,'DejaVu Sans Mono',consolas,'Courier New',monospace\">hey\n",
       "</pre>\n"
      ],
      "text/plain": [
       "hey\n"
      ]
     },
     "metadata": {},
     "output_type": "display_data"
    },
    {
     "data": {
      "text/html": [
       "<pre style=\"white-space:pre;overflow-x:auto;line-height:normal;font-family:Menlo,'DejaVu Sans Mono',consolas,'Courier New',monospace\">hey\n",
       "</pre>\n"
      ],
      "text/plain": [
       "hey\n"
      ]
     },
     "metadata": {},
     "output_type": "display_data"
    },
    {
     "data": {
      "text/html": [
       "<pre style=\"white-space:pre;overflow-x:auto;line-height:normal;font-family:Menlo,'DejaVu Sans Mono',consolas,'Courier New',monospace\">hey\n",
       "</pre>\n"
      ],
      "text/plain": [
       "hey\n"
      ]
     },
     "metadata": {},
     "output_type": "display_data"
    },
    {
     "data": {
      "text/html": [
       "<pre style=\"white-space:pre;overflow-x:auto;line-height:normal;font-family:Menlo,'DejaVu Sans Mono',consolas,'Courier New',monospace\">hey\n",
       "</pre>\n"
      ],
      "text/plain": [
       "hey\n"
      ]
     },
     "metadata": {},
     "output_type": "display_data"
    },
    {
     "data": {
      "text/html": [
       "<pre style=\"white-space:pre;overflow-x:auto;line-height:normal;font-family:Menlo,'DejaVu Sans Mono',consolas,'Courier New',monospace\">hey\n",
       "</pre>\n"
      ],
      "text/plain": [
       "hey\n"
      ]
     },
     "metadata": {},
     "output_type": "display_data"
    },
    {
     "data": {
      "text/html": [
       "<pre style=\"white-space:pre;overflow-x:auto;line-height:normal;font-family:Menlo,'DejaVu Sans Mono',consolas,'Courier New',monospace\">hey\n",
       "</pre>\n"
      ],
      "text/plain": [
       "hey\n"
      ]
     },
     "metadata": {},
     "output_type": "display_data"
    },
    {
     "data": {
      "text/html": [
       "<pre style=\"white-space:pre;overflow-x:auto;line-height:normal;font-family:Menlo,'DejaVu Sans Mono',consolas,'Courier New',monospace\">hey\n",
       "</pre>\n"
      ],
      "text/plain": [
       "hey\n"
      ]
     },
     "metadata": {},
     "output_type": "display_data"
    },
    {
     "data": {
      "text/html": [
       "<pre style=\"white-space:pre;overflow-x:auto;line-height:normal;font-family:Menlo,'DejaVu Sans Mono',consolas,'Courier New',monospace\">hey\n",
       "</pre>\n"
      ],
      "text/plain": [
       "hey\n"
      ]
     },
     "metadata": {},
     "output_type": "display_data"
    },
    {
     "data": {
      "text/html": [
       "<pre style=\"white-space:pre;overflow-x:auto;line-height:normal;font-family:Menlo,'DejaVu Sans Mono',consolas,'Courier New',monospace\">hey\n",
       "</pre>\n"
      ],
      "text/plain": [
       "hey\n"
      ]
     },
     "metadata": {},
     "output_type": "display_data"
    },
    {
     "data": {
      "text/html": [
       "<pre style=\"white-space:pre;overflow-x:auto;line-height:normal;font-family:Menlo,'DejaVu Sans Mono',consolas,'Courier New',monospace\">hey\n",
       "</pre>\n"
      ],
      "text/plain": [
       "hey\n"
      ]
     },
     "metadata": {},
     "output_type": "display_data"
    },
    {
     "data": {
      "text/html": [
       "<pre style=\"white-space:pre;overflow-x:auto;line-height:normal;font-family:Menlo,'DejaVu Sans Mono',consolas,'Courier New',monospace\">hey\n",
       "</pre>\n"
      ],
      "text/plain": [
       "hey\n"
      ]
     },
     "metadata": {},
     "output_type": "display_data"
    },
    {
     "data": {
      "text/html": [
       "<pre style=\"white-space:pre;overflow-x:auto;line-height:normal;font-family:Menlo,'DejaVu Sans Mono',consolas,'Courier New',monospace\">hey\n",
       "</pre>\n"
      ],
      "text/plain": [
       "hey\n"
      ]
     },
     "metadata": {},
     "output_type": "display_data"
    },
    {
     "data": {
      "text/html": [
       "<pre style=\"white-space:pre;overflow-x:auto;line-height:normal;font-family:Menlo,'DejaVu Sans Mono',consolas,'Courier New',monospace\">hey\n",
       "</pre>\n"
      ],
      "text/plain": [
       "hey\n"
      ]
     },
     "metadata": {},
     "output_type": "display_data"
    },
    {
     "data": {
      "text/html": [
       "<pre style=\"white-space:pre;overflow-x:auto;line-height:normal;font-family:Menlo,'DejaVu Sans Mono',consolas,'Courier New',monospace\">hey\n",
       "</pre>\n"
      ],
      "text/plain": [
       "hey\n"
      ]
     },
     "metadata": {},
     "output_type": "display_data"
    },
    {
     "data": {
      "text/html": [
       "<pre style=\"white-space:pre;overflow-x:auto;line-height:normal;font-family:Menlo,'DejaVu Sans Mono',consolas,'Courier New',monospace\">hey\n",
       "</pre>\n"
      ],
      "text/plain": [
       "hey\n"
      ]
     },
     "metadata": {},
     "output_type": "display_data"
    },
    {
     "data": {
      "text/html": [
       "<pre style=\"white-space:pre;overflow-x:auto;line-height:normal;font-family:Menlo,'DejaVu Sans Mono',consolas,'Courier New',monospace\">hey\n",
       "</pre>\n"
      ],
      "text/plain": [
       "hey\n"
      ]
     },
     "metadata": {},
     "output_type": "display_data"
    },
    {
     "data": {
      "text/html": [
       "<pre style=\"white-space:pre;overflow-x:auto;line-height:normal;font-family:Menlo,'DejaVu Sans Mono',consolas,'Courier New',monospace\">hey\n",
       "</pre>\n"
      ],
      "text/plain": [
       "hey\n"
      ]
     },
     "metadata": {},
     "output_type": "display_data"
    },
    {
     "data": {
      "text/html": [
       "<pre style=\"white-space:pre;overflow-x:auto;line-height:normal;font-family:Menlo,'DejaVu Sans Mono',consolas,'Courier New',monospace\">hey\n",
       "</pre>\n"
      ],
      "text/plain": [
       "hey\n"
      ]
     },
     "metadata": {},
     "output_type": "display_data"
    },
    {
     "data": {
      "text/html": [
       "<pre style=\"white-space:pre;overflow-x:auto;line-height:normal;font-family:Menlo,'DejaVu Sans Mono',consolas,'Courier New',monospace\">hey\n",
       "</pre>\n"
      ],
      "text/plain": [
       "hey\n"
      ]
     },
     "metadata": {},
     "output_type": "display_data"
    },
    {
     "data": {
      "text/html": [
       "<pre style=\"white-space:pre;overflow-x:auto;line-height:normal;font-family:Menlo,'DejaVu Sans Mono',consolas,'Courier New',monospace\">hey\n",
       "</pre>\n"
      ],
      "text/plain": [
       "hey\n"
      ]
     },
     "metadata": {},
     "output_type": "display_data"
    },
    {
     "data": {
      "text/html": [
       "<pre style=\"white-space:pre;overflow-x:auto;line-height:normal;font-family:Menlo,'DejaVu Sans Mono',consolas,'Courier New',monospace\">hey\n",
       "</pre>\n"
      ],
      "text/plain": [
       "hey\n"
      ]
     },
     "metadata": {},
     "output_type": "display_data"
    },
    {
     "data": {
      "text/html": [
       "<pre style=\"white-space:pre;overflow-x:auto;line-height:normal;font-family:Menlo,'DejaVu Sans Mono',consolas,'Courier New',monospace\">hey\n",
       "</pre>\n"
      ],
      "text/plain": [
       "hey\n"
      ]
     },
     "metadata": {},
     "output_type": "display_data"
    },
    {
     "data": {
      "text/html": [
       "<pre style=\"white-space:pre;overflow-x:auto;line-height:normal;font-family:Menlo,'DejaVu Sans Mono',consolas,'Courier New',monospace\">hey\n",
       "</pre>\n"
      ],
      "text/plain": [
       "hey\n"
      ]
     },
     "metadata": {},
     "output_type": "display_data"
    },
    {
     "data": {
      "text/html": [
       "<pre style=\"white-space:pre;overflow-x:auto;line-height:normal;font-family:Menlo,'DejaVu Sans Mono',consolas,'Courier New',monospace\">hey\n",
       "</pre>\n"
      ],
      "text/plain": [
       "hey\n"
      ]
     },
     "metadata": {},
     "output_type": "display_data"
    },
    {
     "data": {
      "text/html": [
       "<pre style=\"white-space:pre;overflow-x:auto;line-height:normal;font-family:Menlo,'DejaVu Sans Mono',consolas,'Courier New',monospace\">hey\n",
       "</pre>\n"
      ],
      "text/plain": [
       "hey\n"
      ]
     },
     "metadata": {},
     "output_type": "display_data"
    },
    {
     "data": {
      "text/html": [
       "<pre style=\"white-space:pre;overflow-x:auto;line-height:normal;font-family:Menlo,'DejaVu Sans Mono',consolas,'Courier New',monospace\"></pre>\n"
      ],
      "text/plain": []
     },
     "metadata": {},
     "output_type": "display_data"
    },
    {
     "data": {
      "text/html": [
       "<pre style=\"white-space:pre;overflow-x:auto;line-height:normal;font-family:Menlo,'DejaVu Sans Mono',consolas,'Courier New',monospace\">\n",
       "</pre>\n"
      ],
      "text/plain": [
       "\n"
      ]
     },
     "metadata": {},
     "output_type": "display_data"
    },
    {
     "ename": "KeyboardInterrupt",
     "evalue": "",
     "output_type": "error",
     "traceback": [
      "\u001b[1;31m---------------------------------------------------------------------------\u001b[0m",
      "\u001b[1;31mKeyboardInterrupt\u001b[0m                         Traceback (most recent call last)",
      "Cell \u001b[1;32mIn[30], line 32\u001b[0m\n\u001b[0;32m     20\u001b[0m \u001b[38;5;66;03m# val_loss = 0\u001b[39;00m\n\u001b[0;32m     21\u001b[0m \u001b[38;5;66;03m# criterion = nn.BCELoss()\u001b[39;00m\n\u001b[0;32m     22\u001b[0m \n\u001b[1;32m   (...)\u001b[0m\n\u001b[0;32m     28\u001b[0m \n\u001b[0;32m     29\u001b[0m \u001b[38;5;66;03m# print(f'Validation Loss: {val_loss/len(val_dataloader):.4f}')\u001b[39;00m\n\u001b[0;32m     31\u001b[0m \u001b[38;5;28;01mfrom\u001b[39;00m \u001b[38;5;21;01mprediction\u001b[39;00m \u001b[38;5;28;01mimport\u001b[39;00m build_prediction_dict\n\u001b[1;32m---> 32\u001b[0m prediction_dicts \u001b[38;5;241m=\u001b[39m \u001b[43mbuild_prediction_dict\u001b[49m\u001b[43m(\u001b[49m\u001b[43mmodels\u001b[49m\u001b[43m,\u001b[49m\u001b[43m \u001b[49m\u001b[43mval_dataset\u001b[49m\u001b[43m)\u001b[49m\n",
      "File \u001b[1;32mc:\\Users\\thoma\\Documents\\croatia\\masters\\semester2\\text_analysis\\tar_project\\prediction.py:87\u001b[0m, in \u001b[0;36mbuild_prediction_dict\u001b[1;34m(models, val_dataset)\u001b[0m\n\u001b[0;32m     84\u001b[0m \u001b[38;5;28;01mif\u001b[39;00m problem_num \u001b[38;5;241m==\u001b[39m \u001b[38;5;241m56\u001b[39m:\n\u001b[0;32m     85\u001b[0m     \u001b[38;5;28mprint\u001b[39m(\u001b[38;5;124mf\u001b[39m\u001b[38;5;124m\"\u001b[39m\u001b[38;5;124mhey\u001b[39m\u001b[38;5;124m\"\u001b[39m)\n\u001b[1;32m---> 87\u001b[0m \u001b[38;5;28;01mif\u001b[39;00m \u001b[43mproblem_num\u001b[49m \u001b[38;5;129;01mnot\u001b[39;00m \u001b[38;5;129;01min\u001b[39;00m prediction_dict:\n\u001b[0;32m     88\u001b[0m     prediction_dict[problem_num] \u001b[38;5;241m=\u001b[39m {}\n\u001b[0;32m     89\u001b[0m prediction_dict[problem_num][(para_a_num, para_b_num)] \u001b[38;5;241m=\u001b[39m prediction\u001b[38;5;241m.\u001b[39mitem()\n",
      "File \u001b[1;32mc:\\Users\\thoma\\Documents\\croatia\\masters\\semester2\\text_analysis\\tar_project\\prediction.py:87\u001b[0m, in \u001b[0;36mbuild_prediction_dict\u001b[1;34m(models, val_dataset)\u001b[0m\n\u001b[0;32m     84\u001b[0m \u001b[38;5;28;01mif\u001b[39;00m problem_num \u001b[38;5;241m==\u001b[39m \u001b[38;5;241m56\u001b[39m:\n\u001b[0;32m     85\u001b[0m     \u001b[38;5;28mprint\u001b[39m(\u001b[38;5;124mf\u001b[39m\u001b[38;5;124m\"\u001b[39m\u001b[38;5;124mhey\u001b[39m\u001b[38;5;124m\"\u001b[39m)\n\u001b[1;32m---> 87\u001b[0m \u001b[38;5;28;01mif\u001b[39;00m \u001b[43mproblem_num\u001b[49m \u001b[38;5;129;01mnot\u001b[39;00m \u001b[38;5;129;01min\u001b[39;00m prediction_dict:\n\u001b[0;32m     88\u001b[0m     prediction_dict[problem_num] \u001b[38;5;241m=\u001b[39m {}\n\u001b[0;32m     89\u001b[0m prediction_dict[problem_num][(para_a_num, para_b_num)] \u001b[38;5;241m=\u001b[39m prediction\u001b[38;5;241m.\u001b[39mitem()\n",
      "File \u001b[1;32m_pydevd_bundle/pydevd_cython.pyx:1457\u001b[0m, in \u001b[0;36m_pydevd_bundle.pydevd_cython.SafeCallWrapper.__call__\u001b[1;34m()\u001b[0m\n",
      "File \u001b[1;32m_pydevd_bundle/pydevd_cython.pyx:701\u001b[0m, in \u001b[0;36m_pydevd_bundle.pydevd_cython.PyDBFrame.trace_dispatch\u001b[1;34m()\u001b[0m\n",
      "File \u001b[1;32m_pydevd_bundle/pydevd_cython.pyx:1152\u001b[0m, in \u001b[0;36m_pydevd_bundle.pydevd_cython.PyDBFrame.trace_dispatch\u001b[1;34m()\u001b[0m\n",
      "File \u001b[1;32m_pydevd_bundle/pydevd_cython.pyx:1135\u001b[0m, in \u001b[0;36m_pydevd_bundle.pydevd_cython.PyDBFrame.trace_dispatch\u001b[1;34m()\u001b[0m\n",
      "File \u001b[1;32m_pydevd_bundle/pydevd_cython.pyx:312\u001b[0m, in \u001b[0;36m_pydevd_bundle.pydevd_cython.PyDBFrame.do_wait_suspend\u001b[1;34m()\u001b[0m\n",
      "File \u001b[1;32mc:\\Users\\thoma\\Documents\\croatia\\masters\\semester2\\text_analysis\\tar_project\\.venv311\\Lib\\site-packages\\debugpy\\_vendored\\pydevd\\pydevd.py:2070\u001b[0m, in \u001b[0;36mPyDB.do_wait_suspend\u001b[1;34m(self, thread, frame, event, arg, exception_type)\u001b[0m\n\u001b[0;32m   2067\u001b[0m             from_this_thread\u001b[38;5;241m.\u001b[39mappend(frame_custom_thread_id)\n\u001b[0;32m   2069\u001b[0m     \u001b[38;5;28;01mwith\u001b[39;00m \u001b[38;5;28mself\u001b[39m\u001b[38;5;241m.\u001b[39m_threads_suspended_single_notification\u001b[38;5;241m.\u001b[39mnotify_thread_suspended(thread_id, thread, stop_reason):\n\u001b[1;32m-> 2070\u001b[0m         keep_suspended \u001b[38;5;241m=\u001b[39m \u001b[38;5;28;43mself\u001b[39;49m\u001b[38;5;241;43m.\u001b[39;49m\u001b[43m_do_wait_suspend\u001b[49m\u001b[43m(\u001b[49m\u001b[43mthread\u001b[49m\u001b[43m,\u001b[49m\u001b[43m \u001b[49m\u001b[43mframe\u001b[49m\u001b[43m,\u001b[49m\u001b[43m \u001b[49m\u001b[43mevent\u001b[49m\u001b[43m,\u001b[49m\u001b[43m \u001b[49m\u001b[43marg\u001b[49m\u001b[43m,\u001b[49m\u001b[43m \u001b[49m\u001b[43msuspend_type\u001b[49m\u001b[43m,\u001b[49m\u001b[43m \u001b[49m\u001b[43mfrom_this_thread\u001b[49m\u001b[43m,\u001b[49m\u001b[43m \u001b[49m\u001b[43mframes_tracker\u001b[49m\u001b[43m)\u001b[49m\n\u001b[0;32m   2072\u001b[0m frames_list \u001b[38;5;241m=\u001b[39m \u001b[38;5;28;01mNone\u001b[39;00m\n\u001b[0;32m   2074\u001b[0m \u001b[38;5;28;01mif\u001b[39;00m keep_suspended:\n\u001b[0;32m   2075\u001b[0m     \u001b[38;5;66;03m# This means that we should pause again after a set next statement.\u001b[39;00m\n",
      "File \u001b[1;32mc:\\Users\\thoma\\Documents\\croatia\\masters\\semester2\\text_analysis\\tar_project\\.venv311\\Lib\\site-packages\\debugpy\\_vendored\\pydevd\\pydevd.py:2106\u001b[0m, in \u001b[0;36mPyDB._do_wait_suspend\u001b[1;34m(self, thread, frame, event, arg, suspend_type, from_this_thread, frames_tracker)\u001b[0m\n\u001b[0;32m   2103\u001b[0m         \u001b[38;5;28mself\u001b[39m\u001b[38;5;241m.\u001b[39m_call_input_hook()\n\u001b[0;32m   2105\u001b[0m     \u001b[38;5;28mself\u001b[39m\u001b[38;5;241m.\u001b[39mprocess_internal_commands()\n\u001b[1;32m-> 2106\u001b[0m     time\u001b[38;5;241m.\u001b[39msleep(\u001b[38;5;241m0.01\u001b[39m)\n\u001b[0;32m   2108\u001b[0m \u001b[38;5;28mself\u001b[39m\u001b[38;5;241m.\u001b[39mcancel_async_evaluation(get_current_thread_id(thread), \u001b[38;5;28mstr\u001b[39m(\u001b[38;5;28mid\u001b[39m(frame)))\n\u001b[0;32m   2110\u001b[0m \u001b[38;5;66;03m# process any stepping instructions\u001b[39;00m\n",
      "\u001b[1;31mKeyboardInterrupt\u001b[0m: "
     ]
    }
   ],
   "source": [
    "# best vanilla\n",
    "# eval_dict = torch.load(\"checkpoints/2024_07_28-02_09_54_AM_e9.torch\")\n",
    "# best fourier\n",
    "# eval_dict = torch.load(\"checkpoints/2024_07_28-02_56_01_AM_e9.torch\")\n",
    "\n",
    "model_paths = [\n",
    "    \"checkpoints/2024_07_28-02_09_54_AM_e9.torch\",\n",
    "    \"checkpoints/2024_07_28-02_56_01_AM_e9.torch\",\n",
    "]\n",
    "models = []\n",
    "\n",
    "for model_path in model_paths:\n",
    "    output_dim = 1\n",
    "    eval_dict = torch.load(model_path)\n",
    "    model = ParagraphLabelingModelWithBERT(tokens_per_paragraph, output_dim)\n",
    "    model.load_state_dict(eval_dict)\n",
    "    model.eval()\n",
    "    models.append(model)\n",
    "\n",
    "# val_loss = 0\n",
    "# criterion = nn.BCELoss()\n",
    "\n",
    "# for input, target in val_dataloader:\n",
    "#     with torch.no_grad():\n",
    "#         val_outputs = model(input)\n",
    "        \n",
    "#         val_loss += criterion(val_outputs.view(-1, output_dim), target).item()\n",
    "\n",
    "# print(f'Validation Loss: {val_loss/len(val_dataloader):.4f}')\n",
    "\n",
    "from prediction import build_prediction_dict\n",
    "prediction_dicts = build_prediction_dict(models, val_dataset)"
   ]
  },
  {
   "cell_type": "code",
   "execution_count": 26,
   "metadata": {},
   "outputs": [
    {
     "name": "stdout",
     "output_type": "stream",
     "text": [
      "num_clusters=1 bug\n"
     ]
    },
    {
     "ename": "KeyboardInterrupt",
     "evalue": "",
     "output_type": "error",
     "traceback": [
      "\u001b[1;31m---------------------------------------------------------------------------\u001b[0m",
      "\u001b[1;31mKeyboardInterrupt\u001b[0m                         Traceback (most recent call last)",
      "Cell \u001b[1;32mIn[26], line 3\u001b[0m\n\u001b[0;32m      1\u001b[0m \u001b[38;5;28;01mfrom\u001b[39;00m \u001b[38;5;21;01mprediction\u001b[39;00m \u001b[38;5;28;01mimport\u001b[39;00m compute_scores, build_json_predictions\n\u001b[0;32m      2\u001b[0m \u001b[38;5;28;01mfor\u001b[39;00m model_path, prediction_dict \u001b[38;5;129;01min\u001b[39;00m \u001b[38;5;28mzip\u001b[39m(model_paths, prediction_dicts):\n\u001b[1;32m----> 3\u001b[0m     dict_of_jsons_result \u001b[38;5;241m=\u001b[39m \u001b[43mbuild_json_predictions\u001b[49m\u001b[43m(\u001b[49m\u001b[43mprediction_dict\u001b[49m\u001b[43m)\u001b[49m\n\u001b[0;32m      5\u001b[0m     \u001b[38;5;28;01mfrom\u001b[39;00m \u001b[38;5;21;01mevaluation\u001b[39;00m\u001b[38;5;21;01m.\u001b[39;00m\u001b[38;5;21;01mevaluator\u001b[39;00m \u001b[38;5;28;01mimport\u001b[39;00m read_ground_truth_files\n\u001b[0;32m      6\u001b[0m     truth \u001b[38;5;241m=\u001b[39m read_ground_truth_files(\u001b[38;5;124m\"\u001b[39m\u001b[38;5;124mpan21/validation\u001b[39m\u001b[38;5;124m\"\u001b[39m)\n",
      "File \u001b[1;32mc:\\Users\\thoma\\Documents\\croatia\\masters\\semester2\\text_analysis\\tar_project\\prediction.py:159\u001b[0m, in \u001b[0;36mbuild_json_predictions\u001b[1;34m(prediction_dict, threshold)\u001b[0m\n\u001b[0;32m    158\u001b[0m \u001b[38;5;28;01mdef\u001b[39;00m \u001b[38;5;21mbuild_json_predictions\u001b[39m(prediction_dict, threshold\u001b[38;5;241m=\u001b[39m\u001b[38;5;241m.5\u001b[39m):\n\u001b[1;32m--> 159\u001b[0m     \u001b[38;5;28;01mreturn\u001b[39;00m \u001b[43m{\u001b[49m\u001b[38;5;124;43mf\u001b[39;49m\u001b[38;5;124;43m\"\u001b[39;49m\u001b[38;5;124;43mproblem-\u001b[39;49m\u001b[38;5;132;43;01m{\u001b[39;49;00m\u001b[43mproblem_num\u001b[49m\u001b[38;5;132;43;01m}\u001b[39;49;00m\u001b[38;5;124;43m\"\u001b[39;49m\u001b[43m:\u001b[49m\u001b[43mmap_predictions_to_json\u001b[49m\u001b[43m(\u001b[49m\u001b[43mprediction_map\u001b[49m\u001b[43m,\u001b[49m\u001b[43m \u001b[49m\u001b[43mthreshold\u001b[49m\u001b[43m)\u001b[49m\u001b[43m \u001b[49m\u001b[38;5;28;43;01mfor\u001b[39;49;00m\u001b[43m \u001b[49m\u001b[43mproblem_num\u001b[49m\u001b[43m,\u001b[49m\u001b[43m \u001b[49m\u001b[43mprediction_map\u001b[49m\u001b[43m \u001b[49m\u001b[38;5;129;43;01min\u001b[39;49;00m\u001b[43m \u001b[49m\u001b[43mprediction_dict\u001b[49m\u001b[38;5;241;43m.\u001b[39;49m\u001b[43mitems\u001b[49m\u001b[43m(\u001b[49m\u001b[43m)\u001b[49m\u001b[43m}\u001b[49m\n",
      "File \u001b[1;32mc:\\Users\\thoma\\Documents\\croatia\\masters\\semester2\\text_analysis\\tar_project\\prediction.py:159\u001b[0m, in \u001b[0;36m<dictcomp>\u001b[1;34m(.0)\u001b[0m\n\u001b[0;32m    158\u001b[0m \u001b[38;5;28;01mdef\u001b[39;00m \u001b[38;5;21mbuild_json_predictions\u001b[39m(prediction_dict, threshold\u001b[38;5;241m=\u001b[39m\u001b[38;5;241m.5\u001b[39m):\n\u001b[1;32m--> 159\u001b[0m     \u001b[38;5;28;01mreturn\u001b[39;00m {\u001b[38;5;124mf\u001b[39m\u001b[38;5;124m\"\u001b[39m\u001b[38;5;124mproblem-\u001b[39m\u001b[38;5;132;01m{\u001b[39;00mproblem_num\u001b[38;5;132;01m}\u001b[39;00m\u001b[38;5;124m\"\u001b[39m:\u001b[43mmap_predictions_to_json\u001b[49m\u001b[43m(\u001b[49m\u001b[43mprediction_map\u001b[49m\u001b[43m,\u001b[49m\u001b[43m \u001b[49m\u001b[43mthreshold\u001b[49m\u001b[43m)\u001b[49m \u001b[38;5;28;01mfor\u001b[39;00m problem_num, prediction_map \u001b[38;5;129;01min\u001b[39;00m prediction_dict\u001b[38;5;241m.\u001b[39mitems()}\n",
      "File \u001b[1;32mc:\\Users\\thoma\\Documents\\croatia\\masters\\semester2\\text_analysis\\tar_project\\prediction.py:155\u001b[0m, in \u001b[0;36mmap_predictions_to_json\u001b[1;34m(prediction_map, threshold)\u001b[0m\n\u001b[0;32m    146\u001b[0m \u001b[38;5;66;03m# Construct the JSON object\u001b[39;00m\n\u001b[0;32m    147\u001b[0m data \u001b[38;5;241m=\u001b[39m {\n\u001b[0;32m    148\u001b[0m     \u001b[38;5;124m\"\u001b[39m\u001b[38;5;124mauthors\u001b[39m\u001b[38;5;124m\"\u001b[39m: \u001b[38;5;28mlen\u001b[39m(unique_authors),\n\u001b[0;32m    149\u001b[0m     \u001b[38;5;124m\"\u001b[39m\u001b[38;5;124mstructure\u001b[39m\u001b[38;5;124m\"\u001b[39m: [\u001b[38;5;241m999\u001b[39m],  \u001b[38;5;66;03m# Placeholder or specific requirement\u001b[39;00m\n\u001b[1;32m   (...)\u001b[0m\n\u001b[0;32m    153\u001b[0m     \u001b[38;5;124m\"\u001b[39m\u001b[38;5;124mparagraph-authors\u001b[39m\u001b[38;5;124m\"\u001b[39m: authors\n\u001b[0;32m    154\u001b[0m }\n\u001b[1;32m--> 155\u001b[0m \u001b[38;5;28;01mreturn\u001b[39;00m data\n",
      "File \u001b[1;32m_pydevd_bundle/pydevd_cython.pyx:1457\u001b[0m, in \u001b[0;36m_pydevd_bundle.pydevd_cython.SafeCallWrapper.__call__\u001b[1;34m()\u001b[0m\n",
      "File \u001b[1;32m_pydevd_bundle/pydevd_cython.pyx:701\u001b[0m, in \u001b[0;36m_pydevd_bundle.pydevd_cython.PyDBFrame.trace_dispatch\u001b[1;34m()\u001b[0m\n",
      "File \u001b[1;32m_pydevd_bundle/pydevd_cython.pyx:1395\u001b[0m, in \u001b[0;36m_pydevd_bundle.pydevd_cython.PyDBFrame.trace_dispatch\u001b[1;34m()\u001b[0m\n",
      "File \u001b[1;32m_pydevd_bundle/pydevd_cython.pyx:1373\u001b[0m, in \u001b[0;36m_pydevd_bundle.pydevd_cython.PyDBFrame.trace_dispatch\u001b[1;34m()\u001b[0m\n",
      "File \u001b[1;32m_pydevd_bundle/pydevd_cython.pyx:312\u001b[0m, in \u001b[0;36m_pydevd_bundle.pydevd_cython.PyDBFrame.do_wait_suspend\u001b[1;34m()\u001b[0m\n",
      "File \u001b[1;32mc:\\Users\\thoma\\Documents\\croatia\\masters\\semester2\\text_analysis\\tar_project\\.venv311\\Lib\\site-packages\\debugpy\\_vendored\\pydevd\\pydevd.py:2070\u001b[0m, in \u001b[0;36mPyDB.do_wait_suspend\u001b[1;34m(self, thread, frame, event, arg, exception_type)\u001b[0m\n\u001b[0;32m   2067\u001b[0m             from_this_thread\u001b[38;5;241m.\u001b[39mappend(frame_custom_thread_id)\n\u001b[0;32m   2069\u001b[0m     \u001b[38;5;28;01mwith\u001b[39;00m \u001b[38;5;28mself\u001b[39m\u001b[38;5;241m.\u001b[39m_threads_suspended_single_notification\u001b[38;5;241m.\u001b[39mnotify_thread_suspended(thread_id, thread, stop_reason):\n\u001b[1;32m-> 2070\u001b[0m         keep_suspended \u001b[38;5;241m=\u001b[39m \u001b[38;5;28;43mself\u001b[39;49m\u001b[38;5;241;43m.\u001b[39;49m\u001b[43m_do_wait_suspend\u001b[49m\u001b[43m(\u001b[49m\u001b[43mthread\u001b[49m\u001b[43m,\u001b[49m\u001b[43m \u001b[49m\u001b[43mframe\u001b[49m\u001b[43m,\u001b[49m\u001b[43m \u001b[49m\u001b[43mevent\u001b[49m\u001b[43m,\u001b[49m\u001b[43m \u001b[49m\u001b[43marg\u001b[49m\u001b[43m,\u001b[49m\u001b[43m \u001b[49m\u001b[43msuspend_type\u001b[49m\u001b[43m,\u001b[49m\u001b[43m \u001b[49m\u001b[43mfrom_this_thread\u001b[49m\u001b[43m,\u001b[49m\u001b[43m \u001b[49m\u001b[43mframes_tracker\u001b[49m\u001b[43m)\u001b[49m\n\u001b[0;32m   2072\u001b[0m frames_list \u001b[38;5;241m=\u001b[39m \u001b[38;5;28;01mNone\u001b[39;00m\n\u001b[0;32m   2074\u001b[0m \u001b[38;5;28;01mif\u001b[39;00m keep_suspended:\n\u001b[0;32m   2075\u001b[0m     \u001b[38;5;66;03m# This means that we should pause again after a set next statement.\u001b[39;00m\n",
      "File \u001b[1;32mc:\\Users\\thoma\\Documents\\croatia\\masters\\semester2\\text_analysis\\tar_project\\.venv311\\Lib\\site-packages\\debugpy\\_vendored\\pydevd\\pydevd.py:2106\u001b[0m, in \u001b[0;36mPyDB._do_wait_suspend\u001b[1;34m(self, thread, frame, event, arg, suspend_type, from_this_thread, frames_tracker)\u001b[0m\n\u001b[0;32m   2103\u001b[0m         \u001b[38;5;28mself\u001b[39m\u001b[38;5;241m.\u001b[39m_call_input_hook()\n\u001b[0;32m   2105\u001b[0m     \u001b[38;5;28mself\u001b[39m\u001b[38;5;241m.\u001b[39mprocess_internal_commands()\n\u001b[1;32m-> 2106\u001b[0m     time\u001b[38;5;241m.\u001b[39msleep(\u001b[38;5;241m0.01\u001b[39m)\n\u001b[0;32m   2108\u001b[0m \u001b[38;5;28mself\u001b[39m\u001b[38;5;241m.\u001b[39mcancel_async_evaluation(get_current_thread_id(thread), \u001b[38;5;28mstr\u001b[39m(\u001b[38;5;28mid\u001b[39m(frame)))\n\u001b[0;32m   2110\u001b[0m \u001b[38;5;66;03m# process any stepping instructions\u001b[39;00m\n",
      "\u001b[1;31mKeyboardInterrupt\u001b[0m: "
     ]
    }
   ],
   "source": [
    "from prediction import compute_scores, build_json_predictions\n",
    "for model_path, prediction_dict in zip(model_paths, prediction_dicts):\n",
    "    dict_of_jsons_result = build_json_predictions(prediction_dict)\n",
    "\n",
    "    from evaluation.evaluator import read_ground_truth_files\n",
    "    truth = read_ground_truth_files(\"pan21/validation\")\n",
    "\n",
    "    task1_result, task2_result, task3_result = compute_scores(truth, dict_of_jsons_result)\n",
    "\n",
    "    print(\n",
    "        f'Model: {model_path}\\n' +\n",
    "        f'\\tTask 1 Score: {task1_result}\\n'+\n",
    "        f'\\tTask 2 Score: {task2_result}\\n'+\n",
    "        f'\\tTask 3 Score: {task3_result}\\n'\n",
    "    )\n"
   ]
  }
 ],
 "metadata": {
  "kernelspec": {
   "display_name": ".venv311",
   "language": "python",
   "name": "python3"
  },
  "language_info": {
   "codemirror_mode": {
    "name": "ipython",
    "version": 3
   },
   "file_extension": ".py",
   "mimetype": "text/x-python",
   "name": "python",
   "nbconvert_exporter": "python",
   "pygments_lexer": "ipython3",
   "version": "3.11.9"
  }
 },
 "nbformat": 4,
 "nbformat_minor": 2
}
