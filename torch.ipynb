{
 "cells": [
  {
   "cell_type": "code",
   "execution_count": 1,
   "metadata": {},
   "outputs": [
    {
     "name": "stdout",
     "output_type": "stream",
     "text": [
      "Using device: cuda\n"
     ]
    }
   ],
   "source": [
    "import torch\n",
    "import random\n",
    "\n",
    "random_seed = 42\n",
    "\n",
    "# 1. Set the `PYTHONHASHSEED` environment variable at a fixed value\n",
    "import os\n",
    "os.environ['PYTHONHASHSEED']=str(random_seed)\n",
    "\n",
    "# 2. Set the `python` built-in pseudo-random generator at a fixed value\n",
    "import random\n",
    "random.seed(random_seed)\n",
    "\n",
    "# 3. Set the `numpy` pseudo-random generator at a fixed value\n",
    "import numpy as np\n",
    "np.random.seed(random_seed)\n",
    " \n",
    "# Set a random seed for PyTorch (for GPU as well)\n",
    "torch.manual_seed(random_seed)\n",
    "if torch.cuda.is_available():\n",
    "    torch.cuda.manual_seed_all(random_seed)\n",
    "\n",
    "DEVICE = torch.device('cuda' if torch.cuda.is_available() else 'cpu')\n",
    "print('Using device:', DEVICE)"
   ]
  },
  {
   "cell_type": "code",
   "execution_count": 2,
   "metadata": {},
   "outputs": [],
   "source": [
    "%load_ext autoreload\n",
    "%autoreload 2"
   ]
  },
  {
   "cell_type": "code",
   "execution_count": 3,
   "metadata": {},
   "outputs": [
    {
     "data": {
      "application/vnd.jupyter.widget-view+json": {
       "model_id": "33423e5e65eb418f8c54c836340d2fd5",
       "version_major": 2,
       "version_minor": 0
      },
      "text/plain": [
       "Output()"
      ]
     },
     "metadata": {},
     "output_type": "display_data"
    },
    {
     "name": "stdout",
     "output_type": "stream",
     "text": [
      "Using author file: pan21\\train_authors\n",
      "Using embedding dir: pan21\\train_embeddings\n"
     ]
    },
    {
     "data": {
      "text/html": [
       "<pre style=\"white-space:pre;overflow-x:auto;line-height:normal;font-family:Menlo,'DejaVu Sans Mono',consolas,'Courier New',monospace\"></pre>\n"
      ],
      "text/plain": []
     },
     "metadata": {},
     "output_type": "display_data"
    },
    {
     "data": {
      "text/html": [
       "<pre style=\"white-space:pre;overflow-x:auto;line-height:normal;font-family:Menlo,'DejaVu Sans Mono',consolas,'Courier New',monospace\">\n",
       "</pre>\n"
      ],
      "text/plain": [
       "\n"
      ]
     },
     "metadata": {},
     "output_type": "display_data"
    },
    {
     "data": {
      "application/vnd.jupyter.widget-view+json": {
       "model_id": "b8ba271315034f21b2186c952219f89f",
       "version_major": 2,
       "version_minor": 0
      },
      "text/plain": [
       "Output()"
      ]
     },
     "metadata": {},
     "output_type": "display_data"
    },
    {
     "name": "stdout",
     "output_type": "stream",
     "text": [
      "Using author file: pan21\\validation_authors\n",
      "Using embedding dir: pan21\\validation_embeddings\n"
     ]
    },
    {
     "data": {
      "text/html": [
       "<pre style=\"white-space:pre;overflow-x:auto;line-height:normal;font-family:Menlo,'DejaVu Sans Mono',consolas,'Courier New',monospace\"></pre>\n"
      ],
      "text/plain": []
     },
     "metadata": {},
     "output_type": "display_data"
    },
    {
     "data": {
      "text/html": [
       "<pre style=\"white-space:pre;overflow-x:auto;line-height:normal;font-family:Menlo,'DejaVu Sans Mono',consolas,'Courier New',monospace\">\n",
       "</pre>\n"
      ],
      "text/plain": [
       "\n"
      ]
     },
     "metadata": {},
     "output_type": "display_data"
    }
   ],
   "source": [
    "from torch.utils.data import DataLoader\n",
    "from rich.progress import track\n",
    "\n",
    "from binary_dataset import BinaryDataset\n",
    "\n",
    "batch_size = 32\n",
    "tokens_per_paragraph = 256  # Fixed number of tokens per paragraph\n",
    "\n",
    "train_dataset = BinaryDataset(\"pan21/train\", \"pan21/train\")\n",
    "val_dataset = BinaryDataset(\"pan21/validation\", \"pan21/validation\")\n",
    "\n",
    "# dataloader seems wonky, always returns tuple len 2 with default collate fn\n",
    "def collate_fn(batch):\n",
    "    # Separate each tuple into two lists\n",
    "    x = [item[0] for item in batch]\n",
    "    y = torch.stack([item[1] for item in batch]).view(len(batch), 1)\n",
    "\n",
    "    return x, y\n",
    "dataloader = DataLoader(train_dataset, batch_size=batch_size, shuffle=False, collate_fn=collate_fn)\n",
    "val_dataloader = DataLoader(val_dataset, batch_size=batch_size, shuffle=False, collate_fn=collate_fn)"
   ]
  },
  {
   "cell_type": "code",
   "execution_count": 10,
   "metadata": {},
   "outputs": [],
   "source": [
    "import torch\n",
    "import torch.nn as nn\n",
    "import cupy as cp\n",
    "from cupy.fft import fft\n",
    "\n",
    "class ParagraphLabelingModelWithBERT(nn.Module):\n",
    "    def __init__(self, tokens_per_paragraph, output_dim, fourier=False, single_layer = True):\n",
    "        super(ParagraphLabelingModelWithBERT, self).__init__()\n",
    "        \n",
    "        self.fourier = fourier\n",
    "        self.single_layer = single_layer\n",
    "        self.tokens_per_paragraph = tokens_per_paragraph\n",
    "\n",
    "        bert_embedding_dimension = 768\n",
    "        input_size = bert_embedding_dimension*self.tokens_per_paragraph*2\n",
    "        \n",
    "        if self.single_layer:\n",
    "            self.fc = nn.Linear(input_size, output_dim, device=DEVICE)\n",
    "        else:\n",
    "            self.fc = nn.Linear(input_size, output_dim*512, device=DEVICE)\n",
    "            self.fc2 = nn.Linear(output_dim*512, output_dim*256, device=DEVICE)\n",
    "            self.fc3 = nn.Linear(output_dim*256, output_dim, device=DEVICE)\n",
    "\n",
    "    def forward(self, paragraph_pair):\n",
    "        # Tokenize paragraphs\n",
    "        # print(paragraphs)\n",
    "\n",
    "        # batches come as lists, individual examples as tuples\n",
    "        if isinstance(paragraph_pair, tuple) and len(paragraph_pair) == 2:\n",
    "            paragraph_pair = [paragraph_pair]\n",
    "\n",
    "        # print(f\"{len(paragraph_pair)=} {len(paragraph_pair[0])=}\")\n",
    "        # print(f\"{paragraph_pair[0]=}\")\n",
    "        \n",
    "        if self.fourier:\n",
    "            paragraph_pair = [\n",
    "                    (torch.tensor(cp.real(fft(cp.asarray(p1), axis=1)), device=DEVICE), \n",
    "                    torch.tensor(cp.real(fft(cp.asarray(p2), axis=1)), device=DEVICE))\n",
    "                for (p1, p2) in paragraph_pair\n",
    "                ]\n",
    "\n",
    "        if self.single_layer:\n",
    "            x = torch.sigmoid(self.fc(torch.stack([torch.flatten(torch.cat((p[0].squeeze(0), p[1].squeeze(0)), dim=0)) for p in paragraph_pair])))\n",
    "        else:\n",
    "            x = torch.sigmoid(self.fc3(self.fc2(self.fc(torch.stack([torch.flatten(torch.cat((p[0].squeeze(0), p[1].squeeze(0)), dim=0)) for p in paragraph_pair])))))\n",
    "        \n",
    "        # print(f\"{x.shape=}\")\n",
    "        return x"
   ]
  },
  {
   "cell_type": "code",
   "execution_count": 5,
   "metadata": {},
   "outputs": [
    {
     "data": {
      "application/vnd.jupyter.widget-view+json": {
       "model_id": "03ccbb6a4598463ea4c0cd0fa53ebd7a",
       "version_major": 2,
       "version_minor": 0
      },
      "text/plain": [
       "Output()"
      ]
     },
     "metadata": {},
     "output_type": "display_data"
    },
    {
     "data": {
      "text/html": [
       "<pre style=\"white-space:pre;overflow-x:auto;line-height:normal;font-family:Menlo,'DejaVu Sans Mono',consolas,'Courier New',monospace\">Epoch [1/5], Loss: 0.6673\n",
       "</pre>\n"
      ],
      "text/plain": [
       "Epoch [1/5], Loss: 0.6673\n"
      ]
     },
     "metadata": {},
     "output_type": "display_data"
    },
    {
     "data": {
      "text/html": [
       "<pre style=\"white-space:pre;overflow-x:auto;line-height:normal;font-family:Menlo,'DejaVu Sans Mono',consolas,'Courier New',monospace\">Epoch [2/5], Loss: 0.6543\n",
       "</pre>\n"
      ],
      "text/plain": [
       "Epoch [2/5], Loss: 0.6543\n"
      ]
     },
     "metadata": {},
     "output_type": "display_data"
    },
    {
     "data": {
      "text/html": [
       "<pre style=\"white-space:pre;overflow-x:auto;line-height:normal;font-family:Menlo,'DejaVu Sans Mono',consolas,'Courier New',monospace\">Epoch [3/5], Loss: 0.6347\n",
       "</pre>\n"
      ],
      "text/plain": [
       "Epoch [3/5], Loss: 0.6347\n"
      ]
     },
     "metadata": {},
     "output_type": "display_data"
    },
    {
     "data": {
      "text/html": [
       "<pre style=\"white-space:pre;overflow-x:auto;line-height:normal;font-family:Menlo,'DejaVu Sans Mono',consolas,'Courier New',monospace\">Epoch [4/5], Loss: 0.6068\n",
       "</pre>\n"
      ],
      "text/plain": [
       "Epoch [4/5], Loss: 0.6068\n"
      ]
     },
     "metadata": {},
     "output_type": "display_data"
    },
    {
     "data": {
      "text/html": [
       "<pre style=\"white-space:pre;overflow-x:auto;line-height:normal;font-family:Menlo,'DejaVu Sans Mono',consolas,'Courier New',monospace\">Epoch [5/5], Loss: 0.5951\n",
       "</pre>\n"
      ],
      "text/plain": [
       "Epoch [5/5], Loss: 0.5951\n"
      ]
     },
     "metadata": {},
     "output_type": "display_data"
    },
    {
     "data": {
      "text/html": [
       "<pre style=\"white-space:pre;overflow-x:auto;line-height:normal;font-family:Menlo,'DejaVu Sans Mono',consolas,'Courier New',monospace\"></pre>\n"
      ],
      "text/plain": []
     },
     "metadata": {},
     "output_type": "display_data"
    },
    {
     "data": {
      "text/html": [
       "<pre style=\"white-space:pre;overflow-x:auto;line-height:normal;font-family:Menlo,'DejaVu Sans Mono',consolas,'Courier New',monospace\">\n",
       "</pre>\n"
      ],
      "text/plain": [
       "\n"
      ]
     },
     "metadata": {},
     "output_type": "display_data"
    },
    {
     "data": {
      "application/vnd.jupyter.widget-view+json": {
       "model_id": "ded071005acf4390a43b42d22e7ac03d",
       "version_major": 2,
       "version_minor": 0
      },
      "text/plain": [
       "Output()"
      ]
     },
     "metadata": {},
     "output_type": "display_data"
    },
    {
     "data": {
      "text/html": [
       "<pre style=\"white-space:pre;overflow-x:auto;line-height:normal;font-family:Menlo,'DejaVu Sans Mono',consolas,'Courier New',monospace\">Epoch [1/5], Loss: 0.6209\n",
       "</pre>\n"
      ],
      "text/plain": [
       "Epoch [1/5], Loss: 0.6209\n"
      ]
     },
     "metadata": {},
     "output_type": "display_data"
    },
    {
     "data": {
      "text/html": [
       "<pre style=\"white-space:pre;overflow-x:auto;line-height:normal;font-family:Menlo,'DejaVu Sans Mono',consolas,'Courier New',monospace\">Epoch [2/5], Loss: 0.5533\n",
       "</pre>\n"
      ],
      "text/plain": [
       "Epoch [2/5], Loss: 0.5533\n"
      ]
     },
     "metadata": {},
     "output_type": "display_data"
    },
    {
     "data": {
      "text/html": [
       "<pre style=\"white-space:pre;overflow-x:auto;line-height:normal;font-family:Menlo,'DejaVu Sans Mono',consolas,'Courier New',monospace\">Epoch [3/5], Loss: 0.4758\n",
       "</pre>\n"
      ],
      "text/plain": [
       "Epoch [3/5], Loss: 0.4758\n"
      ]
     },
     "metadata": {},
     "output_type": "display_data"
    },
    {
     "data": {
      "text/html": [
       "<pre style=\"white-space:pre;overflow-x:auto;line-height:normal;font-family:Menlo,'DejaVu Sans Mono',consolas,'Courier New',monospace\">Epoch [4/5], Loss: 0.4397\n",
       "</pre>\n"
      ],
      "text/plain": [
       "Epoch [4/5], Loss: 0.4397\n"
      ]
     },
     "metadata": {},
     "output_type": "display_data"
    },
    {
     "data": {
      "text/html": [
       "<pre style=\"white-space:pre;overflow-x:auto;line-height:normal;font-family:Menlo,'DejaVu Sans Mono',consolas,'Courier New',monospace\">Epoch [5/5], Loss: 0.4407\n",
       "</pre>\n"
      ],
      "text/plain": [
       "Epoch [5/5], Loss: 0.4407\n"
      ]
     },
     "metadata": {},
     "output_type": "display_data"
    },
    {
     "data": {
      "text/html": [
       "<pre style=\"white-space:pre;overflow-x:auto;line-height:normal;font-family:Menlo,'DejaVu Sans Mono',consolas,'Courier New',monospace\"></pre>\n"
      ],
      "text/plain": []
     },
     "metadata": {},
     "output_type": "display_data"
    },
    {
     "data": {
      "text/html": [
       "<pre style=\"white-space:pre;overflow-x:auto;line-height:normal;font-family:Menlo,'DejaVu Sans Mono',consolas,'Courier New',monospace\">\n",
       "</pre>\n"
      ],
      "text/plain": [
       "\n"
      ]
     },
     "metadata": {},
     "output_type": "display_data"
    }
   ],
   "source": [
    "import datetime\n",
    "from rich.progress import Progress\n",
    "from pathlib import Path\n",
    "\n",
    "# Model parameters\n",
    "bert_model_name = 'bert-base-uncased'\n",
    "output_dim = 1    # Number of classes\n",
    "# lr_exps = range(4, 8)\n",
    "lr_exps = [6]\n",
    "# fourier = True\n",
    "num_epochs = 5\n",
    "\n",
    "for fourier in (False, True):\n",
    "    for lr_exponent in lr_exps:\n",
    "        lr = 1/10**lr_exponent\n",
    "        model = ParagraphLabelingModelWithBERT(tokens_per_paragraph, output_dim, fourier=fourier)\n",
    "\n",
    "        criterion = nn.BCELoss()\n",
    "        # learning rate is important, .001 led to always outputting 1\n",
    "        optimizer = torch.optim.Adam(model.parameters(), lr=lr)\n",
    "\n",
    "        with Progress() as pb:\n",
    "            total_task = pb.add_task('Total', total=num_epochs)\n",
    "\n",
    "            for epoch in range(num_epochs):\n",
    "                epoch_task = pb.add_task(f'Epoch {epoch}', total=len(dataloader))\n",
    "\n",
    "                model.train()\n",
    "                for inputs, targets in dataloader:\n",
    "                    # print(f\"{type(inputs)=} {len(inputs)=}\")\n",
    "                    # print(f\"{type(inputs[0])=}\")\n",
    "                    # print(f\"{targets.shape=}\")\n",
    "                    \n",
    "                    optimizer.zero_grad()\n",
    "\n",
    "                    # Forward pass\n",
    "                    outputs = model(inputs)\n",
    "                    # print(f\"{outputs.shape=}\")\n",
    "\n",
    "                    # Compute the loss\n",
    "                    loss = criterion(outputs, targets)\n",
    "\n",
    "                    # Backward pass and optimization\n",
    "                    loss.backward()\n",
    "                    optimizer.step()\n",
    "\n",
    "                    pb.update(epoch_task, advance=1)\n",
    "\n",
    "                # TODO: add metadata to the model files\n",
    "                metadata = {\n",
    "                    'epoch': epoch,\n",
    "                    'loss': loss.item(),\n",
    "                    'optimizer_state': 'Adam',\n",
    "                    'lr': lr,\n",
    "                    'fourier': fourier,\n",
    "                    'tokens_per_paragraph': tokens_per_paragraph,\n",
    "                }\n",
    "                state_dict = model.state_dict()\n",
    "                state_dict['metadata'] = metadata\n",
    "\n",
    "                # print(f\"{model.state_dict()=}\")\n",
    "\n",
    "                print(f'Epoch [{epoch+1}/{num_epochs}], Loss: {loss.item():.4f}')\n",
    "                pb.update(total_task, advance=1)\n",
    "                torch.save(model.state_dict(), Path(f\"{datetime.datetime.now().strftime('%Y_%m_%d-%I_%M_%S_%p')}_e{epoch}.torch\"))\n"
   ]
  },
  {
   "cell_type": "code",
   "execution_count": 12,
   "metadata": {},
   "outputs": [],
   "source": [
    "# best vanilla\n",
    "# eval_dict = torch.load(\"checkpoints/2024_07_28-02_09_54_AM_e9.torch\")\n",
    "# best fourier\n",
    "# eval_dict = torch.load(\"checkpoints/2024_07_28-02_56_01_AM_e9.torch\")\n",
    "from pathlib import Path\n",
    "\n",
    "models = [\n",
    "    (Path(\"checkpoints/2024_07_28-02_09_54_AM_e9.torch\"), True),\n",
    "    (Path(\"checkpoints/2024_07_28-02_56_01_AM_e9.torch\"), True),\n",
    "    (Path(\"2024_07_30-09_47_22_AM_e4.torch\"), False),\n",
    "    (Path(\"2024_07_30-12_35_29_PM_e4.torch\"), False),\n",
    "]\n",
    "models = []\n",
    "\n",
    "for model_path, single_layer in models:\n",
    "    output_dim = 1\n",
    "    eval_dict = torch.load(model_path)\n",
    "    model = ParagraphLabelingModelWithBERT(tokens_per_paragraph, output_dim, single_layer=single_layer)\n",
    "    model.load_state_dict(eval_dict)\n",
    "    model.eval()\n",
    "    models.append(model)\n",
    "\n",
    "# val_loss = 0\n",
    "# criterion = nn.BCELoss()\n",
    "\n",
    "# for input, target in val_dataloader:\n",
    "#     with torch.no_grad():\n",
    "#         val_outputs = model(input)\n",
    "        \n",
    "#         val_loss += criterion(val_outputs.view(-1, output_dim), target).item()\n",
    "\n",
    "# print(f'Validation Loss: {val_loss/len(val_dataloader):.4f}')\n",
    "\n",
    "from prediction import build_prediction_dict\n",
    "prediction_dicts = build_prediction_dict(models, val_dataset)"
   ]
  },
  {
   "cell_type": "code",
   "execution_count": 9,
   "metadata": {},
   "outputs": [
    {
     "name": "stdout",
     "output_type": "stream",
     "text": [
      "Model: 2024_07_30-09_47_22_AM_e4\n",
      "\tTask 1 Score: 0.5732774498808929\n",
      "\tTask 2 Score: 0.5067699680655273\n",
      "\tTask 3 Score: 0.30072446896832133\n",
      "\n",
      "Model: 2024_07_30-12_35_29_PM_e4\n",
      "\tTask 1 Score: 0.5625573335457014\n",
      "\tTask 2 Score: 0.5006473615060574\n",
      "\tTask 3 Score: 0.3003207435158149\n",
      "\n"
     ]
    }
   ],
   "source": [
    "from prediction import compute_scores, build_json_predictions\n",
    "for model_path, prediction_dict in zip(model_paths, prediction_dicts):\n",
    "    dict_of_jsons_result = build_json_predictions(prediction_dict)\n",
    "\n",
    "    from evaluation.evaluator import read_ground_truth_files\n",
    "    truth = read_ground_truth_files(\"pan21/validation\")\n",
    "\n",
    "    task1_result, task2_result, task3_result = compute_scores(truth, dict_of_jsons_result)\n",
    "\n",
    "    print(\n",
    "        f'Model: {model_path.stem}\\n' +\n",
    "        f'\\tTask 1 Score: {task1_result}\\n'+\n",
    "        f'\\tTask 2 Score: {task2_result}\\n'+\n",
    "        f'\\tTask 3 Score: {task3_result}\\n'\n",
    "    )\n"
   ]
  }
 ],
 "metadata": {
  "kernelspec": {
   "display_name": ".venv311",
   "language": "python",
   "name": "python3"
  },
  "language_info": {
   "codemirror_mode": {
    "name": "ipython",
    "version": 3
   },
   "file_extension": ".py",
   "mimetype": "text/x-python",
   "name": "python",
   "nbconvert_exporter": "python",
   "pygments_lexer": "ipython3",
   "version": "3.11.9"
  }
 },
 "nbformat": 4,
 "nbformat_minor": 2
}
