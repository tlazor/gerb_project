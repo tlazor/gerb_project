{
 "cells": [
  {
   "cell_type": "code",
   "execution_count": 5,
   "metadata": {},
   "outputs": [
    {
     "name": "stdout",
     "output_type": "stream",
     "text": [
      "Using device: cuda\n"
     ]
    }
   ],
   "source": [
    "import torch\n",
    "import random\n",
    "\n",
    "random_seed = 42\n",
    "\n",
    "# 1. Set the `PYTHONHASHSEED` environment variable at a fixed value\n",
    "import os\n",
    "os.environ['PYTHONHASHSEED']=str(random_seed)\n",
    "\n",
    "# 2. Set the `python` built-in pseudo-random generator at a fixed value\n",
    "import random\n",
    "random.seed(random_seed)\n",
    "\n",
    "# 3. Set the `numpy` pseudo-random generator at a fixed value\n",
    "import numpy as np\n",
    "np.random.seed(random_seed)\n",
    " \n",
    "# Set a random seed for PyTorch (for GPU as well)\n",
    "torch.manual_seed(random_seed)\n",
    "if torch.cuda.is_available():\n",
    "    torch.cuda.manual_seed_all(random_seed)\n",
    "\n",
    "DEVICE = torch.device('cuda' if torch.cuda.is_available() else 'cpu')\n",
    "print('Using device:', DEVICE)"
   ]
  },
  {
   "cell_type": "code",
   "execution_count": 6,
   "metadata": {},
   "outputs": [
    {
     "name": "stdout",
     "output_type": "stream",
     "text": [
      "The autoreload extension is already loaded. To reload it, use:\n",
      "  %reload_ext autoreload\n"
     ]
    }
   ],
   "source": [
    "%load_ext autoreload\n",
    "%autoreload 2"
   ]
  },
  {
   "cell_type": "code",
   "execution_count": 7,
   "metadata": {},
   "outputs": [
    {
     "data": {
      "application/vnd.jupyter.widget-view+json": {
       "model_id": "fad42d36510b4dac8d9d71d06a322bdf",
       "version_major": 2,
       "version_minor": 0
      },
      "text/plain": [
       "Output()"
      ]
     },
     "metadata": {},
     "output_type": "display_data"
    },
    {
     "name": "stdout",
     "output_type": "stream",
     "text": [
      "Using author file: pan21\\train_authors\n",
      "Using embedding dir: pan21\\train_embeddings\n"
     ]
    },
    {
     "data": {
      "text/html": [
       "<pre style=\"white-space:pre;overflow-x:auto;line-height:normal;font-family:Menlo,'DejaVu Sans Mono',consolas,'Courier New',monospace\"></pre>\n"
      ],
      "text/plain": []
     },
     "metadata": {},
     "output_type": "display_data"
    },
    {
     "data": {
      "text/html": [
       "<pre style=\"white-space:pre;overflow-x:auto;line-height:normal;font-family:Menlo,'DejaVu Sans Mono',consolas,'Courier New',monospace\">\n",
       "</pre>\n"
      ],
      "text/plain": [
       "\n"
      ]
     },
     "metadata": {},
     "output_type": "display_data"
    },
    {
     "data": {
      "application/vnd.jupyter.widget-view+json": {
       "model_id": "91c544e7daa4453499d3647172464689",
       "version_major": 2,
       "version_minor": 0
      },
      "text/plain": [
       "Output()"
      ]
     },
     "metadata": {},
     "output_type": "display_data"
    },
    {
     "name": "stdout",
     "output_type": "stream",
     "text": [
      "Using author file: pan21\\validation_authors\n",
      "Using embedding dir: pan21\\validation_embeddings\n"
     ]
    },
    {
     "data": {
      "text/html": [
       "<pre style=\"white-space:pre;overflow-x:auto;line-height:normal;font-family:Menlo,'DejaVu Sans Mono',consolas,'Courier New',monospace\"></pre>\n"
      ],
      "text/plain": []
     },
     "metadata": {},
     "output_type": "display_data"
    },
    {
     "data": {
      "text/html": [
       "<pre style=\"white-space:pre;overflow-x:auto;line-height:normal;font-family:Menlo,'DejaVu Sans Mono',consolas,'Courier New',monospace\">\n",
       "</pre>\n"
      ],
      "text/plain": [
       "\n"
      ]
     },
     "metadata": {},
     "output_type": "display_data"
    }
   ],
   "source": [
    "from torch.utils.data import DataLoader\n",
    "from rich.progress import track\n",
    "\n",
    "from binary_dataset import BinaryDataset\n",
    "\n",
    "batch_size = 32\n",
    "tokens_per_paragraph = 256  # Fixed number of tokens per paragraph\n",
    "\n",
    "train_dataset = BinaryDataset(\"pan21/train\", \"pan21/train\")\n",
    "val_dataset = BinaryDataset(\"pan21/validation\", \"pan21/validation\")\n",
    "\n",
    "# dataloader seems wonky, always returns tuple len 2 with default collate fn\n",
    "def collate_fn(batch):\n",
    "    # Separate each tuple into two lists\n",
    "    x = [item[0] for item in batch]\n",
    "    y = torch.stack([item[1] for item in batch]).view(len(batch), 1)\n",
    "\n",
    "    return x, y\n",
    "dataloader = DataLoader(train_dataset, batch_size=batch_size, shuffle=False, collate_fn=collate_fn)\n",
    "val_dataloader = DataLoader(val_dataset, batch_size=batch_size, shuffle=False, collate_fn=collate_fn)"
   ]
  },
  {
   "cell_type": "code",
   "execution_count": 8,
   "metadata": {},
   "outputs": [],
   "source": [
    "import torch\n",
    "import torch.nn as nn\n",
    "import cupy as cp\n",
    "from cupy.fft import fft\n",
    "\n",
    "class ParagraphLabelingModelWithBERT(nn.Module):\n",
    "    def __init__(self, tokens_per_paragraph, output_dim, fourier=False):\n",
    "        super(ParagraphLabelingModelWithBERT, self).__init__()\n",
    "        \n",
    "        self.fourier = fourier\n",
    "        self.tokens_per_paragraph = tokens_per_paragraph\n",
    "\n",
    "        bert_embedding_dimension = 768\n",
    "        input_size = bert_embedding_dimension*self.tokens_per_paragraph*2\n",
    "        self.fc = nn.Linear(input_size, output_dim, device=DEVICE)\n",
    "        # self.fc = nn.Linear(input_size, output_dim*512, device=DEVICE)\n",
    "        # self.fc2 = nn.Linear(output_dim*512, output_dim*256, device=DEVICE)\n",
    "        # self.fc3 = nn.Linear(output_dim*256, output_dim, device=DEVICE)\n",
    "\n",
    "    def forward(self, paragraph_pair):\n",
    "        # Tokenize paragraphs\n",
    "        # print(paragraphs)\n",
    "\n",
    "        # batches come as lists, individual examples as tuples\n",
    "        if isinstance(paragraph_pair, tuple) and len(paragraph_pair) == 2:\n",
    "            paragraph_pair = [paragraph_pair]\n",
    "\n",
    "        # print(f\"{len(paragraph_pair)=} {len(paragraph_pair[0])=}\")\n",
    "        # print(f\"{paragraph_pair[0]=}\")\n",
    "        \n",
    "        if self.fourier:\n",
    "            paragraph_pair = [\n",
    "                    (torch.tensor(cp.real(fft(cp.asarray(p1), axis=1)), device=DEVICE), \n",
    "                    torch.tensor(cp.real(fft(cp.asarray(p2), axis=1)), device=DEVICE))\n",
    "                for (p1, p2) in paragraph_pair\n",
    "                ]\n",
    "\n",
    "        x = self.fc(torch.stack([torch.flatten(torch.cat((p[0].squeeze(0), p[1].squeeze(0)), dim=0)) for p in paragraph_pair]))\n",
    "        # print(f\"{x.shape=}\")\n",
    "\n",
    "        \n",
    "        \n",
    "        # x = self.fc3(self.fc2(self.fc(x)))\n",
    "        # x = self.fc(x)\n",
    "        x = torch.sigmoid(x)\n",
    "        return x"
   ]
  },
  {
   "cell_type": "code",
   "execution_count": 9,
   "metadata": {},
   "outputs": [
    {
     "data": {
      "application/vnd.jupyter.widget-view+json": {
       "model_id": "22a089f199fe4a0285c7d89e05102422",
       "version_major": 2,
       "version_minor": 0
      },
      "text/plain": [
       "Output()"
      ]
     },
     "metadata": {},
     "output_type": "display_data"
    },
    {
     "data": {
      "text/html": [
       "<pre style=\"white-space:pre;overflow-x:auto;line-height:normal;font-family:Menlo,'DejaVu Sans Mono',consolas,'Courier New',monospace\">Epoch [1/10], Loss: 6.3133\n",
       "</pre>\n"
      ],
      "text/plain": [
       "Epoch [1/10], Loss: 6.3133\n"
      ]
     },
     "metadata": {},
     "output_type": "display_data"
    },
    {
     "data": {
      "text/html": [
       "<pre style=\"white-space:pre;overflow-x:auto;line-height:normal;font-family:Menlo,'DejaVu Sans Mono',consolas,'Courier New',monospace\">Epoch [2/10], Loss: 3.6810\n",
       "</pre>\n"
      ],
      "text/plain": [
       "Epoch [2/10], Loss: 3.6810\n"
      ]
     },
     "metadata": {},
     "output_type": "display_data"
    },
    {
     "data": {
      "text/html": [
       "<pre style=\"white-space:pre;overflow-x:auto;line-height:normal;font-family:Menlo,'DejaVu Sans Mono',consolas,'Courier New',monospace\">Epoch [3/10], Loss: 1.3389\n",
       "</pre>\n"
      ],
      "text/plain": [
       "Epoch [3/10], Loss: 1.3389\n"
      ]
     },
     "metadata": {},
     "output_type": "display_data"
    },
    {
     "data": {
      "text/html": [
       "<pre style=\"white-space:pre;overflow-x:auto;line-height:normal;font-family:Menlo,'DejaVu Sans Mono',consolas,'Courier New',monospace\">Epoch [4/10], Loss: 1.2435\n",
       "</pre>\n"
      ],
      "text/plain": [
       "Epoch [4/10], Loss: 1.2435\n"
      ]
     },
     "metadata": {},
     "output_type": "display_data"
    },
    {
     "data": {
      "text/html": [
       "<pre style=\"white-space:pre;overflow-x:auto;line-height:normal;font-family:Menlo,'DejaVu Sans Mono',consolas,'Courier New',monospace\">Epoch [5/10], Loss: 1.4648\n",
       "</pre>\n"
      ],
      "text/plain": [
       "Epoch [5/10], Loss: 1.4648\n"
      ]
     },
     "metadata": {},
     "output_type": "display_data"
    },
    {
     "data": {
      "text/html": [
       "<pre style=\"white-space:pre;overflow-x:auto;line-height:normal;font-family:Menlo,'DejaVu Sans Mono',consolas,'Courier New',monospace\">Epoch [6/10], Loss: 0.9129\n",
       "</pre>\n"
      ],
      "text/plain": [
       "Epoch [6/10], Loss: 0.9129\n"
      ]
     },
     "metadata": {},
     "output_type": "display_data"
    },
    {
     "data": {
      "text/html": [
       "<pre style=\"white-space:pre;overflow-x:auto;line-height:normal;font-family:Menlo,'DejaVu Sans Mono',consolas,'Courier New',monospace\">Epoch [7/10], Loss: 1.4252\n",
       "</pre>\n"
      ],
      "text/plain": [
       "Epoch [7/10], Loss: 1.4252\n"
      ]
     },
     "metadata": {},
     "output_type": "display_data"
    },
    {
     "data": {
      "text/html": [
       "<pre style=\"white-space:pre;overflow-x:auto;line-height:normal;font-family:Menlo,'DejaVu Sans Mono',consolas,'Courier New',monospace\">Epoch [8/10], Loss: 1.0792\n",
       "</pre>\n"
      ],
      "text/plain": [
       "Epoch [8/10], Loss: 1.0792\n"
      ]
     },
     "metadata": {},
     "output_type": "display_data"
    },
    {
     "data": {
      "text/html": [
       "<pre style=\"white-space:pre;overflow-x:auto;line-height:normal;font-family:Menlo,'DejaVu Sans Mono',consolas,'Courier New',monospace\">Epoch [9/10], Loss: 1.1202\n",
       "</pre>\n"
      ],
      "text/plain": [
       "Epoch [9/10], Loss: 1.1202\n"
      ]
     },
     "metadata": {},
     "output_type": "display_data"
    },
    {
     "data": {
      "text/html": [
       "<pre style=\"white-space:pre;overflow-x:auto;line-height:normal;font-family:Menlo,'DejaVu Sans Mono',consolas,'Courier New',monospace\">Epoch [10/10], Loss: 1.6681\n",
       "</pre>\n"
      ],
      "text/plain": [
       "Epoch [10/10], Loss: 1.6681\n"
      ]
     },
     "metadata": {},
     "output_type": "display_data"
    },
    {
     "data": {
      "text/html": [
       "<pre style=\"white-space:pre;overflow-x:auto;line-height:normal;font-family:Menlo,'DejaVu Sans Mono',consolas,'Courier New',monospace\"></pre>\n"
      ],
      "text/plain": []
     },
     "metadata": {},
     "output_type": "display_data"
    },
    {
     "data": {
      "text/html": [
       "<pre style=\"white-space:pre;overflow-x:auto;line-height:normal;font-family:Menlo,'DejaVu Sans Mono',consolas,'Courier New',monospace\">\n",
       "</pre>\n"
      ],
      "text/plain": [
       "\n"
      ]
     },
     "metadata": {},
     "output_type": "display_data"
    },
    {
     "data": {
      "application/vnd.jupyter.widget-view+json": {
       "model_id": "6933eeea432443c8b7e6438340ef62c4",
       "version_major": 2,
       "version_minor": 0
      },
      "text/plain": [
       "Output()"
      ]
     },
     "metadata": {},
     "output_type": "display_data"
    },
    {
     "data": {
      "text/html": [
       "<pre style=\"white-space:pre;overflow-x:auto;line-height:normal;font-family:Menlo,'DejaVu Sans Mono',consolas,'Courier New',monospace\">Epoch [1/10], Loss: 0.9351\n",
       "</pre>\n"
      ],
      "text/plain": [
       "Epoch [1/10], Loss: 0.9351\n"
      ]
     },
     "metadata": {},
     "output_type": "display_data"
    },
    {
     "data": {
      "text/html": [
       "<pre style=\"white-space:pre;overflow-x:auto;line-height:normal;font-family:Menlo,'DejaVu Sans Mono',consolas,'Courier New',monospace\">Epoch [2/10], Loss: 0.7932\n",
       "</pre>\n"
      ],
      "text/plain": [
       "Epoch [2/10], Loss: 0.7932\n"
      ]
     },
     "metadata": {},
     "output_type": "display_data"
    },
    {
     "data": {
      "text/html": [
       "<pre style=\"white-space:pre;overflow-x:auto;line-height:normal;font-family:Menlo,'DejaVu Sans Mono',consolas,'Courier New',monospace\">Epoch [3/10], Loss: 0.6861\n",
       "</pre>\n"
      ],
      "text/plain": [
       "Epoch [3/10], Loss: 0.6861\n"
      ]
     },
     "metadata": {},
     "output_type": "display_data"
    },
    {
     "data": {
      "text/html": [
       "<pre style=\"white-space:pre;overflow-x:auto;line-height:normal;font-family:Menlo,'DejaVu Sans Mono',consolas,'Courier New',monospace\">Epoch [4/10], Loss: 0.6190\n",
       "</pre>\n"
      ],
      "text/plain": [
       "Epoch [4/10], Loss: 0.6190\n"
      ]
     },
     "metadata": {},
     "output_type": "display_data"
    },
    {
     "data": {
      "text/html": [
       "<pre style=\"white-space:pre;overflow-x:auto;line-height:normal;font-family:Menlo,'DejaVu Sans Mono',consolas,'Courier New',monospace\">Epoch [5/10], Loss: 0.5743\n",
       "</pre>\n"
      ],
      "text/plain": [
       "Epoch [5/10], Loss: 0.5743\n"
      ]
     },
     "metadata": {},
     "output_type": "display_data"
    },
    {
     "data": {
      "text/html": [
       "<pre style=\"white-space:pre;overflow-x:auto;line-height:normal;font-family:Menlo,'DejaVu Sans Mono',consolas,'Courier New',monospace\">Epoch [6/10], Loss: 0.5429\n",
       "</pre>\n"
      ],
      "text/plain": [
       "Epoch [6/10], Loss: 0.5429\n"
      ]
     },
     "metadata": {},
     "output_type": "display_data"
    },
    {
     "data": {
      "text/html": [
       "<pre style=\"white-space:pre;overflow-x:auto;line-height:normal;font-family:Menlo,'DejaVu Sans Mono',consolas,'Courier New',monospace\">Epoch [7/10], Loss: 0.5195\n",
       "</pre>\n"
      ],
      "text/plain": [
       "Epoch [7/10], Loss: 0.5195\n"
      ]
     },
     "metadata": {},
     "output_type": "display_data"
    },
    {
     "data": {
      "text/html": [
       "<pre style=\"white-space:pre;overflow-x:auto;line-height:normal;font-family:Menlo,'DejaVu Sans Mono',consolas,'Courier New',monospace\">Epoch [8/10], Loss: 0.5014\n",
       "</pre>\n"
      ],
      "text/plain": [
       "Epoch [8/10], Loss: 0.5014\n"
      ]
     },
     "metadata": {},
     "output_type": "display_data"
    },
    {
     "data": {
      "text/html": [
       "<pre style=\"white-space:pre;overflow-x:auto;line-height:normal;font-family:Menlo,'DejaVu Sans Mono',consolas,'Courier New',monospace\">Epoch [9/10], Loss: 0.4867\n",
       "</pre>\n"
      ],
      "text/plain": [
       "Epoch [9/10], Loss: 0.4867\n"
      ]
     },
     "metadata": {},
     "output_type": "display_data"
    },
    {
     "data": {
      "text/html": [
       "<pre style=\"white-space:pre;overflow-x:auto;line-height:normal;font-family:Menlo,'DejaVu Sans Mono',consolas,'Courier New',monospace\">Epoch [10/10], Loss: 0.4743\n",
       "</pre>\n"
      ],
      "text/plain": [
       "Epoch [10/10], Loss: 0.4743\n"
      ]
     },
     "metadata": {},
     "output_type": "display_data"
    },
    {
     "data": {
      "text/html": [
       "<pre style=\"white-space:pre;overflow-x:auto;line-height:normal;font-family:Menlo,'DejaVu Sans Mono',consolas,'Courier New',monospace\"></pre>\n"
      ],
      "text/plain": []
     },
     "metadata": {},
     "output_type": "display_data"
    },
    {
     "data": {
      "text/html": [
       "<pre style=\"white-space:pre;overflow-x:auto;line-height:normal;font-family:Menlo,'DejaVu Sans Mono',consolas,'Courier New',monospace\">\n",
       "</pre>\n"
      ],
      "text/plain": [
       "\n"
      ]
     },
     "metadata": {},
     "output_type": "display_data"
    },
    {
     "data": {
      "application/vnd.jupyter.widget-view+json": {
       "model_id": "287cdc030c8240d6a408b2f37817b728",
       "version_major": 2,
       "version_minor": 0
      },
      "text/plain": [
       "Output()"
      ]
     },
     "metadata": {},
     "output_type": "display_data"
    },
    {
     "data": {
      "text/html": [
       "<pre style=\"white-space:pre;overflow-x:auto;line-height:normal;font-family:Menlo,'DejaVu Sans Mono',consolas,'Courier New',monospace\">Epoch [1/10], Loss: 0.6529\n",
       "</pre>\n"
      ],
      "text/plain": [
       "Epoch [1/10], Loss: 0.6529\n"
      ]
     },
     "metadata": {},
     "output_type": "display_data"
    },
    {
     "data": {
      "text/html": [
       "<pre style=\"white-space:pre;overflow-x:auto;line-height:normal;font-family:Menlo,'DejaVu Sans Mono',consolas,'Courier New',monospace\">Epoch [2/10], Loss: 0.6451\n",
       "</pre>\n"
      ],
      "text/plain": [
       "Epoch [2/10], Loss: 0.6451\n"
      ]
     },
     "metadata": {},
     "output_type": "display_data"
    },
    {
     "data": {
      "text/html": [
       "<pre style=\"white-space:pre;overflow-x:auto;line-height:normal;font-family:Menlo,'DejaVu Sans Mono',consolas,'Courier New',monospace\">Epoch [3/10], Loss: 0.6324\n",
       "</pre>\n"
      ],
      "text/plain": [
       "Epoch [3/10], Loss: 0.6324\n"
      ]
     },
     "metadata": {},
     "output_type": "display_data"
    },
    {
     "data": {
      "text/html": [
       "<pre style=\"white-space:pre;overflow-x:auto;line-height:normal;font-family:Menlo,'DejaVu Sans Mono',consolas,'Courier New',monospace\">Epoch [4/10], Loss: 0.6198\n",
       "</pre>\n"
      ],
      "text/plain": [
       "Epoch [4/10], Loss: 0.6198\n"
      ]
     },
     "metadata": {},
     "output_type": "display_data"
    },
    {
     "data": {
      "text/html": [
       "<pre style=\"white-space:pre;overflow-x:auto;line-height:normal;font-family:Menlo,'DejaVu Sans Mono',consolas,'Courier New',monospace\">Epoch [5/10], Loss: 0.6087\n",
       "</pre>\n"
      ],
      "text/plain": [
       "Epoch [5/10], Loss: 0.6087\n"
      ]
     },
     "metadata": {},
     "output_type": "display_data"
    },
    {
     "data": {
      "text/html": [
       "<pre style=\"white-space:pre;overflow-x:auto;line-height:normal;font-family:Menlo,'DejaVu Sans Mono',consolas,'Courier New',monospace\">Epoch [6/10], Loss: 0.5989\n",
       "</pre>\n"
      ],
      "text/plain": [
       "Epoch [6/10], Loss: 0.5989\n"
      ]
     },
     "metadata": {},
     "output_type": "display_data"
    },
    {
     "data": {
      "text/html": [
       "<pre style=\"white-space:pre;overflow-x:auto;line-height:normal;font-family:Menlo,'DejaVu Sans Mono',consolas,'Courier New',monospace\">Epoch [7/10], Loss: 0.5904\n",
       "</pre>\n"
      ],
      "text/plain": [
       "Epoch [7/10], Loss: 0.5904\n"
      ]
     },
     "metadata": {},
     "output_type": "display_data"
    },
    {
     "data": {
      "text/html": [
       "<pre style=\"white-space:pre;overflow-x:auto;line-height:normal;font-family:Menlo,'DejaVu Sans Mono',consolas,'Courier New',monospace\">Epoch [8/10], Loss: 0.5830\n",
       "</pre>\n"
      ],
      "text/plain": [
       "Epoch [8/10], Loss: 0.5830\n"
      ]
     },
     "metadata": {},
     "output_type": "display_data"
    },
    {
     "data": {
      "text/html": [
       "<pre style=\"white-space:pre;overflow-x:auto;line-height:normal;font-family:Menlo,'DejaVu Sans Mono',consolas,'Courier New',monospace\">Epoch [9/10], Loss: 0.5764\n",
       "</pre>\n"
      ],
      "text/plain": [
       "Epoch [9/10], Loss: 0.5764\n"
      ]
     },
     "metadata": {},
     "output_type": "display_data"
    },
    {
     "data": {
      "text/html": [
       "<pre style=\"white-space:pre;overflow-x:auto;line-height:normal;font-family:Menlo,'DejaVu Sans Mono',consolas,'Courier New',monospace\">Epoch [10/10], Loss: 0.5705\n",
       "</pre>\n"
      ],
      "text/plain": [
       "Epoch [10/10], Loss: 0.5705\n"
      ]
     },
     "metadata": {},
     "output_type": "display_data"
    },
    {
     "data": {
      "text/html": [
       "<pre style=\"white-space:pre;overflow-x:auto;line-height:normal;font-family:Menlo,'DejaVu Sans Mono',consolas,'Courier New',monospace\"></pre>\n"
      ],
      "text/plain": []
     },
     "metadata": {},
     "output_type": "display_data"
    },
    {
     "data": {
      "text/html": [
       "<pre style=\"white-space:pre;overflow-x:auto;line-height:normal;font-family:Menlo,'DejaVu Sans Mono',consolas,'Courier New',monospace\">\n",
       "</pre>\n"
      ],
      "text/plain": [
       "\n"
      ]
     },
     "metadata": {},
     "output_type": "display_data"
    },
    {
     "data": {
      "application/vnd.jupyter.widget-view+json": {
       "model_id": "57da9b901fdf4a1ab85eb1f086d140ab",
       "version_major": 2,
       "version_minor": 0
      },
      "text/plain": [
       "Output()"
      ]
     },
     "metadata": {},
     "output_type": "display_data"
    },
    {
     "data": {
      "text/html": [
       "<pre style=\"white-space:pre;overflow-x:auto;line-height:normal;font-family:Menlo,'DejaVu Sans Mono',consolas,'Courier New',monospace\">Epoch [1/10], Loss: 0.6345\n",
       "</pre>\n"
      ],
      "text/plain": [
       "Epoch [1/10], Loss: 0.6345\n"
      ]
     },
     "metadata": {},
     "output_type": "display_data"
    },
    {
     "data": {
      "text/html": [
       "<pre style=\"white-space:pre;overflow-x:auto;line-height:normal;font-family:Menlo,'DejaVu Sans Mono',consolas,'Courier New',monospace\">Epoch [2/10], Loss: 0.6410\n",
       "</pre>\n"
      ],
      "text/plain": [
       "Epoch [2/10], Loss: 0.6410\n"
      ]
     },
     "metadata": {},
     "output_type": "display_data"
    },
    {
     "data": {
      "text/html": [
       "<pre style=\"white-space:pre;overflow-x:auto;line-height:normal;font-family:Menlo,'DejaVu Sans Mono',consolas,'Courier New',monospace\">Epoch [3/10], Loss: 0.6451\n",
       "</pre>\n"
      ],
      "text/plain": [
       "Epoch [3/10], Loss: 0.6451\n"
      ]
     },
     "metadata": {},
     "output_type": "display_data"
    },
    {
     "data": {
      "text/html": [
       "<pre style=\"white-space:pre;overflow-x:auto;line-height:normal;font-family:Menlo,'DejaVu Sans Mono',consolas,'Courier New',monospace\">Epoch [4/10], Loss: 0.6473\n",
       "</pre>\n"
      ],
      "text/plain": [
       "Epoch [4/10], Loss: 0.6473\n"
      ]
     },
     "metadata": {},
     "output_type": "display_data"
    },
    {
     "data": {
      "text/html": [
       "<pre style=\"white-space:pre;overflow-x:auto;line-height:normal;font-family:Menlo,'DejaVu Sans Mono',consolas,'Courier New',monospace\">Epoch [5/10], Loss: 0.6483\n",
       "</pre>\n"
      ],
      "text/plain": [
       "Epoch [5/10], Loss: 0.6483\n"
      ]
     },
     "metadata": {},
     "output_type": "display_data"
    },
    {
     "data": {
      "text/html": [
       "<pre style=\"white-space:pre;overflow-x:auto;line-height:normal;font-family:Menlo,'DejaVu Sans Mono',consolas,'Courier New',monospace\">Epoch [6/10], Loss: 0.6484\n",
       "</pre>\n"
      ],
      "text/plain": [
       "Epoch [6/10], Loss: 0.6484\n"
      ]
     },
     "metadata": {},
     "output_type": "display_data"
    },
    {
     "data": {
      "text/html": [
       "<pre style=\"white-space:pre;overflow-x:auto;line-height:normal;font-family:Menlo,'DejaVu Sans Mono',consolas,'Courier New',monospace\">Epoch [7/10], Loss: 0.6480\n",
       "</pre>\n"
      ],
      "text/plain": [
       "Epoch [7/10], Loss: 0.6480\n"
      ]
     },
     "metadata": {},
     "output_type": "display_data"
    },
    {
     "data": {
      "text/html": [
       "<pre style=\"white-space:pre;overflow-x:auto;line-height:normal;font-family:Menlo,'DejaVu Sans Mono',consolas,'Courier New',monospace\">Epoch [8/10], Loss: 0.6472\n",
       "</pre>\n"
      ],
      "text/plain": [
       "Epoch [8/10], Loss: 0.6472\n"
      ]
     },
     "metadata": {},
     "output_type": "display_data"
    },
    {
     "data": {
      "text/html": [
       "<pre style=\"white-space:pre;overflow-x:auto;line-height:normal;font-family:Menlo,'DejaVu Sans Mono',consolas,'Courier New',monospace\">Epoch [9/10], Loss: 0.6461\n",
       "</pre>\n"
      ],
      "text/plain": [
       "Epoch [9/10], Loss: 0.6461\n"
      ]
     },
     "metadata": {},
     "output_type": "display_data"
    },
    {
     "data": {
      "text/html": [
       "<pre style=\"white-space:pre;overflow-x:auto;line-height:normal;font-family:Menlo,'DejaVu Sans Mono',consolas,'Courier New',monospace\">Epoch [10/10], Loss: 0.6448\n",
       "</pre>\n"
      ],
      "text/plain": [
       "Epoch [10/10], Loss: 0.6448\n"
      ]
     },
     "metadata": {},
     "output_type": "display_data"
    },
    {
     "data": {
      "text/html": [
       "<pre style=\"white-space:pre;overflow-x:auto;line-height:normal;font-family:Menlo,'DejaVu Sans Mono',consolas,'Courier New',monospace\"></pre>\n"
      ],
      "text/plain": []
     },
     "metadata": {},
     "output_type": "display_data"
    },
    {
     "data": {
      "text/html": [
       "<pre style=\"white-space:pre;overflow-x:auto;line-height:normal;font-family:Menlo,'DejaVu Sans Mono',consolas,'Courier New',monospace\">\n",
       "</pre>\n"
      ],
      "text/plain": [
       "\n"
      ]
     },
     "metadata": {},
     "output_type": "display_data"
    },
    {
     "data": {
      "application/vnd.jupyter.widget-view+json": {
       "model_id": "7c3790c237d947b3a8b3358e84cd4c6f",
       "version_major": 2,
       "version_minor": 0
      },
      "text/plain": [
       "Output()"
      ]
     },
     "metadata": {},
     "output_type": "display_data"
    },
    {
     "data": {
      "text/html": [
       "<pre style=\"white-space:pre;overflow-x:auto;line-height:normal;font-family:Menlo,'DejaVu Sans Mono',consolas,'Courier New',monospace\">Epoch [1/10], Loss: 63.2933\n",
       "</pre>\n"
      ],
      "text/plain": [
       "Epoch [1/10], Loss: 63.2933\n"
      ]
     },
     "metadata": {},
     "output_type": "display_data"
    },
    {
     "data": {
      "text/html": [
       "<pre style=\"white-space:pre;overflow-x:auto;line-height:normal;font-family:Menlo,'DejaVu Sans Mono',consolas,'Courier New',monospace\">Epoch [2/10], Loss: 64.7156\n",
       "</pre>\n"
      ],
      "text/plain": [
       "Epoch [2/10], Loss: 64.7156\n"
      ]
     },
     "metadata": {},
     "output_type": "display_data"
    },
    {
     "data": {
      "text/html": [
       "<pre style=\"white-space:pre;overflow-x:auto;line-height:normal;font-family:Menlo,'DejaVu Sans Mono',consolas,'Courier New',monospace\">Epoch [3/10], Loss: 48.8403\n",
       "</pre>\n"
      ],
      "text/plain": [
       "Epoch [3/10], Loss: 48.8403\n"
      ]
     },
     "metadata": {},
     "output_type": "display_data"
    },
    {
     "data": {
      "text/html": [
       "<pre style=\"white-space:pre;overflow-x:auto;line-height:normal;font-family:Menlo,'DejaVu Sans Mono',consolas,'Courier New',monospace\">Epoch [4/10], Loss: 59.7613\n",
       "</pre>\n"
      ],
      "text/plain": [
       "Epoch [4/10], Loss: 59.7613\n"
      ]
     },
     "metadata": {},
     "output_type": "display_data"
    },
    {
     "data": {
      "text/html": [
       "<pre style=\"white-space:pre;overflow-x:auto;line-height:normal;font-family:Menlo,'DejaVu Sans Mono',consolas,'Courier New',monospace\">Epoch [5/10], Loss: 73.8341\n",
       "</pre>\n"
      ],
      "text/plain": [
       "Epoch [5/10], Loss: 73.8341\n"
      ]
     },
     "metadata": {},
     "output_type": "display_data"
    },
    {
     "data": {
      "text/html": [
       "<pre style=\"white-space:pre;overflow-x:auto;line-height:normal;font-family:Menlo,'DejaVu Sans Mono',consolas,'Courier New',monospace\">Epoch [6/10], Loss: 47.0588\n",
       "</pre>\n"
      ],
      "text/plain": [
       "Epoch [6/10], Loss: 47.0588\n"
      ]
     },
     "metadata": {},
     "output_type": "display_data"
    },
    {
     "data": {
      "text/html": [
       "<pre style=\"white-space:pre;overflow-x:auto;line-height:normal;font-family:Menlo,'DejaVu Sans Mono',consolas,'Courier New',monospace\">Epoch [7/10], Loss: 41.1765\n",
       "</pre>\n"
      ],
      "text/plain": [
       "Epoch [7/10], Loss: 41.1765\n"
      ]
     },
     "metadata": {},
     "output_type": "display_data"
    },
    {
     "data": {
      "text/html": [
       "<pre style=\"white-space:pre;overflow-x:auto;line-height:normal;font-family:Menlo,'DejaVu Sans Mono',consolas,'Courier New',monospace\">Epoch [8/10], Loss: 29.4118\n",
       "</pre>\n"
      ],
      "text/plain": [
       "Epoch [8/10], Loss: 29.4118\n"
      ]
     },
     "metadata": {},
     "output_type": "display_data"
    },
    {
     "data": {
      "text/html": [
       "<pre style=\"white-space:pre;overflow-x:auto;line-height:normal;font-family:Menlo,'DejaVu Sans Mono',consolas,'Courier New',monospace\">Epoch [9/10], Loss: 29.4118\n",
       "</pre>\n"
      ],
      "text/plain": [
       "Epoch [9/10], Loss: 29.4118\n"
      ]
     },
     "metadata": {},
     "output_type": "display_data"
    },
    {
     "data": {
      "text/html": [
       "<pre style=\"white-space:pre;overflow-x:auto;line-height:normal;font-family:Menlo,'DejaVu Sans Mono',consolas,'Courier New',monospace\">Epoch [10/10], Loss: 41.1765\n",
       "</pre>\n"
      ],
      "text/plain": [
       "Epoch [10/10], Loss: 41.1765\n"
      ]
     },
     "metadata": {},
     "output_type": "display_data"
    },
    {
     "data": {
      "text/html": [
       "<pre style=\"white-space:pre;overflow-x:auto;line-height:normal;font-family:Menlo,'DejaVu Sans Mono',consolas,'Courier New',monospace\"></pre>\n"
      ],
      "text/plain": []
     },
     "metadata": {},
     "output_type": "display_data"
    },
    {
     "data": {
      "text/html": [
       "<pre style=\"white-space:pre;overflow-x:auto;line-height:normal;font-family:Menlo,'DejaVu Sans Mono',consolas,'Courier New',monospace\">\n",
       "</pre>\n"
      ],
      "text/plain": [
       "\n"
      ]
     },
     "metadata": {},
     "output_type": "display_data"
    },
    {
     "data": {
      "application/vnd.jupyter.widget-view+json": {
       "model_id": "f975fa5185474a6e88f07f839938d3d1",
       "version_major": 2,
       "version_minor": 0
      },
      "text/plain": [
       "Output()"
      ]
     },
     "metadata": {},
     "output_type": "display_data"
    },
    {
     "data": {
      "text/html": [
       "<pre style=\"white-space:pre;overflow-x:auto;line-height:normal;font-family:Menlo,'DejaVu Sans Mono',consolas,'Courier New',monospace\">Epoch [1/10], Loss: 1.0965\n",
       "</pre>\n"
      ],
      "text/plain": [
       "Epoch [1/10], Loss: 1.0965\n"
      ]
     },
     "metadata": {},
     "output_type": "display_data"
    },
    {
     "data": {
      "text/html": [
       "<pre style=\"white-space:pre;overflow-x:auto;line-height:normal;font-family:Menlo,'DejaVu Sans Mono',consolas,'Courier New',monospace\">Epoch [2/10], Loss: 0.6595\n",
       "</pre>\n"
      ],
      "text/plain": [
       "Epoch [2/10], Loss: 0.6595\n"
      ]
     },
     "metadata": {},
     "output_type": "display_data"
    },
    {
     "data": {
      "text/html": [
       "<pre style=\"white-space:pre;overflow-x:auto;line-height:normal;font-family:Menlo,'DejaVu Sans Mono',consolas,'Courier New',monospace\">Epoch [3/10], Loss: 1.6159\n",
       "</pre>\n"
      ],
      "text/plain": [
       "Epoch [3/10], Loss: 1.6159\n"
      ]
     },
     "metadata": {},
     "output_type": "display_data"
    },
    {
     "data": {
      "text/html": [
       "<pre style=\"white-space:pre;overflow-x:auto;line-height:normal;font-family:Menlo,'DejaVu Sans Mono',consolas,'Courier New',monospace\">Epoch [4/10], Loss: 0.9653\n",
       "</pre>\n"
      ],
      "text/plain": [
       "Epoch [4/10], Loss: 0.9653\n"
      ]
     },
     "metadata": {},
     "output_type": "display_data"
    },
    {
     "data": {
      "text/html": [
       "<pre style=\"white-space:pre;overflow-x:auto;line-height:normal;font-family:Menlo,'DejaVu Sans Mono',consolas,'Courier New',monospace\">Epoch [5/10], Loss: 1.1913\n",
       "</pre>\n"
      ],
      "text/plain": [
       "Epoch [5/10], Loss: 1.1913\n"
      ]
     },
     "metadata": {},
     "output_type": "display_data"
    },
    {
     "data": {
      "text/html": [
       "<pre style=\"white-space:pre;overflow-x:auto;line-height:normal;font-family:Menlo,'DejaVu Sans Mono',consolas,'Courier New',monospace\">Epoch [6/10], Loss: 2.0838\n",
       "</pre>\n"
      ],
      "text/plain": [
       "Epoch [6/10], Loss: 2.0838\n"
      ]
     },
     "metadata": {},
     "output_type": "display_data"
    },
    {
     "data": {
      "text/html": [
       "<pre style=\"white-space:pre;overflow-x:auto;line-height:normal;font-family:Menlo,'DejaVu Sans Mono',consolas,'Courier New',monospace\">Epoch [7/10], Loss: 1.5645\n",
       "</pre>\n"
      ],
      "text/plain": [
       "Epoch [7/10], Loss: 1.5645\n"
      ]
     },
     "metadata": {},
     "output_type": "display_data"
    },
    {
     "data": {
      "text/html": [
       "<pre style=\"white-space:pre;overflow-x:auto;line-height:normal;font-family:Menlo,'DejaVu Sans Mono',consolas,'Courier New',monospace\">Epoch [8/10], Loss: 1.0107\n",
       "</pre>\n"
      ],
      "text/plain": [
       "Epoch [8/10], Loss: 1.0107\n"
      ]
     },
     "metadata": {},
     "output_type": "display_data"
    },
    {
     "data": {
      "text/html": [
       "<pre style=\"white-space:pre;overflow-x:auto;line-height:normal;font-family:Menlo,'DejaVu Sans Mono',consolas,'Courier New',monospace\">Epoch [9/10], Loss: 0.9939\n",
       "</pre>\n"
      ],
      "text/plain": [
       "Epoch [9/10], Loss: 0.9939\n"
      ]
     },
     "metadata": {},
     "output_type": "display_data"
    },
    {
     "data": {
      "text/html": [
       "<pre style=\"white-space:pre;overflow-x:auto;line-height:normal;font-family:Menlo,'DejaVu Sans Mono',consolas,'Courier New',monospace\">Epoch [10/10], Loss: 0.9350\n",
       "</pre>\n"
      ],
      "text/plain": [
       "Epoch [10/10], Loss: 0.9350\n"
      ]
     },
     "metadata": {},
     "output_type": "display_data"
    },
    {
     "data": {
      "text/html": [
       "<pre style=\"white-space:pre;overflow-x:auto;line-height:normal;font-family:Menlo,'DejaVu Sans Mono',consolas,'Courier New',monospace\"></pre>\n"
      ],
      "text/plain": []
     },
     "metadata": {},
     "output_type": "display_data"
    },
    {
     "data": {
      "text/html": [
       "<pre style=\"white-space:pre;overflow-x:auto;line-height:normal;font-family:Menlo,'DejaVu Sans Mono',consolas,'Courier New',monospace\">\n",
       "</pre>\n"
      ],
      "text/plain": [
       "\n"
      ]
     },
     "metadata": {},
     "output_type": "display_data"
    },
    {
     "data": {
      "application/vnd.jupyter.widget-view+json": {
       "model_id": "0310312d6750454cb6ff60793c4d40b0",
       "version_major": 2,
       "version_minor": 0
      },
      "text/plain": [
       "Output()"
      ]
     },
     "metadata": {},
     "output_type": "display_data"
    },
    {
     "data": {
      "text/html": [
       "<pre style=\"white-space:pre;overflow-x:auto;line-height:normal;font-family:Menlo,'DejaVu Sans Mono',consolas,'Courier New',monospace\">Epoch [1/10], Loss: 1.0299\n",
       "</pre>\n"
      ],
      "text/plain": [
       "Epoch [1/10], Loss: 1.0299\n"
      ]
     },
     "metadata": {},
     "output_type": "display_data"
    },
    {
     "data": {
      "text/html": [
       "<pre style=\"white-space:pre;overflow-x:auto;line-height:normal;font-family:Menlo,'DejaVu Sans Mono',consolas,'Courier New',monospace\">Epoch [2/10], Loss: 0.8338\n",
       "</pre>\n"
      ],
      "text/plain": [
       "Epoch [2/10], Loss: 0.8338\n"
      ]
     },
     "metadata": {},
     "output_type": "display_data"
    },
    {
     "data": {
      "text/html": [
       "<pre style=\"white-space:pre;overflow-x:auto;line-height:normal;font-family:Menlo,'DejaVu Sans Mono',consolas,'Courier New',monospace\">Epoch [3/10], Loss: 0.7090\n",
       "</pre>\n"
      ],
      "text/plain": [
       "Epoch [3/10], Loss: 0.7090\n"
      ]
     },
     "metadata": {},
     "output_type": "display_data"
    },
    {
     "data": {
      "text/html": [
       "<pre style=\"white-space:pre;overflow-x:auto;line-height:normal;font-family:Menlo,'DejaVu Sans Mono',consolas,'Courier New',monospace\">Epoch [4/10], Loss: 0.6370\n",
       "</pre>\n"
      ],
      "text/plain": [
       "Epoch [4/10], Loss: 0.6370\n"
      ]
     },
     "metadata": {},
     "output_type": "display_data"
    },
    {
     "data": {
      "text/html": [
       "<pre style=\"white-space:pre;overflow-x:auto;line-height:normal;font-family:Menlo,'DejaVu Sans Mono',consolas,'Courier New',monospace\">Epoch [5/10], Loss: 0.5943\n",
       "</pre>\n"
      ],
      "text/plain": [
       "Epoch [5/10], Loss: 0.5943\n"
      ]
     },
     "metadata": {},
     "output_type": "display_data"
    },
    {
     "data": {
      "text/html": [
       "<pre style=\"white-space:pre;overflow-x:auto;line-height:normal;font-family:Menlo,'DejaVu Sans Mono',consolas,'Courier New',monospace\">Epoch [6/10], Loss: 0.5667\n",
       "</pre>\n"
      ],
      "text/plain": [
       "Epoch [6/10], Loss: 0.5667\n"
      ]
     },
     "metadata": {},
     "output_type": "display_data"
    },
    {
     "data": {
      "text/html": [
       "<pre style=\"white-space:pre;overflow-x:auto;line-height:normal;font-family:Menlo,'DejaVu Sans Mono',consolas,'Courier New',monospace\">Epoch [7/10], Loss: 0.5476\n",
       "</pre>\n"
      ],
      "text/plain": [
       "Epoch [7/10], Loss: 0.5476\n"
      ]
     },
     "metadata": {},
     "output_type": "display_data"
    },
    {
     "data": {
      "text/html": [
       "<pre style=\"white-space:pre;overflow-x:auto;line-height:normal;font-family:Menlo,'DejaVu Sans Mono',consolas,'Courier New',monospace\">Epoch [8/10], Loss: 0.5338\n",
       "</pre>\n"
      ],
      "text/plain": [
       "Epoch [8/10], Loss: 0.5338\n"
      ]
     },
     "metadata": {},
     "output_type": "display_data"
    },
    {
     "data": {
      "text/html": [
       "<pre style=\"white-space:pre;overflow-x:auto;line-height:normal;font-family:Menlo,'DejaVu Sans Mono',consolas,'Courier New',monospace\">Epoch [9/10], Loss: 0.5234\n",
       "</pre>\n"
      ],
      "text/plain": [
       "Epoch [9/10], Loss: 0.5234\n"
      ]
     },
     "metadata": {},
     "output_type": "display_data"
    },
    {
     "data": {
      "text/html": [
       "<pre style=\"white-space:pre;overflow-x:auto;line-height:normal;font-family:Menlo,'DejaVu Sans Mono',consolas,'Courier New',monospace\">Epoch [10/10], Loss: 0.5152\n",
       "</pre>\n"
      ],
      "text/plain": [
       "Epoch [10/10], Loss: 0.5152\n"
      ]
     },
     "metadata": {},
     "output_type": "display_data"
    },
    {
     "data": {
      "text/html": [
       "<pre style=\"white-space:pre;overflow-x:auto;line-height:normal;font-family:Menlo,'DejaVu Sans Mono',consolas,'Courier New',monospace\"></pre>\n"
      ],
      "text/plain": []
     },
     "metadata": {},
     "output_type": "display_data"
    },
    {
     "data": {
      "text/html": [
       "<pre style=\"white-space:pre;overflow-x:auto;line-height:normal;font-family:Menlo,'DejaVu Sans Mono',consolas,'Courier New',monospace\">\n",
       "</pre>\n"
      ],
      "text/plain": [
       "\n"
      ]
     },
     "metadata": {},
     "output_type": "display_data"
    },
    {
     "data": {
      "application/vnd.jupyter.widget-view+json": {
       "model_id": "b3f1321ff87949c7a542f101a2b8543d",
       "version_major": 2,
       "version_minor": 0
      },
      "text/plain": [
       "Output()"
      ]
     },
     "metadata": {},
     "output_type": "display_data"
    },
    {
     "data": {
      "text/html": [
       "<pre style=\"white-space:pre;overflow-x:auto;line-height:normal;font-family:Menlo,'DejaVu Sans Mono',consolas,'Courier New',monospace\">Epoch [1/10], Loss: 1.1972\n",
       "</pre>\n"
      ],
      "text/plain": [
       "Epoch [1/10], Loss: 1.1972\n"
      ]
     },
     "metadata": {},
     "output_type": "display_data"
    },
    {
     "data": {
      "text/html": [
       "<pre style=\"white-space:pre;overflow-x:auto;line-height:normal;font-family:Menlo,'DejaVu Sans Mono',consolas,'Courier New',monospace\">Epoch [2/10], Loss: 1.1621\n",
       "</pre>\n"
      ],
      "text/plain": [
       "Epoch [2/10], Loss: 1.1621\n"
      ]
     },
     "metadata": {},
     "output_type": "display_data"
    },
    {
     "data": {
      "text/html": [
       "<pre style=\"white-space:pre;overflow-x:auto;line-height:normal;font-family:Menlo,'DejaVu Sans Mono',consolas,'Courier New',monospace\">Epoch [3/10], Loss: 1.0845\n",
       "</pre>\n"
      ],
      "text/plain": [
       "Epoch [3/10], Loss: 1.0845\n"
      ]
     },
     "metadata": {},
     "output_type": "display_data"
    },
    {
     "data": {
      "text/html": [
       "<pre style=\"white-space:pre;overflow-x:auto;line-height:normal;font-family:Menlo,'DejaVu Sans Mono',consolas,'Courier New',monospace\">Epoch [4/10], Loss: 1.0118\n",
       "</pre>\n"
      ],
      "text/plain": [
       "Epoch [4/10], Loss: 1.0118\n"
      ]
     },
     "metadata": {},
     "output_type": "display_data"
    },
    {
     "data": {
      "text/html": [
       "<pre style=\"white-space:pre;overflow-x:auto;line-height:normal;font-family:Menlo,'DejaVu Sans Mono',consolas,'Courier New',monospace\">Epoch [5/10], Loss: 0.9500\n",
       "</pre>\n"
      ],
      "text/plain": [
       "Epoch [5/10], Loss: 0.9500\n"
      ]
     },
     "metadata": {},
     "output_type": "display_data"
    },
    {
     "data": {
      "text/html": [
       "<pre style=\"white-space:pre;overflow-x:auto;line-height:normal;font-family:Menlo,'DejaVu Sans Mono',consolas,'Courier New',monospace\">Epoch [6/10], Loss: 0.8979\n",
       "</pre>\n"
      ],
      "text/plain": [
       "Epoch [6/10], Loss: 0.8979\n"
      ]
     },
     "metadata": {},
     "output_type": "display_data"
    },
    {
     "data": {
      "text/html": [
       "<pre style=\"white-space:pre;overflow-x:auto;line-height:normal;font-family:Menlo,'DejaVu Sans Mono',consolas,'Courier New',monospace\">Epoch [7/10], Loss: 0.8536\n",
       "</pre>\n"
      ],
      "text/plain": [
       "Epoch [7/10], Loss: 0.8536\n"
      ]
     },
     "metadata": {},
     "output_type": "display_data"
    },
    {
     "data": {
      "text/html": [
       "<pre style=\"white-space:pre;overflow-x:auto;line-height:normal;font-family:Menlo,'DejaVu Sans Mono',consolas,'Courier New',monospace\">Epoch [8/10], Loss: 0.8155\n",
       "</pre>\n"
      ],
      "text/plain": [
       "Epoch [8/10], Loss: 0.8155\n"
      ]
     },
     "metadata": {},
     "output_type": "display_data"
    },
    {
     "data": {
      "text/html": [
       "<pre style=\"white-space:pre;overflow-x:auto;line-height:normal;font-family:Menlo,'DejaVu Sans Mono',consolas,'Courier New',monospace\">Epoch [9/10], Loss: 0.7824\n",
       "</pre>\n"
      ],
      "text/plain": [
       "Epoch [9/10], Loss: 0.7824\n"
      ]
     },
     "metadata": {},
     "output_type": "display_data"
    },
    {
     "data": {
      "text/html": [
       "<pre style=\"white-space:pre;overflow-x:auto;line-height:normal;font-family:Menlo,'DejaVu Sans Mono',consolas,'Courier New',monospace\">Epoch [10/10], Loss: 0.7534\n",
       "</pre>\n"
      ],
      "text/plain": [
       "Epoch [10/10], Loss: 0.7534\n"
      ]
     },
     "metadata": {},
     "output_type": "display_data"
    },
    {
     "data": {
      "text/html": [
       "<pre style=\"white-space:pre;overflow-x:auto;line-height:normal;font-family:Menlo,'DejaVu Sans Mono',consolas,'Courier New',monospace\"></pre>\n"
      ],
      "text/plain": []
     },
     "metadata": {},
     "output_type": "display_data"
    },
    {
     "data": {
      "text/html": [
       "<pre style=\"white-space:pre;overflow-x:auto;line-height:normal;font-family:Menlo,'DejaVu Sans Mono',consolas,'Courier New',monospace\">\n",
       "</pre>\n"
      ],
      "text/plain": [
       "\n"
      ]
     },
     "metadata": {},
     "output_type": "display_data"
    }
   ],
   "source": [
    "import datetime\n",
    "from rich.progress import Progress\n",
    "from pathlib import Path\n",
    "\n",
    "# Model parameters\n",
    "bert_model_name = 'bert-base-uncased'\n",
    "output_dim = 1    # Number of classes\n",
    "lr_exps = range(4, 8)\n",
    "# lr_exps = [6]\n",
    "# fourier = True\n",
    "num_epochs = 10\n",
    "\n",
    "for fourier in (False, True):\n",
    "    for lr_exponent in lr_exps:\n",
    "        lr = 1/10**lr_exponent\n",
    "        model = ParagraphLabelingModelWithBERT(tokens_per_paragraph, output_dim, fourier=fourier)\n",
    "\n",
    "        criterion = nn.BCELoss()\n",
    "        # learning rate is important, .001 led to always outputting 1\n",
    "        optimizer = torch.optim.Adam(model.parameters(), lr=lr)\n",
    "\n",
    "        with Progress() as pb:\n",
    "            total_task = pb.add_task('Total', total=num_epochs)\n",
    "\n",
    "            for epoch in range(num_epochs):\n",
    "                epoch_task = pb.add_task(f'Epoch {epoch}', total=len(dataloader))\n",
    "\n",
    "                model.train()\n",
    "                for inputs, targets in dataloader:\n",
    "                    # print(f\"{type(inputs)=} {len(inputs)=}\")\n",
    "                    # print(f\"{type(inputs[0])=}\")\n",
    "                    # print(f\"{targets.shape=}\")\n",
    "                    \n",
    "                    optimizer.zero_grad()\n",
    "\n",
    "                    # Forward pass\n",
    "                    outputs = model(inputs)\n",
    "                    # print(f\"{outputs.shape=}\")\n",
    "\n",
    "                    # Compute the loss\n",
    "                    loss = criterion(outputs, targets)\n",
    "\n",
    "                    # Backward pass and optimization\n",
    "                    loss.backward()\n",
    "                    optimizer.step()\n",
    "\n",
    "                    pb.update(epoch_task, advance=1)\n",
    "\n",
    "                metadata = {\n",
    "                    'epoch': epoch,\n",
    "                    'loss': loss.item(),\n",
    "                    'optimizer_state': 'Adam',\n",
    "                    'lr': lr,\n",
    "                    'fourier': fourier,\n",
    "                    'tokens_per_paragraph': tokens_per_paragraph,\n",
    "                }\n",
    "                state_dict = model.state_dict()\n",
    "                state_dict['metadata'] = metadata\n",
    "\n",
    "                print(f\"{model.state_dict()=}\")\n",
    "\n",
    "                print(f'Epoch [{epoch+1}/{num_epochs}], Loss: {loss.item():.4f}')\n",
    "                pb.update(total_task, advance=1)\n",
    "                torch.save(model.state_dict(), Path(f\"{datetime.datetime.now().strftime('%Y_%m_%d-%I_%M_%S_%p')}_e{epoch}.torch\"))\n"
   ]
  },
  {
   "cell_type": "code",
   "execution_count": 20,
   "metadata": {},
   "outputs": [
    {
     "name": "stdout",
     "output_type": "stream",
     "text": [
      "Validation Loss: 0.7144\n"
     ]
    }
   ],
   "source": [
    "eval_dict = torch.load(\"2024_07_28-02_56_01_AM_e9.torch\")\n",
    "output_dim = 1\n",
    "model = ParagraphLabelingModelWithBERT(tokens_per_paragraph, output_dim)\n",
    "model.load_state_dict(eval_dict)\n",
    "model.eval()\n",
    "\n",
    "val_loss = 0\n",
    "criterion = nn.BCELoss()\n",
    "\n",
    "for input, target in val_dataloader:\n",
    "    with torch.no_grad():\n",
    "        val_outputs = model(input)\n",
    "        \n",
    "        val_loss += criterion(val_outputs.view(-1, output_dim), target).item()\n",
    "\n",
    "print(f'Validation Loss: {val_loss/len(val_dataloader):.4f}')"
   ]
  },
  {
   "cell_type": "code",
   "execution_count": 21,
   "metadata": {},
   "outputs": [
    {
     "data": {
      "application/vnd.jupyter.widget-view+json": {
       "model_id": "d3c5caa21eaa454da920c0a6d5a6249b",
       "version_major": 2,
       "version_minor": 0
      },
      "text/plain": [
       "Output()"
      ]
     },
     "metadata": {},
     "output_type": "display_data"
    },
    {
     "data": {
      "text/html": [
       "<pre style=\"white-space:pre;overflow-x:auto;line-height:normal;font-family:Menlo,'DejaVu Sans Mono',consolas,'Courier New',monospace\"></pre>\n"
      ],
      "text/plain": []
     },
     "metadata": {},
     "output_type": "display_data"
    },
    {
     "data": {
      "text/html": [
       "<pre style=\"white-space:pre;overflow-x:auto;line-height:normal;font-family:Menlo,'DejaVu Sans Mono',consolas,'Courier New',monospace\">\n",
       "</pre>\n"
      ],
      "text/plain": [
       "\n"
      ]
     },
     "metadata": {},
     "output_type": "display_data"
    }
   ],
   "source": [
    "from prediction import build_prediction_dict\n",
    "prediction_dict = build_prediction_dict(model, val_dataset)"
   ]
  },
  {
   "cell_type": "code",
   "execution_count": 22,
   "metadata": {},
   "outputs": [
    {
     "name": "stdout",
     "output_type": "stream",
     "text": [
      "\tTask 1 Score: 0.5338889899909008\n",
      "\tTask 2 Score: 0.4517440956597779\n",
      "\tTask 3 Score: 0.2946667018857537\n",
      "\n"
     ]
    }
   ],
   "source": [
    "from prediction import map_predictions_to_json\n",
    "dict_of_jsons_result = {f\"problem-{problem_num}\":map_predictions_to_json(prediction_map) for problem_num, prediction_map in prediction_dict.items()}\n",
    "\n",
    "from evaluation.evaluator import read_ground_truth_files\n",
    "truth = read_ground_truth_files(\"pan21/validation\")\n",
    "\n",
    "\n",
    "from evaluation.evaluator import compute_score_single_predictions, compute_score_multiple_predictions\n",
    "task1_result = compute_score_single_predictions(truth, dict_of_jsons_result, 'multi-author')\n",
    "task2_result = compute_score_multiple_predictions(truth, dict_of_jsons_result, 'changes', labels=[0, 1])\n",
    "task3_result = compute_score_multiple_predictions(truth, dict_of_jsons_result, 'paragraph-authors', labels=[1, 2, 3, 4])\n",
    "\n",
    "print(\n",
    "    # f'Model: {model_path.stem}\\n' +\n",
    "    f'\\tTask 1 Score: {task1_result}\\n'+\n",
    "    f'\\tTask 2 Score: {task2_result}\\n'+\n",
    "    f'\\tTask 3 Score: {task3_result}\\n'\n",
    ")\n"
   ]
  }
 ],
 "metadata": {
  "kernelspec": {
   "display_name": ".venv311",
   "language": "python",
   "name": "python3"
  },
  "language_info": {
   "codemirror_mode": {
    "name": "ipython",
    "version": 3
   },
   "file_extension": ".py",
   "mimetype": "text/x-python",
   "name": "python",
   "nbconvert_exporter": "python",
   "pygments_lexer": "ipython3",
   "version": "3.11.9"
  }
 },
 "nbformat": 4,
 "nbformat_minor": 2
}
