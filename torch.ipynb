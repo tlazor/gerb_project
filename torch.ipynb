{
 "cells": [
  {
   "cell_type": "code",
   "execution_count": 2,
   "metadata": {},
   "outputs": [
    {
     "name": "stdout",
     "output_type": "stream",
     "text": [
      "Using device: cuda\n"
     ]
    }
   ],
   "source": [
    "import torch\n",
    "import random\n",
    "\n",
    "random_seed = 42\n",
    "\n",
    "# 1. Set the `PYTHONHASHSEED` environment variable at a fixed value\n",
    "import os\n",
    "os.environ['PYTHONHASHSEED']=str(random_seed)\n",
    "\n",
    "# 2. Set the `python` built-in pseudo-random generator at a fixed value\n",
    "import random\n",
    "random.seed(random_seed)\n",
    "\n",
    "# 3. Set the `numpy` pseudo-random generator at a fixed value\n",
    "import numpy as np\n",
    "np.random.seed(random_seed)\n",
    " \n",
    "# Set a random seed for PyTorch (for GPU as well)\n",
    "torch.manual_seed(random_seed)\n",
    "if torch.cuda.is_available():\n",
    "    torch.cuda.manual_seed_all(random_seed)\n",
    "\n",
    "DEVICE = torch.device('cuda' if torch.cuda.is_available() else 'cpu')\n",
    "print('Using device:', DEVICE)"
   ]
  },
  {
   "cell_type": "code",
   "execution_count": 3,
   "metadata": {},
   "outputs": [],
   "source": [
    "%load_ext autoreload\n",
    "%autoreload 2"
   ]
  },
  {
   "cell_type": "code",
   "execution_count": 4,
   "metadata": {},
   "outputs": [
    {
     "data": {
      "application/vnd.jupyter.widget-view+json": {
       "model_id": "eb7f905f342e461a9f4c374b91c77884",
       "version_major": 2,
       "version_minor": 0
      },
      "text/plain": [
       "Output()"
      ]
     },
     "metadata": {},
     "output_type": "display_data"
    },
    {
     "name": "stdout",
     "output_type": "stream",
     "text": [
      "Using author file: pan21\\train_authors\n",
      "Using embedding dir: pan21\\train_embeddings\n"
     ]
    },
    {
     "data": {
      "text/html": [
       "<pre style=\"white-space:pre;overflow-x:auto;line-height:normal;font-family:Menlo,'DejaVu Sans Mono',consolas,'Courier New',monospace\"></pre>\n"
      ],
      "text/plain": []
     },
     "metadata": {},
     "output_type": "display_data"
    },
    {
     "data": {
      "text/html": [
       "<pre style=\"white-space:pre;overflow-x:auto;line-height:normal;font-family:Menlo,'DejaVu Sans Mono',consolas,'Courier New',monospace\">\n",
       "</pre>\n"
      ],
      "text/plain": [
       "\n"
      ]
     },
     "metadata": {},
     "output_type": "display_data"
    },
    {
     "data": {
      "application/vnd.jupyter.widget-view+json": {
       "model_id": "77c713b6d21943e58fb345ddc38d37ca",
       "version_major": 2,
       "version_minor": 0
      },
      "text/plain": [
       "Output()"
      ]
     },
     "metadata": {},
     "output_type": "display_data"
    },
    {
     "name": "stdout",
     "output_type": "stream",
     "text": [
      "Using author file: pan21\\validation_authors\n",
      "Using embedding dir: pan21\\validation_embeddings\n"
     ]
    },
    {
     "data": {
      "text/html": [
       "<pre style=\"white-space:pre;overflow-x:auto;line-height:normal;font-family:Menlo,'DejaVu Sans Mono',consolas,'Courier New',monospace\"></pre>\n"
      ],
      "text/plain": []
     },
     "metadata": {},
     "output_type": "display_data"
    },
    {
     "data": {
      "text/html": [
       "<pre style=\"white-space:pre;overflow-x:auto;line-height:normal;font-family:Menlo,'DejaVu Sans Mono',consolas,'Courier New',monospace\">\n",
       "</pre>\n"
      ],
      "text/plain": [
       "\n"
      ]
     },
     "metadata": {},
     "output_type": "display_data"
    }
   ],
   "source": [
    "from torch.utils.data import DataLoader\n",
    "import rich\n",
    "\n",
    "from binary_dataset import BinaryDataset\n",
    "\n",
    "batch_size = 32\n",
    "tokens_per_paragraph = 256  # Fixed number of tokens per paragraph\n",
    "\n",
    "train_dataset = BinaryDataset(\"pan21/train\", \"pan21/train\")\n",
    "val_dataset = BinaryDataset(\"pan21/validation\", \"pan21/validation\")\n",
    "\n",
    "# dataloader seems wonky, always returns tuple len 2 with default collate fn\n",
    "def collate_fn(batch):\n",
    "    # Separate each tuple into two lists\n",
    "    x = [item[0] for item in batch]\n",
    "    y = torch.stack([item[1] for item in batch])\n",
    "\n",
    "    return x, y\n",
    "dataloader = DataLoader(train_dataset, batch_size=batch_size, shuffle=False, drop_last=True, collate_fn=collate_fn)\n"
   ]
  },
  {
   "cell_type": "code",
   "execution_count": 5,
   "metadata": {},
   "outputs": [],
   "source": [
    "import torch\n",
    "import torch.nn as nn\n",
    "from transformers import BertTokenizer, BertModel\n",
    "\n",
    "class ParagraphLabelingModelWithBERT(nn.Module):\n",
    "    def __init__(self, bert_model_name, tokens_per_paragraph, output_dim):\n",
    "        super(ParagraphLabelingModelWithBERT, self).__init__()\n",
    "        # Initialize the BERT tokenizer and model\n",
    "        self.tokens_per_paragraph = tokens_per_paragraph\n",
    "        # self.tokenizer = BertTokenizer.from_pretrained(bert_model_name)\n",
    "        # self.bert_model = BertModel.from_pretrained(bert_model_name).to(DEVICE)\n",
    "\n",
    "        bert_embedding_dimension = 768\n",
    "        input_size = bert_embedding_dimension*self.tokens_per_paragraph*2\n",
    "        self.fc = nn.Linear(input_size, output_dim, device=DEVICE)\n",
    "\n",
    "    def forward(self, paragraph_pair):\n",
    "        # Tokenize paragraphs\n",
    "        # print(paragraphs)\n",
    "\n",
    "        # batches come as lists, individual examples as tuples\n",
    "        if isinstance(paragraph_pair, tuple) and len(paragraph_pair) == 2:\n",
    "            paragraph_pair = [paragraph_pair]\n",
    "\n",
    "        # print(f\"{len(paragraph_pair)=} {len(paragraph_pair[0])=}\")\n",
    "        # print(f\"{paragraph_pair[0]=}\")\n",
    "        \n",
    "        # encoded_input = [\n",
    "        #     [self.tokenizer(p[0], padding='max_length', truncation=True, return_tensors='pt', max_length=self.tokens_per_paragraph),\n",
    "        #             self.tokenizer(p[1], padding='max_length', truncation=True, return_tensors='pt', max_length=self.tokens_per_paragraph)]\n",
    "        #     for p in paragraph_pair\n",
    "        #     ]\n",
    "        \n",
    "        # embeddings = torch.zeros((len(encoded_input), self.tokens_per_paragraph*2, self.bert_model.config.hidden_size), device=DEVICE)\n",
    "        # for i, (e_1, e_2) in enumerate(encoded_input):\n",
    "        #     e_1.to(DEVICE)\n",
    "        #     e_2.to(DEVICE)\n",
    "\n",
    "        #     input_ids_1 = e_1['input_ids']\n",
    "        #     attention_mask_1 = e_1['attention_mask']\n",
    "\n",
    "        #     input_ids_2 = e_2['input_ids']\n",
    "        #     attention_mask_2 = e_2['attention_mask']\n",
    "            \n",
    "        #     # Get BERT embeddings\n",
    "        #     with torch.no_grad():\n",
    "        #         embeddings_1 = self.bert_model(input_ids_1, attention_mask_1).last_hidden_state\n",
    "\n",
    "        #         embeddings_2 = self.bert_model(input_ids_2, attention_mask_2).last_hidden_state # shape: (batch_size, max_length, hidden_dim)\n",
    "            \n",
    "        #     embeddings[i] = torch.cat((embeddings_1.squeeze(0), embeddings_2.squeeze(0)), dim=0)\n",
    "        x = torch.stack([torch.flatten(torch.cat((p[0].squeeze(0), p[1].squeeze(0)), dim=0)) for p in paragraph_pair])\n",
    "        # print(f\"{len(embeddings)=} {len(embeddings[0])=} {embeddings[0].shape=}\")\n",
    "        # embeddings = torch.squeeze(torch.stack(embeddings, dim=1))\n",
    "        # print(f\"{embeddings.shape=}\")\n",
    "\n",
    "        # Flatten the input tensor\n",
    "\n",
    "        # x = torch.flatten(embeddings, start_dim=1)\n",
    "        # print(f\"{x.shape=}\")\n",
    "\n",
    "        x = self.fc(x)\n",
    "        return x"
   ]
  },
  {
   "cell_type": "code",
   "execution_count": 7,
   "metadata": {},
   "outputs": [
    {
     "data": {
      "application/vnd.jupyter.widget-view+json": {
       "model_id": "016c82dcba3d49a394fafed83632c3ae",
       "version_major": 2,
       "version_minor": 0
      },
      "text/plain": [
       "Output()"
      ]
     },
     "metadata": {},
     "output_type": "display_data"
    },
    {
     "data": {
      "text/html": [
       "<pre style=\"white-space:pre;overflow-x:auto;line-height:normal;font-family:Menlo,'DejaVu Sans Mono',consolas,'Courier New',monospace\">Epoch [1/10], Loss: 22.7363\n",
       "</pre>\n"
      ],
      "text/plain": [
       "Epoch [1/10], Loss: 22.7363\n"
      ]
     },
     "metadata": {},
     "output_type": "display_data"
    },
    {
     "data": {
      "text/html": [
       "<pre style=\"white-space:pre;overflow-x:auto;line-height:normal;font-family:Menlo,'DejaVu Sans Mono',consolas,'Courier New',monospace\">Epoch [2/10], Loss: 18.4937\n",
       "</pre>\n"
      ],
      "text/plain": [
       "Epoch [2/10], Loss: 18.4937\n"
      ]
     },
     "metadata": {},
     "output_type": "display_data"
    }
   ],
   "source": [
    "import datetime\n",
    "from rich.progress import Progress\n",
    "from pathlib import Path\n",
    "\n",
    "# Model parameters\n",
    "bert_model_name = 'bert-base-uncased'\n",
    "output_dim = 1    # Number of classes\n",
    "\n",
    "model = ParagraphLabelingModelWithBERT(bert_model_name, tokens_per_paragraph, output_dim)\n",
    "\n",
    "criterion = nn.BCEWithLogitsLoss()\n",
    "optimizer = torch.optim.Adam(model.parameters(), lr=0.001)\n",
    "\n",
    "num_epochs = 10\n",
    "\n",
    "with Progress() as pb:\n",
    "    total_task = pb.add_task('Total', total=num_epochs)\n",
    "\n",
    "    for epoch in range(num_epochs):\n",
    "        epoch_task = pb.add_task(f'Epoch {epoch}', total=len(dataloader))\n",
    "\n",
    "        model.train()\n",
    "        for inputs, targets in dataloader:\n",
    "            # print(f\"{type(inputs)=} {len(inputs)=}\")\n",
    "            # print(f\"{type(inputs[0])=}\")\n",
    "            # print(f\"{targets.shape=}\")\n",
    "            \n",
    "            optimizer.zero_grad()\n",
    "\n",
    "            # Forward pass\n",
    "            outputs = model(inputs)\n",
    "            # print(f\"{outputs.shape=}\")\n",
    "\n",
    "            # Compute the loss\n",
    "            loss = criterion(outputs, targets)\n",
    "\n",
    "            # Backward pass and optimization\n",
    "            loss.backward()\n",
    "            optimizer.step()\n",
    "\n",
    "            pb.update(epoch_task, advance=1)\n",
    "\n",
    "        print(f'Epoch [{epoch+1}/{num_epochs}], Loss: {loss.item():.4f}')\n",
    "        pb.update(total_task, advance=1)\n",
    "        torch.save(model.state_dict(), Path(f\"{datetime.datetime.now().strftime('%Y_%m_%d-%I_%M_%S_%p')}_e{epoch}.torch\"))\n"
   ]
  },
  {
   "cell_type": "code",
   "execution_count": null,
   "metadata": {},
   "outputs": [],
   "source": [
    "val_input = [v[0] for v in val_dataset][:5]\n",
    "print(val_input[0])\n",
    "model.eval()\n",
    "with torch.no_grad():\n",
    "    val_outputs = model(val_input)\n",
    "    print(val_outputs)\n",
    "    val_loss = criterion(val_outputs.view(-1, output_dim), val_Y.view(-1))\n",
    "\n",
    "    print(f'Validation Loss: {val_loss.item():.4f}')"
   ]
  },
  {
   "cell_type": "code",
   "execution_count": null,
   "metadata": {},
   "outputs": [],
   "source": [
    "def predictions_to_json(predictions, gt, threshold=0.5):\n",
    "    adjusted_predictions = [p.index(max(p)) for p in predictions]\n",
    "\n",
    "    true_num_paragraphs = len(gt[\"paragraph-authors\"])\n",
    "    \n",
    "    # Construct the JSON object\n",
    "    data = {\n",
    "        \"authors\": max(adjusted_predictions),\n",
    "        \"structure\": [999],  # Placeholder or specific requirement\n",
    "        \"site\": \"googole.com\",\n",
    "        \"multi-author\": max(adjusted_predictions) > 1,\n",
    "        \"changes\": [int(adjusted_predictions[i] != adjusted_predictions[i + 1]) for i in range(len(adjusted_predictions) - 1)][:true_num_paragraphs],\n",
    "        \"paragraph-authors\": adjusted_predictions[:true_num_paragraphs]\n",
    "    }\n",
    "    return data"
   ]
  },
  {
   "cell_type": "code",
   "execution_count": null,
   "metadata": {},
   "outputs": [],
   "source": [
    "from evaluation.evaluator import compute_score_single_predictions, compute_score_multiple_predictions\n",
    "dict_of_jsons_result = [predictions_to_json(p) for p in val_outputs]\n",
    "\n",
    "truth = read_ground_truth_files(\"pan21/validation\")\n",
    "\n",
    "task1_result = compute_score_single_predictions(truth, dict_of_jsons_result, 'multi-author')\n",
    "task2_result = compute_score_multiple_predictions(truth, dict_of_jsons_result, 'changes', labels=[0, 1])\n",
    "task3_result = compute_score_multiple_predictions(truth, dict_of_jsons_result, 'paragraph-authors', labels=[1, 2, 3, 4])\n",
    "\n",
    "print(\n",
    "    # f'Model: {model_path.stem}\\n' +\n",
    "    f'\\tTask 1 Score: {task1_result}\\n'+\n",
    "    f'\\tTask 2 Score: {task2_result}\\n'+\n",
    "    f'\\tTask 3 Score: {task3_result}\\n'\n",
    ")\n"
   ]
  }
 ],
 "metadata": {
  "kernelspec": {
   "display_name": ".venv311",
   "language": "python",
   "name": "python3"
  },
  "language_info": {
   "codemirror_mode": {
    "name": "ipython",
    "version": 3
   },
   "file_extension": ".py",
   "mimetype": "text/x-python",
   "name": "python",
   "nbconvert_exporter": "python",
   "pygments_lexer": "ipython3",
   "version": "3.11.9"
  }
 },
 "nbformat": 4,
 "nbformat_minor": 2
}
