{
 "cells": [
  {
   "cell_type": "code",
   "execution_count": 1,
   "metadata": {},
   "outputs": [
    {
     "name": "stdout",
     "output_type": "stream",
     "text": [
      "Using device: cuda\n"
     ]
    }
   ],
   "source": [
    "import torch\n",
    "import random\n",
    "\n",
    "random_seed = 42\n",
    "\n",
    "# 1. Set the `PYTHONHASHSEED` environment variable at a fixed value\n",
    "import os\n",
    "os.environ['PYTHONHASHSEED']=str(random_seed)\n",
    "\n",
    "# 2. Set the `python` built-in pseudo-random generator at a fixed value\n",
    "import random\n",
    "random.seed(random_seed)\n",
    "\n",
    "# 3. Set the `numpy` pseudo-random generator at a fixed value\n",
    "import numpy as np\n",
    "np.random.seed(random_seed)\n",
    " \n",
    "# Set a random seed for PyTorch (for GPU as well)\n",
    "torch.manual_seed(random_seed)\n",
    "if torch.cuda.is_available():\n",
    "    torch.cuda.manual_seed_all(random_seed)\n",
    "\n",
    "DEVICE = torch.device('cuda' if torch.cuda.is_available() else 'cpu')\n",
    "print('Using device:', DEVICE)"
   ]
  },
  {
   "cell_type": "code",
   "execution_count": 2,
   "metadata": {},
   "outputs": [],
   "source": [
    "%load_ext autoreload\n",
    "%autoreload 2"
   ]
  },
  {
   "cell_type": "code",
   "execution_count": 3,
   "metadata": {},
   "outputs": [
    {
     "data": {
      "application/vnd.jupyter.widget-view+json": {
       "model_id": "0a9217ca25df4f6fbb3e3db159e31682",
       "version_major": 2,
       "version_minor": 0
      },
      "text/plain": [
       "Output()"
      ]
     },
     "metadata": {},
     "output_type": "display_data"
    },
    {
     "name": "stdout",
     "output_type": "stream",
     "text": [
      "Using author file: pan21\\train_authors\n",
      "Using embedding dir: pan21\\train_embeddings\n"
     ]
    },
    {
     "data": {
      "text/html": [
       "<pre style=\"white-space:pre;overflow-x:auto;line-height:normal;font-family:Menlo,'DejaVu Sans Mono',consolas,'Courier New',monospace\"></pre>\n"
      ],
      "text/plain": []
     },
     "metadata": {},
     "output_type": "display_data"
    },
    {
     "data": {
      "text/html": [
       "<pre style=\"white-space:pre;overflow-x:auto;line-height:normal;font-family:Menlo,'DejaVu Sans Mono',consolas,'Courier New',monospace\">\n",
       "</pre>\n"
      ],
      "text/plain": [
       "\n"
      ]
     },
     "metadata": {},
     "output_type": "display_data"
    },
    {
     "data": {
      "application/vnd.jupyter.widget-view+json": {
       "model_id": "0b48e5b67e8143caa0ab69ea0f076e0c",
       "version_major": 2,
       "version_minor": 0
      },
      "text/plain": [
       "Output()"
      ]
     },
     "metadata": {},
     "output_type": "display_data"
    },
    {
     "name": "stdout",
     "output_type": "stream",
     "text": [
      "Using author file: pan21\\validation_authors\n",
      "Using embedding dir: pan21\\validation_embeddings\n"
     ]
    },
    {
     "data": {
      "text/html": [
       "<pre style=\"white-space:pre;overflow-x:auto;line-height:normal;font-family:Menlo,'DejaVu Sans Mono',consolas,'Courier New',monospace\"></pre>\n"
      ],
      "text/plain": []
     },
     "metadata": {},
     "output_type": "display_data"
    },
    {
     "data": {
      "text/html": [
       "<pre style=\"white-space:pre;overflow-x:auto;line-height:normal;font-family:Menlo,'DejaVu Sans Mono',consolas,'Courier New',monospace\">\n",
       "</pre>\n"
      ],
      "text/plain": [
       "\n"
      ]
     },
     "metadata": {},
     "output_type": "display_data"
    }
   ],
   "source": [
    "from torch.utils.data import DataLoader\n",
    "from rich.progress import track\n",
    "\n",
    "from binary_dataset import BinaryDataset\n",
    "\n",
    "batch_size = 32\n",
    "tokens_per_paragraph = 256  # Fixed number of tokens per paragraph\n",
    "\n",
    "train_dataset = BinaryDataset(\"pan21/train\", \"pan21/train\")\n",
    "val_dataset = BinaryDataset(\"pan21/validation\", \"pan21/validation\")\n",
    "\n",
    "# dataloader seems wonky, always returns tuple len 2 with default collate fn\n",
    "def collate_fn(batch):\n",
    "    # Separate each tuple into two lists\n",
    "    x = [item[0] for item in batch]\n",
    "    y = torch.stack([item[1] for item in batch]).view(len(batch), 1)\n",
    "\n",
    "    return x, y\n",
    "dataloader = DataLoader(train_dataset, batch_size=batch_size, shuffle=False, collate_fn=collate_fn)\n",
    "val_dataloader = DataLoader(val_dataset, batch_size=batch_size, shuffle=False, collate_fn=collate_fn)"
   ]
  },
  {
   "cell_type": "code",
   "execution_count": 4,
   "metadata": {},
   "outputs": [
    {
     "name": "stderr",
     "output_type": "stream",
     "text": [
      "c:\\Users\\thoma\\Documents\\croatia\\masters\\semester2\\text_analysis\\tar_project\\.venv311\\Lib\\site-packages\\cupy\\_environment.py:216: UserWarning: CUDA path could not be detected. Set CUDA_PATH environment variable if CuPy fails to load.\n",
      "  warnings.warn(\n"
     ]
    }
   ],
   "source": [
    "import torch\n",
    "import torch.nn as nn\n",
    "import cupy as cp\n",
    "from cupy.fft import fft\n",
    "\n",
    "class ParagraphLabelingModelWithBERT(nn.Module):\n",
    "    def __init__(self, tokens_per_paragraph, output_dim, fourier=False, single_layer = True):\n",
    "        super(ParagraphLabelingModelWithBERT, self).__init__()\n",
    "        \n",
    "        self.fourier = fourier\n",
    "        self.single_layer = single_layer\n",
    "        self.tokens_per_paragraph = tokens_per_paragraph\n",
    "\n",
    "        bert_embedding_dimension = 768\n",
    "        input_size = bert_embedding_dimension*self.tokens_per_paragraph*2\n",
    "        \n",
    "        if self.single_layer:\n",
    "            self.fc = nn.Linear(input_size, output_dim, device=DEVICE)\n",
    "        else:\n",
    "            self.fc = nn.Linear(input_size, 256, device=DEVICE)\n",
    "            self.fc2 = nn.Linear(self.fc.out_features, 256, device=DEVICE)\n",
    "            self.fc3 = nn.Linear(self.fc2.out_features, 64, device=DEVICE)\n",
    "            self.fc4 = nn.Linear(self.fc3.out_features, 32, device=DEVICE)\n",
    "            self.fc5 = nn.Linear(self.fc4.out_features, output_dim, device=DEVICE)\n",
    "\n",
    "    def forward(self, paragraph_pair):\n",
    "        # Tokenize paragraphs\n",
    "        # print(paragraphs)\n",
    "\n",
    "        # batches come as lists, individual examples as tuples\n",
    "        if isinstance(paragraph_pair, tuple) and len(paragraph_pair) == 2:\n",
    "            paragraph_pair = [paragraph_pair]\n",
    "\n",
    "        # print(f\"{len(paragraph_pair)=} {len(paragraph_pair[0])=}\")\n",
    "        # print(f\"{paragraph_pair[0]=}\")\n",
    "        \n",
    "        if self.fourier:\n",
    "            paragraph_pair = [\n",
    "                    (torch.tensor(cp.real(fft(cp.asarray(p1), axis=1)), device=DEVICE), \n",
    "                    torch.tensor(cp.real(fft(cp.asarray(p2), axis=1)), device=DEVICE))\n",
    "                for (p1, p2) in paragraph_pair\n",
    "                ]\n",
    "        x = self.fc(torch.stack([torch.flatten(torch.cat((p[0].squeeze(0), p[1].squeeze(0)), dim=0)) for p in paragraph_pair]))\n",
    "        if self.single_layer:\n",
    "            pass\n",
    "        else:\n",
    "            for fc in [self.fc2, self.fc3, self.fc4, self.fc5]:\n",
    "                x = fc(x)\n",
    "\n",
    "        # print(f\"{x.shape=}\")\n",
    "        return torch.sigmoid(x)"
   ]
  },
  {
   "cell_type": "code",
   "execution_count": 5,
   "metadata": {},
   "outputs": [
    {
     "data": {
      "application/vnd.jupyter.widget-view+json": {
       "model_id": "6ca573b71f154476b4f1b1e7be929144",
       "version_major": 2,
       "version_minor": 0
      },
      "text/plain": [
       "Output()"
      ]
     },
     "metadata": {},
     "output_type": "display_data"
    },
    {
     "data": {
      "text/html": [
       "<pre style=\"white-space:pre;overflow-x:auto;line-height:normal;font-family:Menlo,'DejaVu Sans Mono',consolas,'Courier New',monospace\">Epoch [1/10], Loss: 0.6485\n",
       "</pre>\n"
      ],
      "text/plain": [
       "Epoch [1/10], Loss: 0.6485\n"
      ]
     },
     "metadata": {},
     "output_type": "display_data"
    },
    {
     "data": {
      "text/html": [
       "<pre style=\"white-space:pre;overflow-x:auto;line-height:normal;font-family:Menlo,'DejaVu Sans Mono',consolas,'Courier New',monospace\">Epoch [2/10], Loss: 0.6430\n",
       "</pre>\n"
      ],
      "text/plain": [
       "Epoch [2/10], Loss: 0.6430\n"
      ]
     },
     "metadata": {},
     "output_type": "display_data"
    },
    {
     "data": {
      "text/html": [
       "<pre style=\"white-space:pre;overflow-x:auto;line-height:normal;font-family:Menlo,'DejaVu Sans Mono',consolas,'Courier New',monospace\">Epoch [3/10], Loss: 0.6305\n",
       "</pre>\n"
      ],
      "text/plain": [
       "Epoch [3/10], Loss: 0.6305\n"
      ]
     },
     "metadata": {},
     "output_type": "display_data"
    },
    {
     "data": {
      "text/html": [
       "<pre style=\"white-space:pre;overflow-x:auto;line-height:normal;font-family:Menlo,'DejaVu Sans Mono',consolas,'Courier New',monospace\">Epoch [4/10], Loss: 0.6023\n",
       "</pre>\n"
      ],
      "text/plain": [
       "Epoch [4/10], Loss: 0.6023\n"
      ]
     },
     "metadata": {},
     "output_type": "display_data"
    },
    {
     "data": {
      "text/html": [
       "<pre style=\"white-space:pre;overflow-x:auto;line-height:normal;font-family:Menlo,'DejaVu Sans Mono',consolas,'Courier New',monospace\">Epoch [5/10], Loss: 0.5791\n",
       "</pre>\n"
      ],
      "text/plain": [
       "Epoch [5/10], Loss: 0.5791\n"
      ]
     },
     "metadata": {},
     "output_type": "display_data"
    },
    {
     "data": {
      "text/html": [
       "<pre style=\"white-space:pre;overflow-x:auto;line-height:normal;font-family:Menlo,'DejaVu Sans Mono',consolas,'Courier New',monospace\">Epoch [6/10], Loss: 0.5733\n",
       "</pre>\n"
      ],
      "text/plain": [
       "Epoch [6/10], Loss: 0.5733\n"
      ]
     },
     "metadata": {},
     "output_type": "display_data"
    },
    {
     "data": {
      "text/html": [
       "<pre style=\"white-space:pre;overflow-x:auto;line-height:normal;font-family:Menlo,'DejaVu Sans Mono',consolas,'Courier New',monospace\">Epoch [7/10], Loss: 0.5595\n",
       "</pre>\n"
      ],
      "text/plain": [
       "Epoch [7/10], Loss: 0.5595\n"
      ]
     },
     "metadata": {},
     "output_type": "display_data"
    },
    {
     "data": {
      "text/html": [
       "<pre style=\"white-space:pre;overflow-x:auto;line-height:normal;font-family:Menlo,'DejaVu Sans Mono',consolas,'Courier New',monospace\">Epoch [8/10], Loss: 0.5462\n",
       "</pre>\n"
      ],
      "text/plain": [
       "Epoch [8/10], Loss: 0.5462\n"
      ]
     },
     "metadata": {},
     "output_type": "display_data"
    },
    {
     "data": {
      "text/html": [
       "<pre style=\"white-space:pre;overflow-x:auto;line-height:normal;font-family:Menlo,'DejaVu Sans Mono',consolas,'Courier New',monospace\">Epoch [9/10], Loss: 0.5362\n",
       "</pre>\n"
      ],
      "text/plain": [
       "Epoch [9/10], Loss: 0.5362\n"
      ]
     },
     "metadata": {},
     "output_type": "display_data"
    },
    {
     "data": {
      "text/html": [
       "<pre style=\"white-space:pre;overflow-x:auto;line-height:normal;font-family:Menlo,'DejaVu Sans Mono',consolas,'Courier New',monospace\">Epoch [10/10], Loss: 0.5285\n",
       "</pre>\n"
      ],
      "text/plain": [
       "Epoch [10/10], Loss: 0.5285\n"
      ]
     },
     "metadata": {},
     "output_type": "display_data"
    },
    {
     "data": {
      "text/html": [
       "<pre style=\"white-space:pre;overflow-x:auto;line-height:normal;font-family:Menlo,'DejaVu Sans Mono',consolas,'Courier New',monospace\"></pre>\n"
      ],
      "text/plain": []
     },
     "metadata": {},
     "output_type": "display_data"
    },
    {
     "data": {
      "text/html": [
       "<pre style=\"white-space:pre;overflow-x:auto;line-height:normal;font-family:Menlo,'DejaVu Sans Mono',consolas,'Courier New',monospace\">\n",
       "</pre>\n"
      ],
      "text/plain": [
       "\n"
      ]
     },
     "metadata": {},
     "output_type": "display_data"
    },
    {
     "data": {
      "application/vnd.jupyter.widget-view+json": {
       "model_id": "dc4edf2bb96f44c4a223dd9a1a51809d",
       "version_major": 2,
       "version_minor": 0
      },
      "text/plain": [
       "Output()"
      ]
     },
     "metadata": {},
     "output_type": "display_data"
    },
    {
     "data": {
      "text/html": [
       "<pre style=\"white-space:pre;overflow-x:auto;line-height:normal;font-family:Menlo,'DejaVu Sans Mono',consolas,'Courier New',monospace\">Epoch [1/10], Loss: 0.6162\n",
       "</pre>\n"
      ],
      "text/plain": [
       "Epoch [1/10], Loss: 0.6162\n"
      ]
     },
     "metadata": {},
     "output_type": "display_data"
    },
    {
     "data": {
      "text/html": [
       "<pre style=\"white-space:pre;overflow-x:auto;line-height:normal;font-family:Menlo,'DejaVu Sans Mono',consolas,'Courier New',monospace\">Epoch [2/10], Loss: 0.5671\n",
       "</pre>\n"
      ],
      "text/plain": [
       "Epoch [2/10], Loss: 0.5671\n"
      ]
     },
     "metadata": {},
     "output_type": "display_data"
    },
    {
     "data": {
      "text/html": [
       "<pre style=\"white-space:pre;overflow-x:auto;line-height:normal;font-family:Menlo,'DejaVu Sans Mono',consolas,'Courier New',monospace\">Epoch [3/10], Loss: 0.5191\n",
       "</pre>\n"
      ],
      "text/plain": [
       "Epoch [3/10], Loss: 0.5191\n"
      ]
     },
     "metadata": {},
     "output_type": "display_data"
    },
    {
     "data": {
      "text/html": [
       "<pre style=\"white-space:pre;overflow-x:auto;line-height:normal;font-family:Menlo,'DejaVu Sans Mono',consolas,'Courier New',monospace\">Epoch [4/10], Loss: 0.5002\n",
       "</pre>\n"
      ],
      "text/plain": [
       "Epoch [4/10], Loss: 0.5002\n"
      ]
     },
     "metadata": {},
     "output_type": "display_data"
    },
    {
     "data": {
      "text/html": [
       "<pre style=\"white-space:pre;overflow-x:auto;line-height:normal;font-family:Menlo,'DejaVu Sans Mono',consolas,'Courier New',monospace\">Epoch [5/10], Loss: 0.4963\n",
       "</pre>\n"
      ],
      "text/plain": [
       "Epoch [5/10], Loss: 0.4963\n"
      ]
     },
     "metadata": {},
     "output_type": "display_data"
    },
    {
     "data": {
      "text/html": [
       "<pre style=\"white-space:pre;overflow-x:auto;line-height:normal;font-family:Menlo,'DejaVu Sans Mono',consolas,'Courier New',monospace\">Epoch [6/10], Loss: 0.4882\n",
       "</pre>\n"
      ],
      "text/plain": [
       "Epoch [6/10], Loss: 0.4882\n"
      ]
     },
     "metadata": {},
     "output_type": "display_data"
    },
    {
     "data": {
      "text/html": [
       "<pre style=\"white-space:pre;overflow-x:auto;line-height:normal;font-family:Menlo,'DejaVu Sans Mono',consolas,'Courier New',monospace\">Epoch [7/10], Loss: 0.4786\n",
       "</pre>\n"
      ],
      "text/plain": [
       "Epoch [7/10], Loss: 0.4786\n"
      ]
     },
     "metadata": {},
     "output_type": "display_data"
    },
    {
     "data": {
      "text/html": [
       "<pre style=\"white-space:pre;overflow-x:auto;line-height:normal;font-family:Menlo,'DejaVu Sans Mono',consolas,'Courier New',monospace\">Epoch [8/10], Loss: 0.4615\n",
       "</pre>\n"
      ],
      "text/plain": [
       "Epoch [8/10], Loss: 0.4615\n"
      ]
     },
     "metadata": {},
     "output_type": "display_data"
    },
    {
     "data": {
      "text/html": [
       "<pre style=\"white-space:pre;overflow-x:auto;line-height:normal;font-family:Menlo,'DejaVu Sans Mono',consolas,'Courier New',monospace\">Epoch [9/10], Loss: 0.4278\n",
       "</pre>\n"
      ],
      "text/plain": [
       "Epoch [9/10], Loss: 0.4278\n"
      ]
     },
     "metadata": {},
     "output_type": "display_data"
    },
    {
     "data": {
      "text/html": [
       "<pre style=\"white-space:pre;overflow-x:auto;line-height:normal;font-family:Menlo,'DejaVu Sans Mono',consolas,'Courier New',monospace\">Epoch [10/10], Loss: 0.5640\n",
       "</pre>\n"
      ],
      "text/plain": [
       "Epoch [10/10], Loss: 0.5640\n"
      ]
     },
     "metadata": {},
     "output_type": "display_data"
    },
    {
     "data": {
      "text/html": [
       "<pre style=\"white-space:pre;overflow-x:auto;line-height:normal;font-family:Menlo,'DejaVu Sans Mono',consolas,'Courier New',monospace\"></pre>\n"
      ],
      "text/plain": []
     },
     "metadata": {},
     "output_type": "display_data"
    },
    {
     "data": {
      "text/html": [
       "<pre style=\"white-space:pre;overflow-x:auto;line-height:normal;font-family:Menlo,'DejaVu Sans Mono',consolas,'Courier New',monospace\">\n",
       "</pre>\n"
      ],
      "text/plain": [
       "\n"
      ]
     },
     "metadata": {},
     "output_type": "display_data"
    }
   ],
   "source": [
    "import datetime\n",
    "from rich.progress import Progress\n",
    "from pathlib import Path\n",
    "\n",
    "# Model parameters\n",
    "bert_model_name = 'bert-base-uncased'\n",
    "output_dim = 1    # Number of classes\n",
    "# lr_exps = range(4, 8)\n",
    "lr_exps = [6]\n",
    "# fourier = True\n",
    "num_epochs = 10\n",
    "single_layer = False\n",
    "\n",
    "for fourier in (False, True,):\n",
    "    for lr_exponent in lr_exps:\n",
    "        lr = 1/10**lr_exponent\n",
    "        model = ParagraphLabelingModelWithBERT(tokens_per_paragraph, output_dim, fourier=fourier, single_layer=single_layer)\n",
    "\n",
    "        criterion = nn.BCELoss()\n",
    "        # learning rate is important, .001 led to always outputting 1\n",
    "        optimizer = torch.optim.Adam(model.parameters(), lr=lr)\n",
    "\n",
    "        with Progress() as pb:\n",
    "            total_task = pb.add_task('Total', total=num_epochs)\n",
    "\n",
    "            for epoch in range(1, num_epochs+1):\n",
    "                epoch_task = pb.add_task(f'Epoch {epoch}', total=len(dataloader))\n",
    "\n",
    "                model.train()\n",
    "                for inputs, targets in dataloader:\n",
    "                    # print(f\"{type(inputs)=} {len(inputs)=}\")\n",
    "                    # print(f\"{type(inputs[0])=}\")\n",
    "                    # print(f\"{targets.shape=}\")\n",
    "                    \n",
    "                    optimizer.zero_grad()\n",
    "\n",
    "                    # Forward pass\n",
    "                    outputs = model(inputs)\n",
    "                    # print(f\"{outputs.shape=}\")\n",
    "\n",
    "                    # Compute the loss\n",
    "                    loss = criterion(outputs, targets)\n",
    "\n",
    "                    # Backward pass and optimization\n",
    "                    loss.backward()\n",
    "                    optimizer.step()\n",
    "\n",
    "                    pb.update(epoch_task, advance=1)\n",
    "\n",
    "                # TODO: add metadata to the model files\n",
    "                metadata = {\n",
    "                    'epoch': epoch,\n",
    "                    'loss': loss.item(),\n",
    "                    'optimizer_state': 'Adam',\n",
    "                    'lr': lr,\n",
    "                    'fourier': fourier,\n",
    "                    'tokens_per_paragraph': tokens_per_paragraph,\n",
    "                }\n",
    "                state_dict = model.state_dict()\n",
    "                state_dict['metadata'] = metadata\n",
    "\n",
    "                # print(f\"{model.state_dict()=}\")\n",
    "\n",
    "                print(f'Epoch [{epoch}/{num_epochs}], Loss: {loss.item():.4f}')\n",
    "                pb.update(total_task, advance=1)\n",
    "                torch.save(model.state_dict(), Path(f\"{datetime.datetime.now().strftime('%Y_%m_%d-%I_%M_%S_%p')}_e{epoch}.torch\"))\n"
   ]
  },
  {
   "cell_type": "code",
   "execution_count": 5,
   "metadata": {},
   "outputs": [
    {
     "data": {
      "application/vnd.jupyter.widget-view+json": {
       "model_id": "06fa387138704badaae6096ca1f7543c",
       "version_major": 2,
       "version_minor": 0
      },
      "text/plain": [
       "Output()"
      ]
     },
     "metadata": {},
     "output_type": "display_data"
    },
    {
     "data": {
      "text/html": [
       "<pre style=\"white-space:pre;overflow-x:auto;line-height:normal;font-family:Menlo,'DejaVu Sans Mono',consolas,'Courier New',monospace\"></pre>\n"
      ],
      "text/plain": []
     },
     "metadata": {},
     "output_type": "display_data"
    },
    {
     "data": {
      "text/html": [
       "<pre style=\"white-space:pre;overflow-x:auto;line-height:normal;font-family:Menlo,'DejaVu Sans Mono',consolas,'Courier New',monospace\">\n",
       "</pre>\n"
      ],
      "text/plain": [
       "\n"
      ]
     },
     "metadata": {},
     "output_type": "display_data"
    },
    {
     "data": {
      "application/vnd.jupyter.widget-view+json": {
       "model_id": "564a79188d3547f28e5e4d72e2f20125",
       "version_major": 2,
       "version_minor": 0
      },
      "text/plain": [
       "Output()"
      ]
     },
     "metadata": {},
     "output_type": "display_data"
    },
    {
     "data": {
      "text/html": [
       "<pre style=\"white-space:pre;overflow-x:auto;line-height:normal;font-family:Menlo,'DejaVu Sans Mono',consolas,'Courier New',monospace\"></pre>\n"
      ],
      "text/plain": []
     },
     "metadata": {},
     "output_type": "display_data"
    },
    {
     "data": {
      "text/html": [
       "<pre style=\"white-space:pre;overflow-x:auto;line-height:normal;font-family:Menlo,'DejaVu Sans Mono',consolas,'Courier New',monospace\">\n",
       "</pre>\n"
      ],
      "text/plain": [
       "\n"
      ]
     },
     "metadata": {},
     "output_type": "display_data"
    },
    {
     "data": {
      "application/vnd.jupyter.widget-view+json": {
       "model_id": "ed0a4983293842db9833ce61e3962ef9",
       "version_major": 2,
       "version_minor": 0
      },
      "text/plain": [
       "Output()"
      ]
     },
     "metadata": {},
     "output_type": "display_data"
    },
    {
     "data": {
      "text/html": [
       "<pre style=\"white-space:pre;overflow-x:auto;line-height:normal;font-family:Menlo,'DejaVu Sans Mono',consolas,'Courier New',monospace\"></pre>\n"
      ],
      "text/plain": []
     },
     "metadata": {},
     "output_type": "display_data"
    },
    {
     "data": {
      "text/html": [
       "<pre style=\"white-space:pre;overflow-x:auto;line-height:normal;font-family:Menlo,'DejaVu Sans Mono',consolas,'Courier New',monospace\">\n",
       "</pre>\n"
      ],
      "text/plain": [
       "\n"
      ]
     },
     "metadata": {},
     "output_type": "display_data"
    },
    {
     "data": {
      "application/vnd.jupyter.widget-view+json": {
       "model_id": "6e1ca215bed44a0f9c581fedf9e25cc8",
       "version_major": 2,
       "version_minor": 0
      },
      "text/plain": [
       "Output()"
      ]
     },
     "metadata": {},
     "output_type": "display_data"
    },
    {
     "data": {
      "text/html": [
       "<pre style=\"white-space:pre;overflow-x:auto;line-height:normal;font-family:Menlo,'DejaVu Sans Mono',consolas,'Courier New',monospace\"></pre>\n"
      ],
      "text/plain": []
     },
     "metadata": {},
     "output_type": "display_data"
    },
    {
     "data": {
      "text/html": [
       "<pre style=\"white-space:pre;overflow-x:auto;line-height:normal;font-family:Menlo,'DejaVu Sans Mono',consolas,'Courier New',monospace\">\n",
       "</pre>\n"
      ],
      "text/plain": [
       "\n"
      ]
     },
     "metadata": {},
     "output_type": "display_data"
    }
   ],
   "source": [
    "# best vanilla\n",
    "# eval_dict = torch.load(\"checkpoints/2024_07_28-02_09_54_AM_e9.torch\")\n",
    "# best fourier\n",
    "# eval_dict = torch.load(\"checkpoints/2024_07_28-02_56_01_AM_e9.torch\")\n",
    "from pathlib import Path\n",
    "\n",
    "models_info = [\n",
    "    # (Path(\"checkpoints/2024_07_28-02_09_54_AM_e9.torch\"), True),\n",
    "    # (Path(\"checkpoints/2024_07_28-02_56_01_AM_e9.torch\"), True),\n",
    "    (Path(\"2024_07_31-08_36_21_AM_e10.torch\"), False),\n",
    "    (Path(\"2024_07_31-11_46_54_AM_e9.torch\"), False),\n",
    "    (Path(\"2024_07_31-08_30_18_AM_e9.torch\"), False),\n",
    "    (Path(\"2024_07_31-12_05_09_PM_e10.torch\"), False),\n",
    "]\n",
    "models = []\n",
    "\n",
    "for model_path, single_layer in models_info:\n",
    "    output_dim = 1\n",
    "    eval_dict = torch.load(model_path)\n",
    "    model = ParagraphLabelingModelWithBERT(tokens_per_paragraph, output_dim, single_layer=single_layer)\n",
    "    model.load_state_dict(eval_dict)\n",
    "    model.eval()\n",
    "    models.append(model)\n",
    "\n",
    "# val_loss = 0\n",
    "# criterion = nn.BCELoss()\n",
    "\n",
    "# for input, target in val_dataloader:\n",
    "#     with torch.no_grad():\n",
    "#         val_outputs = model(input)\n",
    "        \n",
    "#         val_loss += criterion(val_outputs.view(-1, output_dim), target).item()\n",
    "\n",
    "# print(f'Validation Loss: {val_loss/len(val_dataloader):.4f}')\n",
    "\n",
    "from prediction import build_prediction_dict\n",
    "prediction_dicts = build_prediction_dict(models, val_dataset)"
   ]
  },
  {
   "cell_type": "code",
   "execution_count": 6,
   "metadata": {},
   "outputs": [
    {
     "name": "stdout",
     "output_type": "stream",
     "text": [
      "Model: 2024_07_31-08_36_21_AM_e10\n",
      "\tTask 1 Score: 0.5803644900999559\n",
      "\tTask 2 Score: 0.5145448681251371\n",
      "\tTask 3 Score: 0.3110505723520576\n",
      "\n",
      "Model: 2024_07_31-11_46_54_AM_e9\n",
      "\tTask 1 Score: 0.5654383104792327\n",
      "\tTask 2 Score: 0.4977997202191672\n",
      "\tTask 3 Score: 0.30386377035121376\n",
      "\n",
      "Model: 2024_07_31-08_30_18_AM_e9\n",
      "\tTask 1 Score: 0.5806979193338015\n",
      "\tTask 2 Score: 0.5155192897495886\n",
      "\tTask 3 Score: 0.3089139227315335\n",
      "\n",
      "Model: 2024_07_31-12_05_09_PM_e10\n",
      "\tTask 1 Score: 0.5641661894763632\n",
      "\tTask 2 Score: 0.49693973105230305\n",
      "\tTask 3 Score: 0.3068654615888679\n",
      "\n"
     ]
    }
   ],
   "source": [
    "from prediction import compute_scores, build_json_predictions\n",
    "for (model_path, _), prediction_dict in zip(models_info, prediction_dicts):\n",
    "    dict_of_jsons_result = build_json_predictions(prediction_dict)\n",
    "\n",
    "    from evaluation.evaluator import read_ground_truth_files\n",
    "    truth = read_ground_truth_files(\"pan21/validation\")\n",
    "\n",
    "    task1_result, task2_result, task3_result = compute_scores(truth, dict_of_jsons_result)\n",
    "\n",
    "    print(\n",
    "        f'Model: {model_path.stem}\\n' +\n",
    "        f'\\tTask 1 Score: {task1_result}\\n'+\n",
    "        f'\\tTask 2 Score: {task2_result}\\n'+\n",
    "        f'\\tTask 3 Score: {task3_result}\\n'\n",
    "    )\n"
   ]
  }
 ],
 "metadata": {
  "kernelspec": {
   "display_name": ".venv311",
   "language": "python",
   "name": "python3"
  },
  "language_info": {
   "codemirror_mode": {
    "name": "ipython",
    "version": 3
   },
   "file_extension": ".py",
   "mimetype": "text/x-python",
   "name": "python",
   "nbconvert_exporter": "python",
   "pygments_lexer": "ipython3",
   "version": "3.11.9"
  }
 },
 "nbformat": 4,
 "nbformat_minor": 2
}
