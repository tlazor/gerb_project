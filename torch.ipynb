{
 "cells": [
  {
   "cell_type": "code",
   "execution_count": 1,
   "metadata": {},
   "outputs": [
    {
     "name": "stdout",
     "output_type": "stream",
     "text": [
      "Using device: cuda\n"
     ]
    }
   ],
   "source": [
    "import torch\n",
    "import random\n",
    "\n",
    "random_seed = 42\n",
    "\n",
    "# 1. Set the `PYTHONHASHSEED` environment variable at a fixed value\n",
    "import os\n",
    "os.environ['PYTHONHASHSEED']=str(random_seed)\n",
    "\n",
    "# 2. Set the `python` built-in pseudo-random generator at a fixed value\n",
    "import random\n",
    "random.seed(random_seed)\n",
    "\n",
    "# 3. Set the `numpy` pseudo-random generator at a fixed value\n",
    "import numpy as np\n",
    "np.random.seed(random_seed)\n",
    " \n",
    "# Set a random seed for PyTorch (for GPU as well)\n",
    "torch.manual_seed(random_seed)\n",
    "if torch.cuda.is_available():\n",
    "    torch.cuda.manual_seed_all(random_seed)\n",
    "\n",
    "DEVICE = torch.device('cuda' if torch.cuda.is_available() else 'cpu')\n",
    "print('Using device:', DEVICE)"
   ]
  },
  {
   "cell_type": "code",
   "execution_count": 2,
   "metadata": {},
   "outputs": [],
   "source": [
    "%load_ext autoreload\n",
    "%autoreload 2"
   ]
  },
  {
   "cell_type": "code",
   "execution_count": 3,
   "metadata": {},
   "outputs": [
    {
     "data": {
      "application/vnd.jupyter.widget-view+json": {
       "model_id": "94362ed7e74745088962a6f42820d977",
       "version_major": 2,
       "version_minor": 0
      },
      "text/plain": [
       "Output()"
      ]
     },
     "metadata": {},
     "output_type": "display_data"
    },
    {
     "name": "stdout",
     "output_type": "stream",
     "text": [
      "Using author file: pan21\\train_authors\n",
      "Using embedding dir: pan21\\train_embeddings\n"
     ]
    },
    {
     "data": {
      "text/html": [
       "<pre style=\"white-space:pre;overflow-x:auto;line-height:normal;font-family:Menlo,'DejaVu Sans Mono',consolas,'Courier New',monospace\"></pre>\n"
      ],
      "text/plain": []
     },
     "metadata": {},
     "output_type": "display_data"
    },
    {
     "data": {
      "text/html": [
       "<pre style=\"white-space:pre;overflow-x:auto;line-height:normal;font-family:Menlo,'DejaVu Sans Mono',consolas,'Courier New',monospace\">\n",
       "</pre>\n"
      ],
      "text/plain": [
       "\n"
      ]
     },
     "metadata": {},
     "output_type": "display_data"
    },
    {
     "data": {
      "application/vnd.jupyter.widget-view+json": {
       "model_id": "d6fb4d18f1d3457a9396ade17ea71d74",
       "version_major": 2,
       "version_minor": 0
      },
      "text/plain": [
       "Output()"
      ]
     },
     "metadata": {},
     "output_type": "display_data"
    },
    {
     "name": "stdout",
     "output_type": "stream",
     "text": [
      "Using author file: pan21\\validation_authors\n",
      "Using embedding dir: pan21\\validation_embeddings\n"
     ]
    },
    {
     "data": {
      "text/html": [
       "<pre style=\"white-space:pre;overflow-x:auto;line-height:normal;font-family:Menlo,'DejaVu Sans Mono',consolas,'Courier New',monospace\"></pre>\n"
      ],
      "text/plain": []
     },
     "metadata": {},
     "output_type": "display_data"
    },
    {
     "data": {
      "text/html": [
       "<pre style=\"white-space:pre;overflow-x:auto;line-height:normal;font-family:Menlo,'DejaVu Sans Mono',consolas,'Courier New',monospace\">\n",
       "</pre>\n"
      ],
      "text/plain": [
       "\n"
      ]
     },
     "metadata": {},
     "output_type": "display_data"
    }
   ],
   "source": [
    "from torch.utils.data import DataLoader\n",
    "import rich\n",
    "\n",
    "from binary_dataset import BinaryDataset\n",
    "\n",
    "batch_size = 32\n",
    "tokens_per_paragraph = 256  # Fixed number of tokens per paragraph\n",
    "\n",
    "train_dataset = BinaryDataset(\"pan21/train\", \"pan21/train\")\n",
    "val_dataset = BinaryDataset(\"pan21/validation\", \"pan21/validation\")\n",
    "\n",
    "# dataloader seems wonky, always returns tuple len 2 with default collate fn\n",
    "def collate_fn(batch):\n",
    "    # Separate each tuple into two lists\n",
    "    x = [item[0] for item in batch]\n",
    "    y = torch.stack([item[1] for item in batch])\n",
    "\n",
    "    return x, y\n",
    "dataloader = DataLoader(train_dataset, batch_size=batch_size, shuffle=False, drop_last=True, collate_fn=collate_fn)\n",
    "val_dataloader = DataLoader(val_dataset, batch_size=5, shuffle=False, collate_fn=collate_fn)\n"
   ]
  },
  {
   "cell_type": "code",
   "execution_count": 4,
   "metadata": {},
   "outputs": [],
   "source": [
    "import torch\n",
    "import torch.nn as nn\n",
    "from transformers import BertTokenizer, BertModel\n",
    "\n",
    "class ParagraphLabelingModelWithBERT(nn.Module):\n",
    "    def __init__(self, bert_model_name, tokens_per_paragraph, output_dim):\n",
    "        super(ParagraphLabelingModelWithBERT, self).__init__()\n",
    "        # Initialize the BERT tokenizer and model\n",
    "        self.tokens_per_paragraph = tokens_per_paragraph\n",
    "        # self.tokenizer = BertTokenizer.from_pretrained(bert_model_name)\n",
    "        # self.bert_model = BertModel.from_pretrained(bert_model_name).to(DEVICE)\n",
    "\n",
    "        bert_embedding_dimension = 768\n",
    "        input_size = bert_embedding_dimension*self.tokens_per_paragraph*2\n",
    "        self.fc = nn.Linear(input_size, output_dim, device=DEVICE)\n",
    "\n",
    "    def forward(self, paragraph_pair):\n",
    "        # Tokenize paragraphs\n",
    "        # print(paragraphs)\n",
    "\n",
    "        # batches come as lists, individual examples as tuples\n",
    "        if isinstance(paragraph_pair, tuple) and len(paragraph_pair) == 2:\n",
    "            paragraph_pair = [paragraph_pair]\n",
    "\n",
    "        # print(f\"{len(paragraph_pair)=} {len(paragraph_pair[0])=}\")\n",
    "        # print(f\"{paragraph_pair[0]=}\")\n",
    "        \n",
    "        x = torch.stack([torch.flatten(torch.cat((p[0].squeeze(0), p[1].squeeze(0)), dim=0)) for p in paragraph_pair])\n",
    "        # print(f\"{x.shape=}\")\n",
    "\n",
    "        x = self.fc(x)\n",
    "        x = torch.sigmoid(x)\n",
    "        return x"
   ]
  },
  {
   "cell_type": "code",
   "execution_count": 22,
   "metadata": {},
   "outputs": [
    {
     "data": {
      "application/vnd.jupyter.widget-view+json": {
       "model_id": "6578f66baa6e4ec7882a088a845451ef",
       "version_major": 2,
       "version_minor": 0
      },
      "text/plain": [
       "Output()"
      ]
     },
     "metadata": {},
     "output_type": "display_data"
    },
    {
     "data": {
      "text/html": [
       "<pre style=\"white-space:pre;overflow-x:auto;line-height:normal;font-family:Menlo,'DejaVu Sans Mono',consolas,'Courier New',monospace\">Epoch [1/5], Loss: 5.5593\n",
       "</pre>\n"
      ],
      "text/plain": [
       "Epoch [1/5], Loss: 5.5593\n"
      ]
     },
     "metadata": {},
     "output_type": "display_data"
    },
    {
     "data": {
      "text/html": [
       "<pre style=\"white-space:pre;overflow-x:auto;line-height:normal;font-family:Menlo,'DejaVu Sans Mono',consolas,'Courier New',monospace\">Epoch [2/5], Loss: 3.2939\n",
       "</pre>\n"
      ],
      "text/plain": [
       "Epoch [2/5], Loss: 3.2939\n"
      ]
     },
     "metadata": {},
     "output_type": "display_data"
    },
    {
     "data": {
      "text/html": [
       "<pre style=\"white-space:pre;overflow-x:auto;line-height:normal;font-family:Menlo,'DejaVu Sans Mono',consolas,'Courier New',monospace\">Epoch [3/5], Loss: 2.1751\n",
       "</pre>\n"
      ],
      "text/plain": [
       "Epoch [3/5], Loss: 2.1751\n"
      ]
     },
     "metadata": {},
     "output_type": "display_data"
    },
    {
     "data": {
      "text/html": [
       "<pre style=\"white-space:pre;overflow-x:auto;line-height:normal;font-family:Menlo,'DejaVu Sans Mono',consolas,'Courier New',monospace\">Epoch [4/5], Loss: 1.8046\n",
       "</pre>\n"
      ],
      "text/plain": [
       "Epoch [4/5], Loss: 1.8046\n"
      ]
     },
     "metadata": {},
     "output_type": "display_data"
    },
    {
     "data": {
      "text/html": [
       "<pre style=\"white-space:pre;overflow-x:auto;line-height:normal;font-family:Menlo,'DejaVu Sans Mono',consolas,'Courier New',monospace\">Epoch [5/5], Loss: 1.3923\n",
       "</pre>\n"
      ],
      "text/plain": [
       "Epoch [5/5], Loss: 1.3923\n"
      ]
     },
     "metadata": {},
     "output_type": "display_data"
    },
    {
     "data": {
      "text/html": [
       "<pre style=\"white-space:pre;overflow-x:auto;line-height:normal;font-family:Menlo,'DejaVu Sans Mono',consolas,'Courier New',monospace\"></pre>\n"
      ],
      "text/plain": []
     },
     "metadata": {},
     "output_type": "display_data"
    },
    {
     "data": {
      "text/html": [
       "<pre style=\"white-space:pre;overflow-x:auto;line-height:normal;font-family:Menlo,'DejaVu Sans Mono',consolas,'Courier New',monospace\">\n",
       "</pre>\n"
      ],
      "text/plain": [
       "\n"
      ]
     },
     "metadata": {},
     "output_type": "display_data"
    },
    {
     "data": {
      "application/vnd.jupyter.widget-view+json": {
       "model_id": "fbf836b53c1f441786925ae6afe89e95",
       "version_major": 2,
       "version_minor": 0
      },
      "text/plain": [
       "Output()"
      ]
     },
     "metadata": {},
     "output_type": "display_data"
    },
    {
     "data": {
      "text/html": [
       "<pre style=\"white-space:pre;overflow-x:auto;line-height:normal;font-family:Menlo,'DejaVu Sans Mono',consolas,'Courier New',monospace\">Epoch [1/5], Loss: 0.7537\n",
       "</pre>\n"
      ],
      "text/plain": [
       "Epoch [1/5], Loss: 0.7537\n"
      ]
     },
     "metadata": {},
     "output_type": "display_data"
    },
    {
     "data": {
      "text/html": [
       "<pre style=\"white-space:pre;overflow-x:auto;line-height:normal;font-family:Menlo,'DejaVu Sans Mono',consolas,'Courier New',monospace\">Epoch [2/5], Loss: 0.7415\n",
       "</pre>\n"
      ],
      "text/plain": [
       "Epoch [2/5], Loss: 0.7415\n"
      ]
     },
     "metadata": {},
     "output_type": "display_data"
    },
    {
     "data": {
      "text/html": [
       "<pre style=\"white-space:pre;overflow-x:auto;line-height:normal;font-family:Menlo,'DejaVu Sans Mono',consolas,'Courier New',monospace\">Epoch [3/5], Loss: 0.7085\n",
       "</pre>\n"
      ],
      "text/plain": [
       "Epoch [3/5], Loss: 0.7085\n"
      ]
     },
     "metadata": {},
     "output_type": "display_data"
    },
    {
     "data": {
      "text/html": [
       "<pre style=\"white-space:pre;overflow-x:auto;line-height:normal;font-family:Menlo,'DejaVu Sans Mono',consolas,'Courier New',monospace\">Epoch [4/5], Loss: 0.6755\n",
       "</pre>\n"
      ],
      "text/plain": [
       "Epoch [4/5], Loss: 0.6755\n"
      ]
     },
     "metadata": {},
     "output_type": "display_data"
    },
    {
     "data": {
      "text/html": [
       "<pre style=\"white-space:pre;overflow-x:auto;line-height:normal;font-family:Menlo,'DejaVu Sans Mono',consolas,'Courier New',monospace\">Epoch [5/5], Loss: 0.6439\n",
       "</pre>\n"
      ],
      "text/plain": [
       "Epoch [5/5], Loss: 0.6439\n"
      ]
     },
     "metadata": {},
     "output_type": "display_data"
    },
    {
     "data": {
      "text/html": [
       "<pre style=\"white-space:pre;overflow-x:auto;line-height:normal;font-family:Menlo,'DejaVu Sans Mono',consolas,'Courier New',monospace\"></pre>\n"
      ],
      "text/plain": []
     },
     "metadata": {},
     "output_type": "display_data"
    },
    {
     "data": {
      "text/html": [
       "<pre style=\"white-space:pre;overflow-x:auto;line-height:normal;font-family:Menlo,'DejaVu Sans Mono',consolas,'Courier New',monospace\">\n",
       "</pre>\n"
      ],
      "text/plain": [
       "\n"
      ]
     },
     "metadata": {},
     "output_type": "display_data"
    },
    {
     "data": {
      "application/vnd.jupyter.widget-view+json": {
       "model_id": "2d1a0f183a24402b990502f257b8cb54",
       "version_major": 2,
       "version_minor": 0
      },
      "text/plain": [
       "Output()"
      ]
     },
     "metadata": {},
     "output_type": "display_data"
    },
    {
     "data": {
      "text/html": [
       "<pre style=\"white-space:pre;overflow-x:auto;line-height:normal;font-family:Menlo,'DejaVu Sans Mono',consolas,'Courier New',monospace\">Epoch [1/5], Loss: 0.6260\n",
       "</pre>\n"
      ],
      "text/plain": [
       "Epoch [1/5], Loss: 0.6260\n"
      ]
     },
     "metadata": {},
     "output_type": "display_data"
    },
    {
     "data": {
      "text/html": [
       "<pre style=\"white-space:pre;overflow-x:auto;line-height:normal;font-family:Menlo,'DejaVu Sans Mono',consolas,'Courier New',monospace\">Epoch [2/5], Loss: 0.6202\n",
       "</pre>\n"
      ],
      "text/plain": [
       "Epoch [2/5], Loss: 0.6202\n"
      ]
     },
     "metadata": {},
     "output_type": "display_data"
    },
    {
     "data": {
      "text/html": [
       "<pre style=\"white-space:pre;overflow-x:auto;line-height:normal;font-family:Menlo,'DejaVu Sans Mono',consolas,'Courier New',monospace\">Epoch [3/5], Loss: 0.6169\n",
       "</pre>\n"
      ],
      "text/plain": [
       "Epoch [3/5], Loss: 0.6169\n"
      ]
     },
     "metadata": {},
     "output_type": "display_data"
    },
    {
     "data": {
      "text/html": [
       "<pre style=\"white-space:pre;overflow-x:auto;line-height:normal;font-family:Menlo,'DejaVu Sans Mono',consolas,'Courier New',monospace\">Epoch [4/5], Loss: 0.6142\n",
       "</pre>\n"
      ],
      "text/plain": [
       "Epoch [4/5], Loss: 0.6142\n"
      ]
     },
     "metadata": {},
     "output_type": "display_data"
    },
    {
     "data": {
      "text/html": [
       "<pre style=\"white-space:pre;overflow-x:auto;line-height:normal;font-family:Menlo,'DejaVu Sans Mono',consolas,'Courier New',monospace\">Epoch [5/5], Loss: 0.6118\n",
       "</pre>\n"
      ],
      "text/plain": [
       "Epoch [5/5], Loss: 0.6118\n"
      ]
     },
     "metadata": {},
     "output_type": "display_data"
    },
    {
     "data": {
      "text/html": [
       "<pre style=\"white-space:pre;overflow-x:auto;line-height:normal;font-family:Menlo,'DejaVu Sans Mono',consolas,'Courier New',monospace\"></pre>\n"
      ],
      "text/plain": []
     },
     "metadata": {},
     "output_type": "display_data"
    },
    {
     "data": {
      "text/html": [
       "<pre style=\"white-space:pre;overflow-x:auto;line-height:normal;font-family:Menlo,'DejaVu Sans Mono',consolas,'Courier New',monospace\">\n",
       "</pre>\n"
      ],
      "text/plain": [
       "\n"
      ]
     },
     "metadata": {},
     "output_type": "display_data"
    }
   ],
   "source": [
    "import datetime\n",
    "from rich.progress import Progress\n",
    "from pathlib import Path\n",
    "\n",
    "# Model parameters\n",
    "bert_model_name = 'bert-base-uncased'\n",
    "output_dim = 1    # Number of classes\n",
    "\n",
    "for lr_exponent in range(4, 8):\n",
    "    lr = 1/10**lr_exponent\n",
    "    model = ParagraphLabelingModelWithBERT(bert_model_name, tokens_per_paragraph, output_dim)\n",
    "\n",
    "    criterion = nn.BCELoss()\n",
    "    # learning rate is important, .001 led to always outputting 1\n",
    "    optimizer = torch.optim.Adam(model.parameters(), lr=lr)\n",
    "\n",
    "    num_epochs = 5\n",
    "\n",
    "    with Progress() as pb:\n",
    "        total_task = pb.add_task('Total', total=num_epochs)\n",
    "\n",
    "        for epoch in range(num_epochs):\n",
    "            epoch_task = pb.add_task(f'Epoch {epoch}', total=len(dataloader))\n",
    "\n",
    "            model.train()\n",
    "            for inputs, targets in dataloader:\n",
    "                # print(f\"{type(inputs)=} {len(inputs)=}\")\n",
    "                # print(f\"{type(inputs[0])=}\")\n",
    "                # print(f\"{targets.shape=}\")\n",
    "                \n",
    "                optimizer.zero_grad()\n",
    "\n",
    "                # Forward pass\n",
    "                outputs = model(inputs)\n",
    "                # print(f\"{outputs.shape=}\")\n",
    "\n",
    "                # Compute the loss\n",
    "                loss = criterion(outputs, targets)\n",
    "\n",
    "                # Backward pass and optimization\n",
    "                loss.backward()\n",
    "                optimizer.step()\n",
    "\n",
    "                pb.update(epoch_task, advance=1)\n",
    "\n",
    "            print(f'Epoch [{epoch+1}/{num_epochs}], Loss: {loss.item():.4f}')\n",
    "            pb.update(total_task, advance=1)\n",
    "            torch.save(model.state_dict(), Path(f\"{datetime.datetime.now().strftime('%Y_%m_%d-%I_%M_%S_%p')}_e{epoch}.torch\"))\n"
   ]
  },
  {
   "cell_type": "code",
   "execution_count": 15,
   "metadata": {},
   "outputs": [],
   "source": [
    "small_val_set = [val_dataset[i] for i in range(10)]"
   ]
  },
  {
   "cell_type": "code",
   "execution_count": 21,
   "metadata": {},
   "outputs": [
    {
     "name": "stdout",
     "output_type": "stream",
     "text": [
      "val_outputs=tensor([[0.4663],\n",
      "        [0.3878],\n",
      "        [0.3255],\n",
      "        [0.4528],\n",
      "        [0.4400],\n",
      "        [0.3745],\n",
      "        [0.5065],\n",
      "        [0.2962],\n",
      "        [0.4191],\n",
      "        [0.3408]], device='cuda:0')\n",
      "val_Y=tensor([[0.],\n",
      "        [1.],\n",
      "        [1.],\n",
      "        [0.],\n",
      "        [0.],\n",
      "        [0.],\n",
      "        [0.],\n",
      "        [1.],\n",
      "        [0.],\n",
      "        [0.]], device='cuda:0')\n",
      "Validation Loss: 0.7233\n"
     ]
    }
   ],
   "source": [
    "# small_val_set = [v for v in val_dataset]\n",
    "val_input = [v[0] for v in small_val_set]\n",
    "val_Y = torch.stack([v[1] for v in small_val_set])\n",
    "\n",
    "eval_dict = torch.load(\"2024_07_17-09_42_24_PM_e4.torch\")\n",
    "model.load_state_dict(eval_dict)\n",
    "model.eval()\n",
    "\n",
    "with torch.no_grad():\n",
    "    val_outputs = model(val_input)\n",
    "    print(f\"{val_outputs=}\")\n",
    "    print(f\"{val_Y=}\")\n",
    "    val_loss = criterion(val_outputs.view(-1, output_dim), val_Y)\n",
    "\n",
    "    print(f'Validation Loss: {val_loss.item():.4f}')"
   ]
  },
  {
   "cell_type": "code",
   "execution_count": 8,
   "metadata": {},
   "outputs": [],
   "source": [
    "def predictions_to_json(predictions, gt, threshold=0.5):\n",
    "    adjusted_predictions = [p.index(max(p)) for p in predictions]\n",
    "\n",
    "    true_num_paragraphs = len(gt[\"paragraph-authors\"])\n",
    "    \n",
    "    # Construct the JSON object\n",
    "    data = {\n",
    "        \"authors\": max(adjusted_predictions),\n",
    "        \"structure\": [999],  # Placeholder or specific requirement\n",
    "        \"site\": \"googole.com\",\n",
    "        \"multi-author\": max(adjusted_predictions) > 1,\n",
    "        \"changes\": [int(adjusted_predictions[i] != adjusted_predictions[i + 1]) for i in range(len(adjusted_predictions) - 1)][:true_num_paragraphs],\n",
    "        \"paragraph-authors\": adjusted_predictions[:true_num_paragraphs]\n",
    "    }\n",
    "    return data"
   ]
  },
  {
   "cell_type": "code",
   "execution_count": 14,
   "metadata": {},
   "outputs": [
    {
     "ename": "KeyboardInterrupt",
     "evalue": "",
     "output_type": "error",
     "traceback": [
      "\u001b[1;31m---------------------------------------------------------------------------\u001b[0m",
      "\u001b[1;31mKeyboardInterrupt\u001b[0m                         Traceback (most recent call last)",
      "Cell \u001b[1;32mIn[14], line 2\u001b[0m\n\u001b[0;32m      1\u001b[0m \u001b[38;5;28;01mfrom\u001b[39;00m \u001b[38;5;21;01mevaluation\u001b[39;00m\u001b[38;5;21;01m.\u001b[39;00m\u001b[38;5;21;01mevaluator\u001b[39;00m \u001b[38;5;28;01mimport\u001b[39;00m compute_score_single_predictions, compute_score_multiple_predictions\n\u001b[1;32m----> 2\u001b[0m dict_of_jsons_result \u001b[38;5;241m=\u001b[39m \u001b[43m[\u001b[49m\u001b[43mpredictions_to_json\u001b[49m\u001b[43m(\u001b[49m\u001b[43mmodel\u001b[49m\u001b[43m(\u001b[49m\u001b[43mx\u001b[49m\u001b[43m)\u001b[49m\u001b[43m,\u001b[49m\u001b[43m \u001b[49m\u001b[43my\u001b[49m\u001b[43m)\u001b[49m\u001b[43m \u001b[49m\u001b[38;5;28;43;01mfor\u001b[39;49;00m\u001b[43m \u001b[49m\u001b[43mx\u001b[49m\u001b[43m,\u001b[49m\u001b[43m \u001b[49m\u001b[43my\u001b[49m\u001b[43m \u001b[49m\u001b[38;5;129;43;01min\u001b[39;49;00m\u001b[43m \u001b[49m\u001b[43mval_dataloader\u001b[49m\u001b[43m]\u001b[49m\n\u001b[0;32m      4\u001b[0m \u001b[38;5;28;01mfrom\u001b[39;00m \u001b[38;5;21;01mevaluation\u001b[39;00m\u001b[38;5;21;01m.\u001b[39;00m\u001b[38;5;21;01mevaluator\u001b[39;00m \u001b[38;5;28;01mimport\u001b[39;00m read_ground_truth_files\n\u001b[0;32m      5\u001b[0m truth \u001b[38;5;241m=\u001b[39m read_ground_truth_files(\u001b[38;5;124m\"\u001b[39m\u001b[38;5;124mpan21/validation\u001b[39m\u001b[38;5;124m\"\u001b[39m)\n",
      "Cell \u001b[1;32mIn[14], line 2\u001b[0m, in \u001b[0;36m<listcomp>\u001b[1;34m(.0)\u001b[0m\n\u001b[0;32m      1\u001b[0m \u001b[38;5;28;01mfrom\u001b[39;00m \u001b[38;5;21;01mevaluation\u001b[39;00m\u001b[38;5;21;01m.\u001b[39;00m\u001b[38;5;21;01mevaluator\u001b[39;00m \u001b[38;5;28;01mimport\u001b[39;00m compute_score_single_predictions, compute_score_multiple_predictions\n\u001b[1;32m----> 2\u001b[0m dict_of_jsons_result \u001b[38;5;241m=\u001b[39m [\u001b[43mpredictions_to_json\u001b[49m\u001b[43m(\u001b[49m\u001b[43mmodel\u001b[49m\u001b[43m(\u001b[49m\u001b[43mx\u001b[49m\u001b[43m)\u001b[49m\u001b[43m,\u001b[49m\u001b[43m \u001b[49m\u001b[43my\u001b[49m\u001b[43m)\u001b[49m \u001b[38;5;28;01mfor\u001b[39;00m x, y \u001b[38;5;129;01min\u001b[39;00m val_dataloader]\n\u001b[0;32m      4\u001b[0m \u001b[38;5;28;01mfrom\u001b[39;00m \u001b[38;5;21;01mevaluation\u001b[39;00m\u001b[38;5;21;01m.\u001b[39;00m\u001b[38;5;21;01mevaluator\u001b[39;00m \u001b[38;5;28;01mimport\u001b[39;00m read_ground_truth_files\n\u001b[0;32m      5\u001b[0m truth \u001b[38;5;241m=\u001b[39m read_ground_truth_files(\u001b[38;5;124m\"\u001b[39m\u001b[38;5;124mpan21/validation\u001b[39m\u001b[38;5;124m\"\u001b[39m)\n",
      "Cell \u001b[1;32mIn[8], line 2\u001b[0m, in \u001b[0;36mpredictions_to_json\u001b[1;34m(predictions, gt, threshold)\u001b[0m\n\u001b[0;32m      1\u001b[0m \u001b[38;5;28;01mdef\u001b[39;00m \u001b[38;5;21mpredictions_to_json\u001b[39m(predictions, gt, threshold\u001b[38;5;241m=\u001b[39m\u001b[38;5;241m0.5\u001b[39m):\n\u001b[1;32m----> 2\u001b[0m     adjusted_predictions \u001b[38;5;241m=\u001b[39m [p\u001b[38;5;241m.\u001b[39mindex(\u001b[38;5;28mmax\u001b[39m(p)) \u001b[38;5;28;01mfor\u001b[39;00m p \u001b[38;5;129;01min\u001b[39;00m predictions]\n\u001b[0;32m      4\u001b[0m     true_num_paragraphs \u001b[38;5;241m=\u001b[39m \u001b[38;5;28mlen\u001b[39m(gt[\u001b[38;5;124m\"\u001b[39m\u001b[38;5;124mparagraph-authors\u001b[39m\u001b[38;5;124m\"\u001b[39m])\n\u001b[0;32m      6\u001b[0m     \u001b[38;5;66;03m# Construct the JSON object\u001b[39;00m\n",
      "Cell \u001b[1;32mIn[8], line 2\u001b[0m, in \u001b[0;36mpredictions_to_json\u001b[1;34m(predictions, gt, threshold)\u001b[0m\n\u001b[0;32m      1\u001b[0m \u001b[38;5;28;01mdef\u001b[39;00m \u001b[38;5;21mpredictions_to_json\u001b[39m(predictions, gt, threshold\u001b[38;5;241m=\u001b[39m\u001b[38;5;241m0.5\u001b[39m):\n\u001b[1;32m----> 2\u001b[0m     adjusted_predictions \u001b[38;5;241m=\u001b[39m [p\u001b[38;5;241m.\u001b[39mindex(\u001b[38;5;28mmax\u001b[39m(p)) \u001b[38;5;28;01mfor\u001b[39;00m p \u001b[38;5;129;01min\u001b[39;00m predictions]\n\u001b[0;32m      4\u001b[0m     true_num_paragraphs \u001b[38;5;241m=\u001b[39m \u001b[38;5;28mlen\u001b[39m(gt[\u001b[38;5;124m\"\u001b[39m\u001b[38;5;124mparagraph-authors\u001b[39m\u001b[38;5;124m\"\u001b[39m])\n\u001b[0;32m      6\u001b[0m     \u001b[38;5;66;03m# Construct the JSON object\u001b[39;00m\n",
      "File \u001b[1;32m_pydevd_bundle/pydevd_cython.pyx:1457\u001b[0m, in \u001b[0;36m_pydevd_bundle.pydevd_cython.SafeCallWrapper.__call__\u001b[1;34m()\u001b[0m\n",
      "File \u001b[1;32m_pydevd_bundle/pydevd_cython.pyx:701\u001b[0m, in \u001b[0;36m_pydevd_bundle.pydevd_cython.PyDBFrame.trace_dispatch\u001b[1;34m()\u001b[0m\n",
      "File \u001b[1;32m_pydevd_bundle/pydevd_cython.pyx:1152\u001b[0m, in \u001b[0;36m_pydevd_bundle.pydevd_cython.PyDBFrame.trace_dispatch\u001b[1;34m()\u001b[0m\n",
      "File \u001b[1;32m_pydevd_bundle/pydevd_cython.pyx:1135\u001b[0m, in \u001b[0;36m_pydevd_bundle.pydevd_cython.PyDBFrame.trace_dispatch\u001b[1;34m()\u001b[0m\n",
      "File \u001b[1;32m_pydevd_bundle/pydevd_cython.pyx:312\u001b[0m, in \u001b[0;36m_pydevd_bundle.pydevd_cython.PyDBFrame.do_wait_suspend\u001b[1;34m()\u001b[0m\n",
      "File \u001b[1;32mc:\\Users\\thoma\\Documents\\croatia\\masters\\semester2\\text_analysis\\tar_project\\.venv311\\Lib\\site-packages\\debugpy\\_vendored\\pydevd\\pydevd.py:2070\u001b[0m, in \u001b[0;36mPyDB.do_wait_suspend\u001b[1;34m(self, thread, frame, event, arg, exception_type)\u001b[0m\n\u001b[0;32m   2067\u001b[0m             from_this_thread\u001b[38;5;241m.\u001b[39mappend(frame_custom_thread_id)\n\u001b[0;32m   2069\u001b[0m     \u001b[38;5;28;01mwith\u001b[39;00m \u001b[38;5;28mself\u001b[39m\u001b[38;5;241m.\u001b[39m_threads_suspended_single_notification\u001b[38;5;241m.\u001b[39mnotify_thread_suspended(thread_id, thread, stop_reason):\n\u001b[1;32m-> 2070\u001b[0m         keep_suspended \u001b[38;5;241m=\u001b[39m \u001b[38;5;28;43mself\u001b[39;49m\u001b[38;5;241;43m.\u001b[39;49m\u001b[43m_do_wait_suspend\u001b[49m\u001b[43m(\u001b[49m\u001b[43mthread\u001b[49m\u001b[43m,\u001b[49m\u001b[43m \u001b[49m\u001b[43mframe\u001b[49m\u001b[43m,\u001b[49m\u001b[43m \u001b[49m\u001b[43mevent\u001b[49m\u001b[43m,\u001b[49m\u001b[43m \u001b[49m\u001b[43marg\u001b[49m\u001b[43m,\u001b[49m\u001b[43m \u001b[49m\u001b[43msuspend_type\u001b[49m\u001b[43m,\u001b[49m\u001b[43m \u001b[49m\u001b[43mfrom_this_thread\u001b[49m\u001b[43m,\u001b[49m\u001b[43m \u001b[49m\u001b[43mframes_tracker\u001b[49m\u001b[43m)\u001b[49m\n\u001b[0;32m   2072\u001b[0m frames_list \u001b[38;5;241m=\u001b[39m \u001b[38;5;28;01mNone\u001b[39;00m\n\u001b[0;32m   2074\u001b[0m \u001b[38;5;28;01mif\u001b[39;00m keep_suspended:\n\u001b[0;32m   2075\u001b[0m     \u001b[38;5;66;03m# This means that we should pause again after a set next statement.\u001b[39;00m\n",
      "File \u001b[1;32mc:\\Users\\thoma\\Documents\\croatia\\masters\\semester2\\text_analysis\\tar_project\\.venv311\\Lib\\site-packages\\debugpy\\_vendored\\pydevd\\pydevd.py:2106\u001b[0m, in \u001b[0;36mPyDB._do_wait_suspend\u001b[1;34m(self, thread, frame, event, arg, suspend_type, from_this_thread, frames_tracker)\u001b[0m\n\u001b[0;32m   2103\u001b[0m         \u001b[38;5;28mself\u001b[39m\u001b[38;5;241m.\u001b[39m_call_input_hook()\n\u001b[0;32m   2105\u001b[0m     \u001b[38;5;28mself\u001b[39m\u001b[38;5;241m.\u001b[39mprocess_internal_commands()\n\u001b[1;32m-> 2106\u001b[0m     time\u001b[38;5;241m.\u001b[39msleep(\u001b[38;5;241m0.01\u001b[39m)\n\u001b[0;32m   2108\u001b[0m \u001b[38;5;28mself\u001b[39m\u001b[38;5;241m.\u001b[39mcancel_async_evaluation(get_current_thread_id(thread), \u001b[38;5;28mstr\u001b[39m(\u001b[38;5;28mid\u001b[39m(frame)))\n\u001b[0;32m   2110\u001b[0m \u001b[38;5;66;03m# process any stepping instructions\u001b[39;00m\n",
      "\u001b[1;31mKeyboardInterrupt\u001b[0m: "
     ]
    }
   ],
   "source": [
    "from evaluation.evaluator import compute_score_single_predictions, compute_score_multiple_predictions\n",
    "dict_of_jsons_result = [predictions_to_json(model(x), y) for x, y in val_dataloader]\n",
    "\n",
    "from evaluation.evaluator import read_ground_truth_files\n",
    "truth = read_ground_truth_files(\"pan21/validation\")\n",
    "\n",
    "task1_result = compute_score_single_predictions(truth, dict_of_jsons_result, 'multi-author')\n",
    "task2_result = compute_score_multiple_predictions(truth, dict_of_jsons_result, 'changes', labels=[0, 1])\n",
    "task3_result = compute_score_multiple_predictions(truth, dict_of_jsons_result, 'paragraph-authors', labels=[1, 2, 3, 4])\n",
    "\n",
    "print(\n",
    "    # f'Model: {model_path.stem}\\n' +\n",
    "    f'\\tTask 1 Score: {task1_result}\\n'+\n",
    "    f'\\tTask 2 Score: {task2_result}\\n'+\n",
    "    f'\\tTask 3 Score: {task3_result}\\n'\n",
    ")\n"
   ]
  }
 ],
 "metadata": {
  "kernelspec": {
   "display_name": ".venv311",
   "language": "python",
   "name": "python3"
  },
  "language_info": {
   "codemirror_mode": {
    "name": "ipython",
    "version": 3
   },
   "file_extension": ".py",
   "mimetype": "text/x-python",
   "name": "python",
   "nbconvert_exporter": "python",
   "pygments_lexer": "ipython3",
   "version": "3.11.9"
  }
 },
 "nbformat": 4,
 "nbformat_minor": 2
}
