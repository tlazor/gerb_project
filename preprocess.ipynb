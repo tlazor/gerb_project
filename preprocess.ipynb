{
 "cells": [
  {
   "cell_type": "code",
   "execution_count": 1,
   "metadata": {},
   "outputs": [],
   "source": [
    "from joblib import Memory\n",
    "\n",
    "memory = Memory(\".cache\", verbose=0)"
   ]
  },
  {
   "cell_type": "code",
   "execution_count": 2,
   "metadata": {},
   "outputs": [],
   "source": [
    "from transformers import BertTokenizer, BertModel\n",
    "import torch\n",
    "from sentence_transformers import SentenceTransformer\n",
    "sbert_model = SentenceTransformer(\"all-MiniLM-L6-v2\")\n",
    "\n",
    "@memory.cache\n",
    "def get_tokenizer_model():\n",
    "    bert_tokenizer = BertTokenizer.from_pretrained('bert-base-cased')\n",
    "    bert_model = BertModel.from_pretrained('bert-base-cased')\n",
    "    sbert_model = SentenceTransformer(\"multi-qa-MiniLM-L6-cos-v1\")\n",
    "\n",
    "    return bert_tokenizer, bert_model, sbert_model\n",
    "\n",
    "bert_tokenizer, bert_model, sbert_model = get_tokenizer_model()"
   ]
  },
  {
   "cell_type": "code",
   "execution_count": 3,
   "metadata": {},
   "outputs": [],
   "source": [
    "from pathlib import Path\n",
    "import itertools\n",
    "from natsort import natsorted\n",
    "\n",
    "@memory.cache\n",
    "def read_problem_files(problem_folder, n=None):\n",
    "    problems = []\n",
    "    files = itertools.islice(natsorted(Path(problem_folder).glob('problem-*.txt')), n)\n",
    "    for problem_file in files:\n",
    "        # number = problem_file.name[len(\"problem-\") : -len(\".txt\")]\n",
    "        with open(problem_file, 'r', encoding=\"utf8\") as fh:\n",
    "            problems.append(fh.readlines())\n",
    "    return problems"
   ]
  },
  {
   "cell_type": "code",
   "execution_count": 4,
   "metadata": {},
   "outputs": [],
   "source": [
    "from evaluation.evaluator import read_ground_truth_files\n",
    "\n",
    "@memory.cache\n",
    "def cached_read_ground_truth(x):\n",
    "    return read_ground_truth_files(x)\n",
    "\n",
    "# ground_truth = cached_read_ground_truth(\"pan21/train\")"
   ]
  },
  {
   "cell_type": "code",
   "execution_count": 5,
   "metadata": {},
   "outputs": [],
   "source": [
    "def get_embeddings(paragraph):\n",
    "    # Tokenize the sentence\n",
    "    tokens = bert_tokenizer.tokenize(paragraph)\n",
    "    token_ids = bert_tokenizer.convert_tokens_to_ids(tokens)\n",
    "\n",
    "    # Convert token IDs to tensor\n",
    "    token_tensor = torch.tensor([token_ids])\n",
    "    segment_ids = [0] * len(token_ids)\n",
    "    segment_tensor = torch.tensor([segment_ids])\n",
    "\n",
    "    # Get BERT model output\n",
    "    with torch.no_grad():\n",
    "        outputs = bert_model(token_tensor, segment_tensor)\n",
    "\n",
    "    # Extract word embeddings from BERT model output\n",
    "    return outputs[0]"
   ]
  },
  {
   "cell_type": "code",
   "execution_count": 6,
   "metadata": {},
   "outputs": [],
   "source": [
    "# problems = read_problem_files(\"pan21/train\", n=5)\n",
    "# problems[0]"
   ]
  },
  {
   "cell_type": "code",
   "execution_count": 7,
   "metadata": {},
   "outputs": [],
   "source": [
    "#@memory.cache\n",
    "# def get_max_length(n=None):\n",
    "#     max_train = max([len(x) for y in read_problem_files(\"pan21/train\", n=n) for x in y])\n",
    "#     max_val = max([len(x) for y in read_problem_files(\"pan21/validation\", n=n) for x in y])\n",
    "#     return max([max_train, max_val])"
   ]
  },
  {
   "cell_type": "code",
   "execution_count": 44,
   "metadata": {},
   "outputs": [],
   "source": [
    "import torch\n",
    "import numpy as np\n",
    "\n",
    "max_input_length = 256\n",
    "\n",
    "def pad_paragraph(paragraph_embedding, desired_length):\n",
    "    d1, d2, d3 = paragraph_embedding.shape\n",
    "    # print(f\"{paragraph_embedding.shape=}\")\n",
    "\n",
    "    target = torch.zeros(d1, desired_length, d3)\n",
    "    # print(f\"{target.shape=}\")\n",
    "    target[:, :d2, :] = paragraph_embedding\n",
    "\n",
    "    return target\n",
    "\n",
    "\n",
    "def get_paragraph_pairs(problem_text):\n",
    "    # print(problem_text)\n",
    "    paragraph_embeddings = [pad_paragraph(get_embeddings(para[:max_input_length]), max_input_length) for para in problem_text]\n",
    "    # print(f\"{[paras.shape for paras in paragraph_embeddings]=}\")\n",
    "    # print(f\"{[x.shape for x in paragraph_embeddings]}\")\n",
    "    pairs = itertools.combinations(paragraph_embeddings, 2)\n",
    "    return [torch.flatten(torch.stack(pair, dim=2), start_dim=1, end_dim=2) for pair in pairs]\n"
   ]
  },
  {
   "cell_type": "code",
   "execution_count": 9,
   "metadata": {},
   "outputs": [],
   "source": [
    "from tqdm.notebook import tqdm\n",
    "\n",
    "# #@memory.cache\n",
    "def get_problem_embeddings(problems, verbose=False):\n",
    "    if verbose:\n",
    "        return [get_paragraph_pairs(problem_text) for problem_text in tqdm(problems)]\n",
    "    else:\n",
    "        return [get_paragraph_pairs(problem_text) for problem_text in problems]"
   ]
  },
  {
   "cell_type": "code",
   "execution_count": 10,
   "metadata": {},
   "outputs": [],
   "source": [
    "# problems_embed = get_problem_embeddings(problems)\n",
    "# for i in range(5):\n",
    "#     print(problems_embed[i][0][0].shape)\n",
    "# print(f\"{problems_embed[0][0].shape=}\")"
   ]
  },
  {
   "cell_type": "code",
   "execution_count": 11,
   "metadata": {},
   "outputs": [],
   "source": [
    "def get_simple_ground_truth(ground_truth, problem_numbers):\n",
    "    simple_ground_truth = []\n",
    "    for num in problem_numbers:\n",
    "        task_3_ground_truth = ground_truth[f\"problem-{num}\"][\"paragraph-authors\"]\n",
    "        simple_ground_truth.append(task_3_ground_truth)\n",
    "    return simple_ground_truth\n",
    "\n",
    "\n",
    "# simple_ground_truth = get_simple_ground_truth(ground_truth, range(1, len(problems_embed)))"
   ]
  },
  {
   "cell_type": "code",
   "execution_count": 12,
   "metadata": {},
   "outputs": [],
   "source": [
    "def get_task_3_ground_truth(simple_ground_truth):\n",
    "    task_gt = []\n",
    "    for problem in simple_ground_truth:\n",
    "        problem_gt = []\n",
    "        for author1, author2 in itertools.combinations(problem, 2):\n",
    "            problem_gt.append(int(author1 != author2))\n",
    "        task_gt.append(problem_gt)\n",
    "    return task_gt\n",
    "\n",
    "# task_3_ground_truth = get_task_3_ground_truth(simple_ground_truth)"
   ]
  },
  {
   "cell_type": "code",
   "execution_count": 13,
   "metadata": {},
   "outputs": [],
   "source": [
    "# TODO: Invert the function get_task_3_ground_truth. Our model will output a bunch of binary labels which need to be converted to the task 3 ground truth format\n",
    "# Ground truth format (gtf): [1, 2, 2, 2, 2, 3, 2, 2]\n",
    "# Binary labels for comparisons (bl): [1, 1, 1, 1, 1, 1, 1, 0, 0, 0, 1, 0, 0, 0, 0, 1, 0, 0, 0, 1, 0, 0, 1, 0, 0, 1, 1, 0]\n",
    "# Each binary label is the result of comparing two paragraphs. 1 means there was an author change, 0 means there was no author change\n",
    "# For example, bl[0], is the result of comparing gtf[0]=1 and gtf[1]=2. 1 != 2, therefore bl[0] = 1. bl[1]=1 is the result of gtf[0] == gtf[2] (1 == 2)\n",
    "def get_simple_ground_truth_from_task_3(task_3_ground_truth):\n",
    "    simple_gt = []\n",
    "    for problem in task_3_ground_truth:\n",
    "        # k = n*(n-1)/2\n",
    "        # n**2 - n - 2k = 0\n",
    "        coeff = [1, -1, len(problem) * -2]\n",
    "        roots = np.roots(coeff)\n",
    "        gt_length = int(roots[roots > 0][0])\n",
    "        print(gt_length)\n",
    "\n",
    "        gt = np.zeros(gt_length, dtype=np.uint8)\n",
    "        gt[0] = 1\n",
    "        for i in range(1, gt_length):\n",
    "            # loop for gt[i]\n",
    "            num_comparisons = i\n",
    "            pointer = i - 1\n",
    "            modified_flag = False\n",
    "            print(f\"{i=} {num_comparisons=} {pointer=}\")\n",
    "            for gt_i, j in enumerate(range(gt_length-2, 1, -1)[:num_comparisons]):\n",
    "                # comparison between gt[gt_i] and gt[i]\n",
    "                print(f\"{gt_i=} {j=} {pointer=} {task_3_ground_truth[pointer]=}\")\n",
    "                bin_label = task_3_ground_truth[pointer]\n",
    "                if bin_label == 0:\n",
    "                    print(f\"{gt[i]=} {gt[gt_i]=}\")\n",
    "                    gt[i] = gt[gt_i]\n",
    "                    modified_flag = True\n",
    "                    break\n",
    "\n",
    "                pointer += j\n",
    "            if not modified_flag:\n",
    "                print(f\"No modified\")\n",
    "                gt[i] = np.max(gt) + 1\n",
    "            print(f\"{gt}\\n\"\n",
    "        simple_gt.append(gt)\n",
    "    return simple_gt\n",
    "\n",
    "# simple_ground_truth == get_simple_ground_truth_from_task_3(task_3_ground_truth)"
   ]
  },
  {
   "cell_type": "code",
   "execution_count": 14,
   "metadata": {},
   "outputs": [],
   "source": [
    "# for s, t in zip(simple_ground_truth, task_3_ground_truth):\n",
    "#     print(f\"{s}\")\n",
    "#     print(f\"{t}\")"
   ]
  },
  {
   "cell_type": "code",
   "execution_count": 15,
   "metadata": {},
   "outputs": [],
   "source": [
    "# Add code to write out the embeddings (X) and ground truths (y) so we can train without having to rerun the preprocessing step"
   ]
  },
  {
   "cell_type": "code",
   "execution_count": 61,
   "metadata": {},
   "outputs": [],
   "source": [
    "import math\n",
    "from tensorflow.keras.utils import PyDataset\n",
    "from pathlib import Path\n",
    "\n",
    "def flatten_problems(problems_list, squeeze=False):\n",
    "        # [print(f\"{pair=}\") for problem in problems_list for pair in problem]\n",
    "        return [pair.squeeze(0) if squeeze else pair for problem in problems_list for pair in problem]\n",
    "\n",
    "class Pan21PyDataset(PyDataset):\n",
    "\n",
    "    def __init__(self, x_set, y_set, batch_size, **kwargs):\n",
    "        super().__init__(**kwargs)\n",
    "        self.x, self.y = read_problem_files(x_set), read_ground_truth_files(y_set)\n",
    "        self.batch_size = batch_size\n",
    "        self.file_path = Path()\n",
    "\n",
    "    def __len__(self):\n",
    "        # Return number of batches.\n",
    "        return math.ceil(len(self.x) / self.batch_size)\n",
    "\n",
    "    def get_data(self, low_idx, high_idx):\n",
    "        # print(f\"{len(self.x[low_idx])=} {self.x[low_idx]=}\")\n",
    "        embeddings = get_problem_embeddings(self.x[low_idx:high_idx])\n",
    "        batch_x = np.array(flatten_problems(embeddings, squeeze=True))\n",
    "        batch_y = np.array(flatten_problems(get_task_3_ground_truth(get_simple_ground_truth(self.y, range(low_idx+1, high_idx+1)))))\n",
    "        return batch_x, batch_y\n",
    "\n",
    "    def to_file(self, file_path, overwrite=False):\n",
    "        self.file_path = Path(file_path)\n",
    "        self.file_path.mkdir(parents=True, exist_ok=True)\n",
    "        for i in tqdm(range(len(self))):\n",
    "            idx_path = self.file_path / f\"{i}.npz\"\n",
    "            if not idx_path.exists() or (idx_path.exists() and overwrite):\n",
    "                batch_x, batch_y = self.__getitem__(i, force_compute=True)\n",
    "                np.savez_compressed(idx_path, batch_x=batch_x, batch_y=batch_y)\n",
    "\n",
    "    def __getitem__(self, idx, force_compute=False):\n",
    "        idx_path = self.file_path / f\"{i}.npz\"\n",
    "        if force_compute or not idx_path.exists():\n",
    "            # print(f\"{idx=}\")\n",
    "            # Return x, y for batch idx.\n",
    "            low = idx * self.batch_size\n",
    "            # Cap upper bound at array length; the last batch may be smaller\n",
    "            # if the total number of items is not a multiple of batch size.\n",
    "            high = min(low + self.batch_size, len(self.x))\n",
    "            batch_x, batch_y = self.get_data(low, high)\n",
    "\n",
    "            # print(f\"{low=} {high=}\")\n",
    "            # print(f\"{batch_x[0].shape=}\")\n",
    "            # print(f\"{len(batch_x)=}\")\n",
    "            # print(f\"{len(batch_y)=}\")\n",
    "        else:\n",
    "            npzfile = np.load(idx_path)\n",
    "            batch_x = npzfile['batch_x']\n",
    "            batch_y = npzfile['batch_y']\n",
    "\n",
    "        return batch_x, batch_y\n",
    "\n",
    "batch_size = 32\n",
    "seed = 42\n",
    "\n"
   ]
  },
  {
   "cell_type": "code",
   "execution_count": 87,
   "metadata": {},
   "outputs": [],
   "source": [
    "class Pan21FourierDataset(Pan21PyDataset):\n",
    "    def __init__(self, x_set, y_set, batch_size, num_fourier_features, **kwargs):\n",
    "        super().__init__(x_set, y_set, batch_size, **kwargs)\n",
    "        self.num_fourier_features = num_fourier_features\n",
    "\n",
    "    def __getitem__(self, idx, force_compute=False):\n",
    "        return self.__getitem__helper(idx, num_fourier_features=self.num_fourier_features, force_compute=force_compute)\n",
    "\n",
    "    def __getitem__helper(self, idx, num_fourier_features, force_compute=False):\n",
    "        idx_path = self.file_path / \"fourier\" / f\"{idx}.npz\"\n",
    "        \n",
    "        if num_fourier_features > 0:\n",
    "            batch_x, batch_y = super().__getitem__(idx, force_compute)\n",
    "            new_batch_x = batch_x.copy()\n",
    "            \n",
    "            num_features = len(batch_x[0])\n",
    "            # print(f\"{num_features=}\")\n",
    "            # 0:x will be BERT embeddings for paragraph 1\n",
    "            # x:length/2 will be fourier features for paragraph 1\n",
    "            num_non_fourier_features = (num_features - num_fourier_features) // 2\n",
    "            para1_fourier_features_low, para1_fourier_features_high = num_non_fourier_features, num_features // 2\n",
    "            para2_fourier_features_low, para2_fourier_features_high = num_features // 2 + num_non_fourier_features , num_features\n",
    "\n",
    "            # print(f\"{para1_fourier_features_low=} {para1_fourier_features_high=}\")\n",
    "            # print(f\"{para2_fourier_features_low=} {para2_fourier_features_high=}\")\n",
    "\n",
    "            if force_compute or not idx_path.exists():\n",
    "                for i, x in enumerate(batch_x):\n",
    "                    para1_end = num_features//2\n",
    "                    para1_fft = np.real(np.fft.fft(x[:para1_end], axis=0))\n",
    "                    para2_fft = np.real(np.fft.fft(x[para1_end:], axis=0))\n",
    "\n",
    "                    new_batch_x[i, para1_fourier_features_low:para1_fourier_features_high] = para1_fft[:num_fourier_features//2]\n",
    "                    new_batch_x[i, para2_fourier_features_low:para2_fourier_features_high] = para2_fft[:num_fourier_features//2]\n",
    "            else:\n",
    "                npzfile = np.load(idx_path)\n",
    "                fourier_batch_x = npzfile['fourier_batch_x']\n",
    "\n",
    "                i,j,k = fourier_batch_x.shape\n",
    "\n",
    "                new_batch_x[:, para1_fourier_features_low:para1_fourier_features_high] = fourier_batch_x[:num_fourier_features//2]\n",
    "                new_batch_x[:, para2_fourier_features_low:para2_fourier_features_high] = fourier_batch_x[j:j+num_fourier_features//2]\n",
    "\n",
    "            return new_batch_x, batch_y\n",
    "        else:\n",
    "            # No fourier features means it is equivalent to just BERT embeddings\n",
    "            return super().__getitem__(idx, force_compute)\n",
    "\n",
    "    def to_file(self, file_path, overwrite=False):\n",
    "        self.file_path = Path(file_path)\n",
    "        fourier_file_path = self.file_path / \"fourier\"\n",
    "\n",
    "        self.file_path.mkdir(parents=True, exist_ok=True)\n",
    "        fourier_file_path.mkdir(parents=True, exist_ok=True)\n",
    "\n",
    "        for i in tqdm(range(len(self))):\n",
    "            idx_path = fourier_file_path / f\"{i}.npz\"\n",
    "            if not idx_path.exists() or (idx_path.exists() and overwrite):\n",
    "                fourier_batch_x, _ = self.__getitem__helper(i, num_fourier_features=512, force_compute=True)\n",
    "                np.savez_compressed(idx_path, fourier_batch_x=fourier_batch_x)"
   ]
  },
  {
   "cell_type": "code",
   "execution_count": null,
   "metadata": {},
   "outputs": [],
   "source": [
    "class Pan21FourierFilterDataset(Pan21FourierDataset):\n",
    "    def __init__(self, x_set, y_set, batch_size, num_fourier_features, cutoff_frequencies, **kwargs):\n",
    "        super().__init__(x_set, y_set, batch_size, num_fourier_features, **kwargs)\n",
    "        self.cutoff_frequencies = cutoff_frequencies\n",
    "    \n",
    "    def __getitem__(self, idx, force_compute=False):\n",
    "        return self.__getitem__helper(idx, num_fourier_features=self.num_fourier_features, force_compute=force_compute)"
   ]
  },
  {
   "cell_type": "code",
   "execution_count": 65,
   "metadata": {},
   "outputs": [
    {
     "data": {
      "application/vnd.jupyter.widget-view+json": {
       "model_id": "a8284b2ff6624dc0be07d1e4247eb9d5",
       "version_major": 2,
       "version_minor": 0
      },
      "text/plain": [
       "  0%|          | 0/350 [00:00<?, ?it/s]"
      ]
     },
     "metadata": {},
     "output_type": "display_data"
    },
    {
     "data": {
      "application/vnd.jupyter.widget-view+json": {
       "model_id": "2252e2e39868497f8e7364fb70b4f450",
       "version_major": 2,
       "version_minor": 0
      },
      "text/plain": [
       "  0%|          | 0/75 [00:00<?, ?it/s]"
      ]
     },
     "metadata": {},
     "output_type": "display_data"
    }
   ],
   "source": [
    "Pan21PyDataset(\"pan21/train\", \"pan21/train\", batch_size).to_file(\"train_ds\")\n",
    "Pan21PyDataset(\"pan21/validation\", \"pan21/validation\", batch_size).to_file(\"val_ds\")"
   ]
  },
  {
   "cell_type": "code",
   "execution_count": 88,
   "metadata": {},
   "outputs": [
    {
     "data": {
      "application/vnd.jupyter.widget-view+json": {
       "model_id": "d932619471fb458999fe6a53c7692898",
       "version_major": 2,
       "version_minor": 0
      },
      "text/plain": [
       "  0%|          | 0/350 [00:00<?, ?it/s]"
      ]
     },
     "metadata": {},
     "output_type": "display_data"
    },
    {
     "data": {
      "application/vnd.jupyter.widget-view+json": {
       "model_id": "ec8c7677070349bd9f146dc5b260dfca",
       "version_major": 2,
       "version_minor": 0
      },
      "text/plain": [
       "  0%|          | 0/75 [00:00<?, ?it/s]"
      ]
     },
     "metadata": {},
     "output_type": "display_data"
    }
   ],
   "source": [
    "Pan21FourierDataset(\"pan21/train\", \"pan21/train\", batch_size, num_fourier_features=512).to_file(\"train_ds\")\n",
    "Pan21FourierDataset(\"pan21/validation\", \"pan21/validation\", batch_size, num_fourier_features=512).to_file(\"val_ds\")"
   ]
  },
  {
   "cell_type": "code",
   "execution_count": null,
   "metadata": {},
   "outputs": [
    {
     "name": "stdout",
     "output_type": "stream",
     "text": [
      "Compute: 8.95s vs File read: 1.6s\n"
     ]
    }
   ],
   "source": [
    "# import time\n",
    "\n",
    "# start_idx = 0\n",
    "# limit = 5\n",
    "# # limit = len(train_ds)\n",
    "\n",
    "# before = time.time()\n",
    "# for i in range(start_idx, start_idx+limit):\n",
    "#     batch_x, batch_y = train_ds.__getitem__(i, force_compute=True)\n",
    "# after = time.time()\n",
    "# for i in range(start_idx, start_idx+limit):\n",
    "#     batch_x, batch_y = train_ds.__getitem__(i, force_compute=False)\n",
    "# after_after = time.time()\n",
    "\n",
    "# print(f\"Compute: {round((after - before)/limit, 2)}s vs File read: {round((after_after - after)/limit, 2)}s\")\n",
    "# # Compute: 8.95s per batch\n",
    "# # Compute with compression: ~17s\n",
    "# # Uncompressed read: .7s per batch\n",
    "# # Compressed read: 1.6s per batch\n",
    "# # Compressed is 1/10 the size of uncompressed, but takes ~twice as long to precompute and save\n",
    "# # Compressed 512D Fourier takes ~30s per batch\n",
    "# # Compressed 512D Fourier is about 500-700MB per batch"
   ]
  },
  {
   "cell_type": "code",
   "execution_count": 90,
   "metadata": {},
   "outputs": [
    {
     "data": {
      "text/html": [
       "<pre style=\"white-space:pre;overflow-x:auto;line-height:normal;font-family:Menlo,'DejaVu Sans Mono',consolas,'Courier New',monospace\"><span style=\"font-weight: bold\">Model: \"sequential_3\"</span>\n",
       "</pre>\n"
      ],
      "text/plain": [
       "\u001b[1mModel: \"sequential_3\"\u001b[0m\n"
      ]
     },
     "metadata": {},
     "output_type": "display_data"
    },
    {
     "data": {
      "text/html": [
       "<pre style=\"white-space:pre;overflow-x:auto;line-height:normal;font-family:Menlo,'DejaVu Sans Mono',consolas,'Courier New',monospace\">┏━━━━━━━━━━━━━━━━━━━━━━━━━━━━━━━━━┳━━━━━━━━━━━━━━━━━━━━━━━━┳━━━━━━━━━━━━━━━┓\n",
       "┃<span style=\"font-weight: bold\"> Layer (type)                    </span>┃<span style=\"font-weight: bold\"> Output Shape           </span>┃<span style=\"font-weight: bold\">       Param # </span>┃\n",
       "┡━━━━━━━━━━━━━━━━━━━━━━━━━━━━━━━━━╇━━━━━━━━━━━━━━━━━━━━━━━━╇━━━━━━━━━━━━━━━┩\n",
       "│ dense_9 (<span style=\"color: #0087ff; text-decoration-color: #0087ff\">Dense</span>)                 │ (<span style=\"color: #00d7ff; text-decoration-color: #00d7ff\">None</span>, <span style=\"color: #00af00; text-decoration-color: #00af00\">512</span>, <span style=\"color: #00af00; text-decoration-color: #00af00\">64</span>)        │        <span style=\"color: #00af00; text-decoration-color: #00af00\">49,216</span> │\n",
       "├─────────────────────────────────┼────────────────────────┼───────────────┤\n",
       "│ dense_10 (<span style=\"color: #0087ff; text-decoration-color: #0087ff\">Dense</span>)                │ (<span style=\"color: #00d7ff; text-decoration-color: #00d7ff\">None</span>, <span style=\"color: #00af00; text-decoration-color: #00af00\">512</span>, <span style=\"color: #00af00; text-decoration-color: #00af00\">32</span>)        │         <span style=\"color: #00af00; text-decoration-color: #00af00\">2,080</span> │\n",
       "├─────────────────────────────────┼────────────────────────┼───────────────┤\n",
       "│ flatten_3 (<span style=\"color: #0087ff; text-decoration-color: #0087ff\">Flatten</span>)             │ (<span style=\"color: #00d7ff; text-decoration-color: #00d7ff\">None</span>, <span style=\"color: #00af00; text-decoration-color: #00af00\">16384</span>)          │             <span style=\"color: #00af00; text-decoration-color: #00af00\">0</span> │\n",
       "├─────────────────────────────────┼────────────────────────┼───────────────┤\n",
       "│ dense_11 (<span style=\"color: #0087ff; text-decoration-color: #0087ff\">Dense</span>)                │ (<span style=\"color: #00d7ff; text-decoration-color: #00d7ff\">None</span>, <span style=\"color: #00af00; text-decoration-color: #00af00\">1</span>)              │        <span style=\"color: #00af00; text-decoration-color: #00af00\">16,385</span> │\n",
       "└─────────────────────────────────┴────────────────────────┴───────────────┘\n",
       "</pre>\n"
      ],
      "text/plain": [
       "┏━━━━━━━━━━━━━━━━━━━━━━━━━━━━━━━━━┳━━━━━━━━━━━━━━━━━━━━━━━━┳━━━━━━━━━━━━━━━┓\n",
       "┃\u001b[1m \u001b[0m\u001b[1mLayer (type)                   \u001b[0m\u001b[1m \u001b[0m┃\u001b[1m \u001b[0m\u001b[1mOutput Shape          \u001b[0m\u001b[1m \u001b[0m┃\u001b[1m \u001b[0m\u001b[1m      Param #\u001b[0m\u001b[1m \u001b[0m┃\n",
       "┡━━━━━━━━━━━━━━━━━━━━━━━━━━━━━━━━━╇━━━━━━━━━━━━━━━━━━━━━━━━╇━━━━━━━━━━━━━━━┩\n",
       "│ dense_9 (\u001b[38;5;33mDense\u001b[0m)                 │ (\u001b[38;5;45mNone\u001b[0m, \u001b[38;5;34m512\u001b[0m, \u001b[38;5;34m64\u001b[0m)        │        \u001b[38;5;34m49,216\u001b[0m │\n",
       "├─────────────────────────────────┼────────────────────────┼───────────────┤\n",
       "│ dense_10 (\u001b[38;5;33mDense\u001b[0m)                │ (\u001b[38;5;45mNone\u001b[0m, \u001b[38;5;34m512\u001b[0m, \u001b[38;5;34m32\u001b[0m)        │         \u001b[38;5;34m2,080\u001b[0m │\n",
       "├─────────────────────────────────┼────────────────────────┼───────────────┤\n",
       "│ flatten_3 (\u001b[38;5;33mFlatten\u001b[0m)             │ (\u001b[38;5;45mNone\u001b[0m, \u001b[38;5;34m16384\u001b[0m)          │             \u001b[38;5;34m0\u001b[0m │\n",
       "├─────────────────────────────────┼────────────────────────┼───────────────┤\n",
       "│ dense_11 (\u001b[38;5;33mDense\u001b[0m)                │ (\u001b[38;5;45mNone\u001b[0m, \u001b[38;5;34m1\u001b[0m)              │        \u001b[38;5;34m16,385\u001b[0m │\n",
       "└─────────────────────────────────┴────────────────────────┴───────────────┘\n"
      ]
     },
     "metadata": {},
     "output_type": "display_data"
    },
    {
     "data": {
      "text/html": [
       "<pre style=\"white-space:pre;overflow-x:auto;line-height:normal;font-family:Menlo,'DejaVu Sans Mono',consolas,'Courier New',monospace\"><span style=\"font-weight: bold\"> Total params: </span><span style=\"color: #00af00; text-decoration-color: #00af00\">67,681</span> (264.38 KB)\n",
       "</pre>\n"
      ],
      "text/plain": [
       "\u001b[1m Total params: \u001b[0m\u001b[38;5;34m67,681\u001b[0m (264.38 KB)\n"
      ]
     },
     "metadata": {},
     "output_type": "display_data"
    },
    {
     "data": {
      "text/html": [
       "<pre style=\"white-space:pre;overflow-x:auto;line-height:normal;font-family:Menlo,'DejaVu Sans Mono',consolas,'Courier New',monospace\"><span style=\"font-weight: bold\"> Trainable params: </span><span style=\"color: #00af00; text-decoration-color: #00af00\">67,681</span> (264.38 KB)\n",
       "</pre>\n"
      ],
      "text/plain": [
       "\u001b[1m Trainable params: \u001b[0m\u001b[38;5;34m67,681\u001b[0m (264.38 KB)\n"
      ]
     },
     "metadata": {},
     "output_type": "display_data"
    },
    {
     "data": {
      "text/html": [
       "<pre style=\"white-space:pre;overflow-x:auto;line-height:normal;font-family:Menlo,'DejaVu Sans Mono',consolas,'Courier New',monospace\"><span style=\"font-weight: bold\"> Non-trainable params: </span><span style=\"color: #00af00; text-decoration-color: #00af00\">0</span> (0.00 B)\n",
       "</pre>\n"
      ],
      "text/plain": [
       "\u001b[1m Non-trainable params: \u001b[0m\u001b[38;5;34m0\u001b[0m (0.00 B)\n"
      ]
     },
     "metadata": {},
     "output_type": "display_data"
    }
   ],
   "source": [
    "import tensorflow as tf\n",
    "from tensorflow.keras.models import Sequential\n",
    "from tensorflow.keras.layers import Embedding, LSTM, Dense, TimeDistributed, Input, Flatten\n",
    "from tensorflow.keras import optimizers, losses, metrics\n",
    "\n",
    "# Code implementation of the RNN for sequence labeling\n",
    "def create_rnn_model(num_labels, embedding_dim):\n",
    "    model = Sequential()\n",
    "    model.add(Input(shape=(max_input_length*2, embedding_dim)))\n",
    "    model.add(Dense(64, activation='relu'))\n",
    "    model.add(Dense(32, activation='relu'))\n",
    "    model.add(Flatten())\n",
    "    model.add(Dense(num_labels, activation='sigmoid'))\n",
    "\n",
    "    model.compile(\n",
    "        optimizer=optimizers.RMSprop(),  # Optimizer\n",
    "        # Loss function to minimize\n",
    "        loss=losses.BinaryCrossentropy(),\n",
    "        # List of metrics to monitor\n",
    "        metrics=[metrics.BinaryAccuracy(), metrics.AUC()],\n",
    "    )\n",
    "\n",
    "    return model\n",
    " \n",
    "num_labels = 1\n",
    "embedding_dim = 768\n",
    " \n",
    "model = create_rnn_model(num_labels, embedding_dim)\n",
    "model.summary()"
   ]
  },
  {
   "cell_type": "code",
   "execution_count": 91,
   "metadata": {},
   "outputs": [
    {
     "name": "stdout",
     "output_type": "stream",
     "text": [
      "Epoch 1/5\n",
      "\u001b[1m350/350\u001b[0m \u001b[32m━━━━━━━━━━━━━━━━━━━━\u001b[0m\u001b[37m\u001b[0m \u001b[1m6573s\u001b[0m 19s/step - auc_3: 0.5250 - binary_accuracy: 0.5477 - loss: 0.6915 - val_auc_3: 0.6005 - val_binary_accuracy: 0.5629 - val_loss: 0.6828\n",
      "Epoch 2/5\n",
      "\u001b[1m350/350\u001b[0m \u001b[32m━━━━━━━━━━━━━━━━━━━━\u001b[0m\u001b[37m\u001b[0m \u001b[1m4607s\u001b[0m 13s/step - auc_3: 0.5695 - binary_accuracy: 0.5656 - loss: 0.6835 - val_auc_3: 0.6059 - val_binary_accuracy: 0.5828 - val_loss: 0.6753\n",
      "Epoch 3/5\n",
      "\u001b[1m350/350\u001b[0m \u001b[32m━━━━━━━━━━━━━━━━━━━━\u001b[0m\u001b[37m\u001b[0m \u001b[1m4322s\u001b[0m 12s/step - auc_3: 0.5752 - binary_accuracy: 0.5738 - loss: 0.6787 - val_auc_3: 0.6078 - val_binary_accuracy: 0.5800 - val_loss: 0.6746\n",
      "Epoch 4/5\n",
      "\u001b[1m350/350\u001b[0m \u001b[32m━━━━━━━━━━━━━━━━━━━━\u001b[0m\u001b[37m\u001b[0m \u001b[1m3912s\u001b[0m 11s/step - auc_3: 0.5843 - binary_accuracy: 0.5730 - loss: 0.6775 - val_auc_3: 0.6040 - val_binary_accuracy: 0.5788 - val_loss: 0.6762\n",
      "Epoch 5/5\n",
      "\u001b[1m350/350\u001b[0m \u001b[32m━━━━━━━━━━━━━━━━━━━━\u001b[0m\u001b[37m\u001b[0m \u001b[1m3911s\u001b[0m 11s/step - auc_3: 0.5929 - binary_accuracy: 0.5821 - loss: 0.6744 - val_auc_3: 0.6073 - val_binary_accuracy: 0.5855 - val_loss: 0.6718\n",
      "Epoch 1/5\n",
      "\u001b[1m350/350\u001b[0m \u001b[32m━━━━━━━━━━━━━━━━━━━━\u001b[0m\u001b[37m\u001b[0m \u001b[1m9913s\u001b[0m 28s/step - auc_4: 0.5059 - binary_accuracy: 0.5293 - loss: 0.9026 - val_auc_4: 0.5777 - val_binary_accuracy: 0.5560 - val_loss: 0.6827\n",
      "Epoch 2/5\n",
      "\u001b[1m350/350\u001b[0m \u001b[32m━━━━━━━━━━━━━━━━━━━━\u001b[0m\u001b[37m\u001b[0m \u001b[1m5523s\u001b[0m 15s/step - auc_4: 0.5847 - binary_accuracy: 0.5690 - loss: 0.6789 - val_auc_4: 0.5978 - val_binary_accuracy: 0.5785 - val_loss: 0.6741\n",
      "Epoch 3/5\n",
      "\u001b[1m350/350\u001b[0m \u001b[32m━━━━━━━━━━━━━━━━━━━━\u001b[0m\u001b[37m\u001b[0m \u001b[1m7543s\u001b[0m 21s/step - auc_4: 0.6109 - binary_accuracy: 0.5884 - loss: 0.6745 - val_auc_4: 0.6065 - val_binary_accuracy: 0.5771 - val_loss: 0.6767\n",
      "Epoch 4/5\n",
      "\u001b[1m350/350\u001b[0m \u001b[32m━━━━━━━━━━━━━━━━━━━━\u001b[0m\u001b[37m\u001b[0m \u001b[1m5069s\u001b[0m 14s/step - auc_4: 0.6396 - binary_accuracy: 0.6080 - loss: 0.6589 - val_auc_4: 0.6212 - val_binary_accuracy: 0.5908 - val_loss: 0.6708\n",
      "Epoch 5/5\n",
      "\u001b[1m350/350\u001b[0m \u001b[32m━━━━━━━━━━━━━━━━━━━━\u001b[0m\u001b[37m\u001b[0m \u001b[1m5030s\u001b[0m 14s/step - auc_4: 0.6654 - binary_accuracy: 0.6241 - loss: 0.6422 - val_auc_4: 0.6267 - val_binary_accuracy: 0.5958 - val_loss: 0.6647\n",
      "Epoch 1/5\n",
      "\u001b[1m350/350\u001b[0m \u001b[32m━━━━━━━━━━━━━━━━━━━━\u001b[0m\u001b[37m\u001b[0m \u001b[1m5125s\u001b[0m 14s/step - auc_5: 0.5119 - binary_accuracy: 0.5346 - loss: 0.8112 - val_auc_5: 0.5826 - val_binary_accuracy: 0.5624 - val_loss: 0.6812\n",
      "Epoch 2/5\n",
      "\u001b[1m350/350\u001b[0m \u001b[32m━━━━━━━━━━━━━━━━━━━━\u001b[0m\u001b[37m\u001b[0m \u001b[1m5095s\u001b[0m 14s/step - auc_5: 0.5854 - binary_accuracy: 0.5751 - loss: 0.6768 - val_auc_5: 0.6205 - val_binary_accuracy: 0.5904 - val_loss: 0.6660\n",
      "Epoch 3/5\n",
      "\u001b[1m350/350\u001b[0m \u001b[32m━━━━━━━━━━━━━━━━━━━━\u001b[0m\u001b[37m\u001b[0m \u001b[1m5096s\u001b[0m 14s/step - auc_5: 0.6325 - binary_accuracy: 0.6014 - loss: 0.6587 - val_auc_5: 0.6286 - val_binary_accuracy: 0.5942 - val_loss: 0.6616\n",
      "Epoch 4/5\n",
      "\u001b[1m350/350\u001b[0m \u001b[32m━━━━━━━━━━━━━━━━━━━━\u001b[0m\u001b[37m\u001b[0m \u001b[1m5135s\u001b[0m 14s/step - auc_5: 0.6616 - binary_accuracy: 0.6226 - loss: 0.6461 - val_auc_5: 0.6320 - val_binary_accuracy: 0.5947 - val_loss: 0.6614\n",
      "Epoch 5/5\n",
      "\u001b[1m350/350\u001b[0m \u001b[32m━━━━━━━━━━━━━━━━━━━━\u001b[0m\u001b[37m\u001b[0m \u001b[1m5107s\u001b[0m 14s/step - auc_5: 0.6884 - binary_accuracy: 0.6396 - loss: 0.6308 - val_auc_5: 0.6331 - val_binary_accuracy: 0.5944 - val_loss: 0.6621\n",
      "Epoch 1/5\n",
      "\u001b[1m350/350\u001b[0m \u001b[32m━━━━━━━━━━━━━━━━━━━━\u001b[0m\u001b[37m\u001b[0m \u001b[1m5290s\u001b[0m 15s/step - auc_6: 0.5140 - binary_accuracy: 0.5250 - loss: 0.9896 - val_auc_6: 0.6022 - val_binary_accuracy: 0.5753 - val_loss: 0.6733\n",
      "Epoch 2/5\n",
      "\u001b[1m350/350\u001b[0m \u001b[32m━━━━━━━━━━━━━━━━━━━━\u001b[0m\u001b[37m\u001b[0m \u001b[1m7759s\u001b[0m 22s/step - auc_6: 0.5965 - binary_accuracy: 0.5775 - loss: 0.6754 - val_auc_6: 0.6193 - val_binary_accuracy: 0.5868 - val_loss: 0.6657\n",
      "Epoch 3/5\n",
      "\u001b[1m350/350\u001b[0m \u001b[32m━━━━━━━━━━━━━━━━━━━━\u001b[0m\u001b[37m\u001b[0m \u001b[1m7997s\u001b[0m 23s/step - auc_6: 0.6431 - binary_accuracy: 0.6075 - loss: 0.6550 - val_auc_6: 0.6202 - val_binary_accuracy: 0.5820 - val_loss: 0.6733\n",
      "Epoch 4/5\n",
      "\u001b[1m350/350\u001b[0m \u001b[32m━━━━━━━━━━━━━━━━━━━━\u001b[0m\u001b[37m\u001b[0m \u001b[1m6707s\u001b[0m 19s/step - auc_6: 0.6656 - binary_accuracy: 0.6252 - loss: 0.6415 - val_auc_6: 0.6338 - val_binary_accuracy: 0.5958 - val_loss: 0.6625\n",
      "Epoch 5/5\n",
      "\u001b[1m350/350\u001b[0m \u001b[32m━━━━━━━━━━━━━━━━━━━━\u001b[0m\u001b[37m\u001b[0m \u001b[1m6449s\u001b[0m 18s/step - auc_6: 0.6838 - binary_accuracy: 0.6369 - loss: 0.6329 - val_auc_6: 0.6345 - val_binary_accuracy: 0.5925 - val_loss: 0.6890\n"
     ]
    }
   ],
   "source": [
    "# Does using the frequency domain spectra provide usefule information?\n",
    "import datetime\n",
    "from keras.callbacks import CSVLogger\n",
    "\n",
    "num_fourier_features = [0, 512//4, 512//2, 512]\n",
    "for num_ff in num_fourier_features:\n",
    "    model_name = f\"models/num_fourier_features/{num_ff}_{datetime.datetime.now().strftime('%Y_%m_%d-%I_%M_%S_%p')}\"\n",
    "    model = create_rnn_model(num_labels, embedding_dim)\n",
    "    csv_logger = CSVLogger(f'{model_name}.log', separator=',', append=False)\n",
    "\n",
    "\n",
    "    fourier_train_ds = Pan21FourierDataset(\"pan21/train\", \"pan21/train\", batch_size, num_fourier_features=num_ff)\n",
    "    fourier_val_ds = Pan21FourierDataset(\"pan21/validation\", \"pan21/validation\", batch_size, num_fourier_features=num_ff)\n",
    "\n",
    "    history = model.fit(\n",
    "        fourier_train_ds,\n",
    "        epochs=5,\n",
    "        validation_data=fourier_val_ds,\n",
    "        verbose=1,\n",
    "        callbacks=[csv_logger]\n",
    "    )\n",
    "\n",
    "    model.save(f\"{model_name}.keras\")"
   ]
  },
  {
   "cell_type": "code",
   "execution_count": 68,
   "metadata": {},
   "outputs": [
    {
     "name": "stdout",
     "output_type": "stream",
     "text": [
      "\u001b[1m350/350\u001b[0m \u001b[32m━━━━━━━━━━━━━━━━━━━━\u001b[0m\u001b[37m\u001b[0m \u001b[1m1320s\u001b[0m 4s/step - auc: 0.8467 - binary_accuracy: 0.7743 - loss: 0.4627 - val_auc: 0.5286 - val_binary_accuracy: 0.5231 - val_loss: 1.1656\n"
     ]
    }
   ],
   "source": [
    "# history = model.fit(\n",
    "#     x_train,\n",
    "#     y_train,\n",
    "#     batch_size=50,\n",
    "#     epochs=3,\n",
    "#     # We pass some validation for\n",
    "#     # monitoring validation loss and metrics\n",
    "#     # at the end of each epoch\n",
    "#     validation_data=(x_val, y_val),\n",
    "# )\n",
    "history = model.fit(\n",
    "    train_ds,\n",
    "    epochs=1,\n",
    "    # We pass some validation for\n",
    "    # monitoring validation loss and metrics\n",
    "    # at the end of each epoch\n",
    "    validation_data=val_ds,\n",
    "    verbose=1,\n",
    ")\n",
    "\n",
    "import datetime\n",
    "\n",
    "model.save(f\"models/baseline_{datetime.datetime.now().strftime('%Y_%m_%d-%I_%M_%S_%p')}.keras\")"
   ]
  },
  {
   "cell_type": "code",
   "execution_count": null,
   "metadata": {},
   "outputs": [],
   "source": [
    "# Evaluate the model on the test data using `evaluate`\n",
    "print(\"Evaluate on test data\")\n",
    "results = model.evaluate(x_test, y_test, batch_size=128)\n",
    "print(\"test loss, test acc:\", results)\n",
    "\n",
    "# Generate predictions (probabilities -- the output of the last layer)\n",
    "# on new data using `predict`\n",
    "print(\"Generate predictions for 3 samples\")\n",
    "predictions = model.predict(x_test[:3])\n",
    "print(\"predictions shape:\", predictions.shape)\n"
   ]
  }
 ],
 "metadata": {
  "kernelspec": {
   "display_name": ".venv",
   "language": "python",
   "name": "python3"
  },
  "language_info": {
   "codemirror_mode": {
    "name": "ipython",
    "version": 3
   },
   "file_extension": ".py",
   "mimetype": "text/x-python",
   "name": "python",
   "nbconvert_exporter": "python",
   "pygments_lexer": "ipython3",
   "version": "3.12.0"
  }
 },
 "nbformat": 4,
 "nbformat_minor": 2
}
